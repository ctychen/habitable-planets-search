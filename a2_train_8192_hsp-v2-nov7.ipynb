{
 "cells": [
  {
   "cell_type": "code",
   "execution_count": 2,
   "metadata": {},
   "outputs": [],
   "source": [
    "import numpy as np\n",
    "import matplotlib.pyplot as plt\n",
    "import os"
   ]
  },
  {
   "cell_type": "code",
   "execution_count": null,
   "metadata": {},
   "outputs": [],
   "source": []
  },
  {
   "cell_type": "code",
   "execution_count": 3,
   "metadata": {},
   "outputs": [],
   "source": [
    "np.random.seed(1337)\n",
    "from keras.models import Model\n",
    "from keras.layers import Dense, Input, Activation, Dropout, Flatten, Bidirectional\n",
    "from keras.layers import Convolution1D, MaxPooling1D, LSTM, BatchNormalization\n",
    "from keras.preprocessing.sequence import pad_sequences\n",
    "from keras import initializers\n",
    "from keras.utils import np_utils, to_categorical\n",
    "from keras.optimizers import RMSprop, Adam, SGD, Adadelta\n",
    "from keras import backend as K\n",
    "import tensorflow as tf\n",
    "import sys\n",
    "#import pickle\n",
    "import h5py\n",
    "from sklearn.model_selection import ShuffleSplit\n",
    "from sklearn.metrics import accuracy_score, f1_score, precision_score, recall_score,roc_auc_score\n",
    "from keras.callbacks import ModelCheckpoint, LearningRateScheduler, EarlyStopping,TensorBoard\n",
    "#from keras.models import model_from_json\n",
    "#import json\n",
    "from keras import regularizers\n",
    "#import matplotlib.pyplot as plt\n",
    "import os\n",
    "#import os.path\n",
    "import errno\n",
    "from livelossplot import PlotLossesKeras"
   ]
  },
  {
   "cell_type": "code",
   "execution_count": 4,
   "metadata": {},
   "outputs": [
    {
     "name": "stdout",
     "output_type": "stream",
     "text": [
      "\n",
      "Using hardware name = /gpu:0\n"
     ]
    }
   ],
   "source": [
    "# **Hardware Choices:**\n",
    "# \n",
    "# 0 = GPU 0\n",
    "# \n",
    "# 1 = GPU 1\n",
    "# \n",
    "# 2 = CPU\n",
    "\n",
    "# What is your hardware choice\n",
    "proc_hardware_choice = 0\n",
    "\n",
    "\n",
    "if proc_hardware_choice == 0:\n",
    "    proc_hardware_name = '/gpu:0'\n",
    "    \n",
    "elif proc_hardware_choice == 1:\n",
    "    proc_hardware_name = '/gpu:1'\n",
    "    \n",
    "elif proc_hardware_choice == 2:\n",
    "    proc_hardware_name = '/cpu:0'\n",
    "    os.environ['CUDA_VISIBLE_DEVICES'] = '-1'\n",
    "else:\n",
    "    print('ERROR: You didnt make a proper choice. Defaulting to CPU processing.')\n",
    "    proc_hardware_name = '/cpu:0'\n",
    "    \n",
    "print('\\nUsing hardware name =', proc_hardware_name)"
   ]
  },
  {
   "cell_type": "code",
   "execution_count": null,
   "metadata": {},
   "outputs": [],
   "source": []
  },
  {
   "cell_type": "code",
   "execution_count": null,
   "metadata": {},
   "outputs": [],
   "source": []
  },
  {
   "cell_type": "code",
   "execution_count": 5,
   "metadata": {},
   "outputs": [],
   "source": [
    "# The ML model\n",
    "def tatooine_new2(data_shape):\n",
    "\n",
    "    inputs = Input(shape=data_shape) #(X_train.shape[1], 1)\n",
    "\n",
    "    # Convolution layer 1 (input layer) #kernel size -> min feature size ( full dur of smallest transit, how many px is that)\n",
    "    layer = Convolution1D(filters=16, kernel_size=32, strides=1, kernel_initializer='glorot_uniform')(inputs)\n",
    "    layer = BatchNormalization()(layer)\n",
    "    layer = Activation('relu')(layer)\n",
    "\n",
    "    # Convolution layer 2\n",
    "    layer = Convolution1D(filters=16, kernel_size=32, strides=1, kernel_initializer='glorot_uniform')(layer)\n",
    "    layer = BatchNormalization()(layer)\n",
    "    layer = Activation('relu')(layer)\n",
    "\n",
    "    layer = MaxPooling1D(pool_size=8)(layer) # pool size something divisible \n",
    "    #mean pooling also an option, might help...use both.. concatenate max and mean pool results and pass that on \n",
    "\n",
    "    # Convolution layer 3\n",
    "    layer = Convolution1D(filters=32, kernel_size=32, strides=1, kernel_initializer='glorot_uniform')(layer)\n",
    "    layer = BatchNormalization()(layer)\n",
    "    layer = Activation('relu')(layer)\n",
    "\n",
    "    # Convolution layer 4\n",
    "    layer = Convolution1D(filters=32, kernel_size=32, strides=1, kernel_initializer='glorot_uniform')(layer)\n",
    "    layer = BatchNormalization()(layer)\n",
    "    layer = Activation('relu')(layer)\n",
    "\n",
    "    layer = MaxPooling1D(pool_size=8)(layer)\n",
    "        #mean pooling also an option, might help...use both.. concatenate max and mean pool results and pass that on \n",
    "\n",
    "    # Flatten convolution outputs\n",
    "    layer = Flatten()(layer)\n",
    "\n",
    "    # Dense layer 1\n",
    "    layer = Dense(512, kernel_initializer='glorot_uniform')(layer) #2048\n",
    "    layer = Activation('relu')(layer)\n",
    "#     layer = Dropout(0.5)(layer) # too much\n",
    "\n",
    "    # Dense layer 2\n",
    "    layer = Dense(512, kernel_initializer='glorot_uniform')(layer) #2048\n",
    "    layer = Activation('relu')(layer)\n",
    "#     layer = Dropout(0.5)(layer) # too much\n",
    "\n",
    "    # Output layer\n",
    "    layer = Dense(1)(layer)\n",
    "    layer = Activation('sigmoid')(layer)\n",
    "\n",
    "    return Model(inputs, layer)"
   ]
  },
  {
   "cell_type": "code",
   "execution_count": 6,
   "metadata": {},
   "outputs": [],
   "source": [
    "#################################\n",
    "###### User Options #############\n",
    "#################################\n",
    "test_data_plots_q = 1\n",
    "\n",
    "batch_size = 32\n",
    "epochs = 100\n",
    "data_dir = os.getcwd()\n",
    "log_dir = os.path.join(os.getcwd(), 'hsp_2_tb_logs_9')\n",
    "checkpoint_dir = os.path.join(os.getcwd(), 'hsp_2_tf_train_checkpoints_9')"
   ]
  },
  {
   "cell_type": "code",
   "execution_count": 6,
   "metadata": {},
   "outputs": [],
   "source": [
    "# If log_dir does not exist, create it\n",
    "if not os.path.isdir(log_dir):\n",
    "\n",
    "    os.mkdir(log_dir)\n",
    "\n",
    "# If checkpoint_dir does not exist, create it\n",
    "if not os.path.isdir(checkpoint_dir):\n",
    "\n",
    "    os.mkdir(checkpoint_dir)"
   ]
  },
  {
   "cell_type": "code",
   "execution_count": 7,
   "metadata": {},
   "outputs": [],
   "source": [
    "# lf = np.load('training_data_v1.npz')\n",
    "# lf = np.load('hsp_training_data_8192_v2.npz')\n",
    "lf = np.load('training_data/new_training_data_v3.npz')\n",
    "\n",
    "negative_matrix = lf['neg']\n",
    "#transits_clean = lf['transits_clean']\n",
    "positive_matrix = lf['transits']\n",
    "params = lf['params']"
   ]
  },
  {
   "cell_type": "code",
   "execution_count": 8,
   "metadata": {},
   "outputs": [
    {
     "data": {
      "text/plain": [
       "8192"
      ]
     },
     "execution_count": 8,
     "metadata": {},
     "output_type": "execute_result"
    }
   ],
   "source": [
    "test = positive_matrix[0]\n",
    "len(test)"
   ]
  },
  {
   "cell_type": "code",
   "execution_count": 9,
   "metadata": {},
   "outputs": [],
   "source": [
    "def mk_set(positive_matrix, negative_matrix):\n",
    "    \n",
    "    print(\"Creating X\")\n",
    "    \n",
    "    X_train = np.vstack((positive_matrix, negative_matrix))\n",
    "    \n",
    "    print(\"Creating Y\")\n",
    "\n",
    "    y_train = np.hstack((np.ones_like(positive_matrix[:,0]), np.zeros_like(negative_matrix[:,0])))\n",
    "\n",
    "    sidx = np.arange(X_train.shape[0])\n",
    "\n",
    "    np.random.shuffle(sidx)\n",
    "\n",
    "    X_train = X_train[sidx, :]\n",
    "    \n",
    "    print(\"Created X Train set\")\n",
    "\n",
    "    y_train = y_train[sidx]\n",
    "    \n",
    "    print(\"Created Y Train set\")\n",
    "    \n",
    "    return X_train, y_train"
   ]
  },
  {
   "cell_type": "code",
   "execution_count": 10,
   "metadata": {},
   "outputs": [
    {
     "name": "stdout",
     "output_type": "stream",
     "text": [
      "Creating X\n",
      "Creating Y\n",
      "Created X Train set\n",
      "Created Y Train set\n"
     ]
    }
   ],
   "source": [
    "X_test, y_test = mk_set(positive_matrix[:25000], negative_matrix[:25000])"
   ]
  },
  {
   "cell_type": "code",
   "execution_count": 11,
   "metadata": {},
   "outputs": [
    {
     "name": "stdout",
     "output_type": "stream",
     "text": [
      "Creating X\n",
      "Creating Y\n",
      "Created X Train set\n",
      "Created Y Train set\n"
     ]
    }
   ],
   "source": [
    "X_train, y_train = mk_set(positive_matrix[250000:], negative_matrix[250000:])\n",
    "# This works, don't change it otherwise you dead kernel"
   ]
  },
  {
   "cell_type": "code",
   "execution_count": 12,
   "metadata": {},
   "outputs": [
    {
     "name": "stdout",
     "output_type": "stream",
     "text": [
      "Created Y Test set\n",
      "Created X Test set\n"
     ]
    }
   ],
   "source": [
    "y_train = y_train.reshape((-1, 1))\n",
    "X_train = X_train.reshape((X_train.shape[0], X_train.shape[1], 1))\n",
    "\n",
    "y_test = y_test.reshape((-1, 1))\n",
    "print(\"Created Y Test set\")\n",
    "X_test = X_test.reshape((X_test.shape[0], X_test.shape[1], 1))\n",
    "print(\"Created X Test set\")"
   ]
  },
  {
   "cell_type": "code",
   "execution_count": null,
   "metadata": {},
   "outputs": [],
   "source": [
    "tf.keras.backend.clear_session() # Clears all saved model weights and the model!! CAREFUL!!"
   ]
  },
  {
   "cell_type": "code",
   "execution_count": 8,
   "metadata": {},
   "outputs": [
    {
     "name": "stdout",
     "output_type": "stream",
     "text": [
      "Model: \"functional_1\"\n",
      "_________________________________________________________________\n",
      "Layer (type)                 Output Shape              Param #   \n",
      "=================================================================\n",
      "input_1 (InputLayer)         [(None, 8192, 1)]         0         \n",
      "_________________________________________________________________\n",
      "conv1d (Conv1D)              (None, 8161, 16)          528       \n",
      "_________________________________________________________________\n",
      "batch_normalization (BatchNo (None, 8161, 16)          64        \n",
      "_________________________________________________________________\n",
      "activation (Activation)      (None, 8161, 16)          0         \n",
      "_________________________________________________________________\n",
      "conv1d_1 (Conv1D)            (None, 8130, 16)          8208      \n",
      "_________________________________________________________________\n",
      "batch_normalization_1 (Batch (None, 8130, 16)          64        \n",
      "_________________________________________________________________\n",
      "activation_1 (Activation)    (None, 8130, 16)          0         \n",
      "_________________________________________________________________\n",
      "max_pooling1d (MaxPooling1D) (None, 1016, 16)          0         \n",
      "_________________________________________________________________\n",
      "conv1d_2 (Conv1D)            (None, 985, 32)           16416     \n",
      "_________________________________________________________________\n",
      "batch_normalization_2 (Batch (None, 985, 32)           128       \n",
      "_________________________________________________________________\n",
      "activation_2 (Activation)    (None, 985, 32)           0         \n",
      "_________________________________________________________________\n",
      "conv1d_3 (Conv1D)            (None, 954, 32)           32800     \n",
      "_________________________________________________________________\n",
      "batch_normalization_3 (Batch (None, 954, 32)           128       \n",
      "_________________________________________________________________\n",
      "activation_3 (Activation)    (None, 954, 32)           0         \n",
      "_________________________________________________________________\n",
      "max_pooling1d_1 (MaxPooling1 (None, 119, 32)           0         \n",
      "_________________________________________________________________\n",
      "flatten (Flatten)            (None, 3808)              0         \n",
      "_________________________________________________________________\n",
      "dense (Dense)                (None, 512)               1950208   \n",
      "_________________________________________________________________\n",
      "activation_4 (Activation)    (None, 512)               0         \n",
      "_________________________________________________________________\n",
      "dense_1 (Dense)              (None, 512)               262656    \n",
      "_________________________________________________________________\n",
      "activation_5 (Activation)    (None, 512)               0         \n",
      "_________________________________________________________________\n",
      "dense_2 (Dense)              (None, 1)                 513       \n",
      "_________________________________________________________________\n",
      "activation_6 (Activation)    (None, 1)                 0         \n",
      "=================================================================\n",
      "Total params: 2,271,713\n",
      "Trainable params: 2,271,521\n",
      "Non-trainable params: 192\n",
      "_________________________________________________________________\n"
     ]
    }
   ],
   "source": [
    "# Show model summary\n",
    "#for i in np.arange(10):\n",
    "\n",
    "#print('training %s' % i)\n",
    "\n",
    "# model = tatooine_new2((X_train.shape[1], 1))\n",
    "\n",
    "model = tatooine_new2((8192, 1))\n",
    "model.summary()\n",
    "\n",
    "# model = tf.keras.models.load_model('hsp_big_model_v3_save1.hd5')\n",
    "# model.summary()\n",
    "# model.load_weights('hsp_big_model1_v3.hdf5')"
   ]
  },
  {
   "cell_type": "code",
   "execution_count": 14,
   "metadata": {},
   "outputs": [],
   "source": [
    "# Train and test the model\n",
    "\n",
    "# Set optimization options\n",
    "#optimization = Adam(lr=0.001, beta_1=0.9, beta_2=0.999, epsilon=None, decay=0.0, amsgrad=False)\n",
    "#optimization = Adam(lr=0.001, beta_1=0.9, beta_2=0.999, decay=0.005, amsgrad=False)\n",
    "#optimization = SGD(lr=0.001, decay=1e-6, momentum=0.9, nesterov=True)\n",
    "optimization = Adam(lr=1e-6)\n",
    "\n",
    "# Compile the model\n",
    "model.compile(loss='binary_crossentropy', optimizer=optimization, metrics=['accuracy'])\n",
    "\n",
    "# Set early stopping (training) options\n",
    "early_stopping = EarlyStopping(monitor='val_loss', patience=7, verbose=1, mode='auto')\n",
    "\n",
    "# Setup training checkpoint options\n",
    "# model_checkpoint = ModelCheckpoint('model1.hdf5', monitor='val_loss', save_best_only=True)\n",
    "model_checkpoint = ModelCheckpoint('hsp_big_model1_v9.hdf5', monitor='val_loss', save_best_only=True)\n",
    "\n",
    "callbacks = [model_checkpoint, PlotLossesKeras()]"
   ]
  },
  {
   "cell_type": "code",
   "execution_count": 15,
   "metadata": {
    "scrolled": false
   },
   "outputs": [
    {
     "data": {
      "image/png": "[encoded data removed]",
      "text/plain": [
       "<Figure size 864x576 with 2 Axes>"
      ]
     },
     "metadata": {
      "needs_background": "light"
     },
     "output_type": "display_data"
    },
    {
     "name": "stdout",
     "output_type": "stream",
     "text": [
      "accuracy\n",
      "\ttraining         \t (min:    0.762, max:    0.990, cur:    0.990)\n",
      "\tvalidation       \t (min:    0.598, max:    0.971, cur:    0.832)\n",
      "Loss\n",
      "\ttraining         \t (min:    0.032, max:    0.479, cur:    0.032)\n",
      "\tvalidation       \t (min:    0.094, max:    3.893, cur:    0.855)\n",
      "2188/2188 [==============================] - 31s 14ms/step - loss: 0.0319 - accuracy: 0.9904 - val_loss: 0.8549 - val_accuracy: 0.8322\n"
     ]
    }
   ],
   "source": [
    "with tf.device(proc_hardware_name):\n",
    "\n",
    "    # Begin Training\n",
    "    model.fit(X_train, y_train,\n",
    "              batch_size=batch_size,\n",
    "              epochs=epochs,\n",
    "              validation_split=0.3,\n",
    "              shuffle=True,\n",
    "              callbacks=callbacks)"
   ]
  },
  {
   "cell_type": "code",
   "execution_count": 16,
   "metadata": {},
   "outputs": [
    {
     "name": "stdout",
     "output_type": "stream",
     "text": [
      "WARNING:tensorflow:From /opt/anaconda3/bin/tensorflow/python/training/tracking/tracking.py:111: Model.state_updates (from tensorflow.python.keras.engine.training) is deprecated and will be removed in a future version.\n",
      "Instructions for updating:\n",
      "This property should not be used in TensorFlow 2.0, as updates are applied automatically.\n",
      "WARNING:tensorflow:From /opt/anaconda3/bin/tensorflow/python/training/tracking/tracking.py:111: Layer.updates (from tensorflow.python.keras.engine.base_layer) is deprecated and will be removed in a future version.\n",
      "Instructions for updating:\n",
      "This property should not be used in TensorFlow 2.0, as updates are applied automatically.\n",
      "INFO:tensorflow:Assets written to: hsp_big_model_v9_save1.hd5/assets\n"
     ]
    }
   ],
   "source": [
    "# model.save('model_v1_save1.hd5')\n",
    "model.save('hsp_big_model_v9_save1.hd5')"
   ]
  },
  {
   "cell_type": "code",
   "execution_count": 17,
   "metadata": {},
   "outputs": [],
   "source": [
    "model = tf.keras.models.load_model('hsp_big_model_v9_save1.hd5')"
   ]
  },
  {
   "cell_type": "code",
   "execution_count": 9,
   "metadata": {},
   "outputs": [],
   "source": [
    "# model.load_weights('model1.hdf5')\n",
    "model.load_weights('hsp_big_model1_v9.hdf5')"
   ]
  },
  {
   "cell_type": "code",
   "execution_count": null,
   "metadata": {},
   "outputs": [],
   "source": [
    "# len(y_pred)"
   ]
  },
  {
   "cell_type": "code",
   "execution_count": 19,
   "metadata": {},
   "outputs": [
    {
     "name": "stdout",
     "output_type": "stream",
     "text": [
      "0.97182\n",
      "0.9909677419354839\n",
      "0.95232\n",
      "0.9712595614482408\n",
      "0.97182\n"
     ]
    }
   ],
   "source": [
    "# Test the accuracy of the model\n",
    "y_pred = model.predict(X_test)\n",
    "# y_pred = np.around(y_pred)\n",
    "\n",
    "#print(y_pred.round())\n",
    "#print(y_test)\n",
    "print(accuracy_score(y_test, y_pred.round()) )\n",
    "print(precision_score(y_test, y_pred.round()) )\n",
    "print(recall_score(y_test, y_pred.round()) )\n",
    "print(f1_score(y_test, y_pred.round()) )\n",
    "print(roc_auc_score(y_test, y_pred.round()) )"
   ]
  },
  {
   "cell_type": "code",
   "execution_count": 21,
   "metadata": {},
   "outputs": [],
   "source": [
    "from sklearn.metrics import confusion_matrix\n",
    "import itertools"
   ]
  },
  {
   "cell_type": "code",
   "execution_count": 22,
   "metadata": {},
   "outputs": [
    {
     "name": "stdout",
     "output_type": "stream",
     "text": [
      "50000\n",
      "50000\n",
      "<class 'numpy.ndarray'>\n"
     ]
    }
   ],
   "source": [
    "cm = confusion_matrix(y_true=y_test, y_pred=np.around(y_pred))\n",
    "print(len(y_test))\n",
    "print(len(y_pred))\n",
    "print(type(y_pred))"
   ]
  },
  {
   "cell_type": "code",
   "execution_count": 23,
   "metadata": {},
   "outputs": [],
   "source": [
    "from mpl_toolkits import mplot3d\n",
    "\n",
    "\n",
    "def plot_confusion_matrix(cm, classes,\n",
    "                        normalize=False,\n",
    "                        title='Confusion matrix',\n",
    "                        cmap=plt.cm.Blues):\n",
    "    \"\"\"\n",
    "    This function prints and plots the confusion matrix.\n",
    "    Normalization can be applied by setting `normalize=True`.\n",
    "    \"\"\"\n",
    "    plt.figure()\n",
    "    plt.imshow(cm, interpolation='nearest', cmap=cmap)\n",
    "    plt.title(title)\n",
    "    plt.colorbar()\n",
    "    tick_marks = np.arange(len(classes))\n",
    "    plt.xticks(tick_marks, classes, rotation=45)\n",
    "    plt.yticks(tick_marks, classes)\n",
    "\n",
    "    if normalize:\n",
    "        cm = cm.astype('float') / cm.sum(axis=1)[:, np.newaxis]\n",
    "        print(\"Normalized confusion matrix\")\n",
    "    else:\n",
    "        print('Confusion matrix, without normalization')\n",
    "\n",
    "    print(cm)\n",
    "\n",
    "    thresh = cm.max() / 2.\n",
    "    for i, j in itertools.product(range(cm.shape[0]), range(cm.shape[1])):\n",
    "        plt.text(j, i, cm[i, j],\n",
    "            horizontalalignment=\"center\",\n",
    "            color=\"white\" if cm[i, j] > thresh else \"black\")\n",
    "\n",
    "    plt.tight_layout()\n",
    "    plt.ylabel('True label')\n",
    "    plt.xlabel('Predicted label')\n",
    "    plt.show()\n",
    "    \n"
   ]
  },
  {
   "cell_type": "code",
   "execution_count": 24,
   "metadata": {},
   "outputs": [],
   "source": [
    "cm_plot_labels = ['No','Yes']"
   ]
  },
  {
   "cell_type": "code",
   "execution_count": 26,
   "metadata": {},
   "outputs": [
    {
     "name": "stdout",
     "output_type": "stream",
     "text": [
      "Confusion matrix, without normalization\n",
      "[[24783   217]\n",
      " [ 1192 23808]]\n"
     ]
    },
    {
     "data": {
      "image/png": "[encoded data removed]",
      "text/plain": [
       "<Figure size 432x288 with 2 Axes>"
      ]
     },
     "metadata": {
      "needs_background": "light"
     },
     "output_type": "display_data"
    }
   ],
   "source": [
    "plot_confusion_matrix(cm=cm, classes=cm_plot_labels, title='Confusion Matrix')"
   ]
  },
  {
   "cell_type": "code",
   "execution_count": null,
   "metadata": {
    "scrolled": true
   },
   "outputs": [],
   "source": [
    "import random\n",
    "\n",
    "if 1:\n",
    "\n",
    "#     sp_cnt = 3\n",
    "    sp_cnt = 4\n",
    "\n",
    "    ip = ''\n",
    "\n",
    "#     print(np.shape(X_train), np.shape(y_train), np.shape(y_pred))\n",
    "    print(np.shape(X_test), np.shape(y_test), np.shape(y_pred))\n",
    "\n",
    "#     ind_arr = list(range(len(y_train)))\n",
    "    ind_arr = list(range(len(y_test)))\n",
    "    random.shuffle(ind_arr)\n",
    "    i = 0\n",
    "#     while ip != 'x':\n",
    "    for i in range(10):\n",
    "        #was 15,4\n",
    "#         plt.figure(10, figsize=(9,4.5))\n",
    "        plt.figure(10, figsize=(15,20))\n",
    "        plt.clf()\n",
    "\n",
    "        for spi in np.arange(sp_cnt):\n",
    "            plt.subplot(sp_cnt, 1, spi + 1)\n",
    "#             plt.plot(X_train[ind_arr[i+spi], :], '.k')\n",
    "#             plt.title('Has planet? ' + str(y_train[ind_arr[i+spi]]) + ' | Prediction? ' + str(y_pred[ind_arr[i+spi]]))\n",
    "                #plt.ylim(0.990, 1.001)\n",
    "            plt.plot(X_test[ind_arr[i+spi], :], '.k')\n",
    "            plt.title('Has planet? ' + str(y_test[ind_arr[i+spi]]) + ' | Prediction? ' + str(y_pred[ind_arr[i+spi]]))\n",
    "\n",
    "        plt.subtitle('(Synthetic) Test data')\n",
    "        plt.show()\n",
    "#         i = i + 3\n",
    "        i = i + 2\n",
    "#         ip = input('Press \"x\" to stop plotting or enter to show more   ')\n"
   ]
  },
  {
   "cell_type": "code",
   "execution_count": 28,
   "metadata": {
    "scrolled": false
   },
   "outputs": [
    {
     "name": "stdout",
     "output_type": "stream",
     "text": [
      "(50000, 8192, 1)\n",
      "50000\n",
      "50000\n",
      "0\n",
      "20000\n",
      "40000\n"
     ]
    }
   ],
   "source": [
    "ind_arr = list(range(len(y_test)))\n",
    "print(X_test.shape)\n",
    "print(len(y_pred))\n",
    "print(len(y_test))\n",
    "for j in range(len(y_test)):\n",
    "    if (np.mod(j, 20000) == 0):\n",
    "        print(j)\n",
    "#         plt.figure(10, figsize=(15,9))\n",
    "#         plt.plot(X_train[ind_arr[j], :], '.r')\n",
    "#         plt.title('Has planet? ' + str(y_test[ind_arr[j]]) + ' | Prediction? ' + str(y_pred[ind_arr[j]]))\n",
    "#         plt.show()\n",
    "#     if (y_test[ind_arr[j]] != y_pred[ind_arr[j]]):\n",
    "#         plt.figure(10, figsize=(15,9))\n",
    "#         plt.plot(X_test[ind_arr[j], :], '.k')\n",
    "#         plt.title('Has planet? ' + str(y_test[ind_arr[j]]) + ' | Prediction? ' + str(y_pred[ind_arr[j]]))\n",
    "#         plt.show()\n",
    "    if (y_test[ind_arr[j]] != np.around(y_pred[ind_arr[j]])):\n",
    "        plt.figure(10, figsize=(15,9))\n",
    "        plt.plot(X_test[ind_arr[j], :], '.k')\n",
    "        plt.title('Has planet? ' + str(y_test[ind_arr[j]]) + ' | Prediction? ' + str(y_pred[ind_arr[j]]))\n",
    "#         plt.show()\n",
    "        plt.savefig('/media/rd3/cchen/cchen/kepler_ml_v3/training_figs/nov7/training_fails/' + 'predicted_' + str(y_pred[ind_arr[j]]) + 'actual_'+ str(y_test[ind_arr[j]]) + '.png')\n",
    "        plt.close()\n",
    "    \n"
   ]
  },
  {
   "cell_type": "code",
   "execution_count": null,
   "metadata": {},
   "outputs": [],
   "source": [
    "# # for i in range(len(y_test)):\n",
    "    \n",
    "\n",
    "\n",
    "# plt.figure()\n",
    "# ax = plt.axes(projection='3d')\n",
    "# zdata = 15 * np.random.random(100)\n",
    "# xdata = y_test\n",
    "# ydata = y_pred\n",
    "# ax.scatter3D(xdata, ydata, zdata, c=zdata, cmap='Blues');"
   ]
  },
  {
   "cell_type": "code",
   "execution_count": 10,
   "metadata": {},
   "outputs": [],
   "source": [
    "import pandas as pd\n",
    "# hsps = pd.read_excel(\"hsp_60_400_days_v2.xlsx\")\n",
    "hsps = pd.read_excel(\"hsps_100_200_days.xlsx\")\n",
    "\n",
    "# hsp_kic = hsps['kic']\n",
    "# hsp_per = hsps['period (d)']\n",
    "# hsp_dur = hsps['transit_dur (h)']\n",
    "# hsp_depth = hsps['transit_depth (ppm)']\n",
    "kid_list = hsps['kic']\n",
    "\n",
    "save_dir = '/media/rd3/cchen/cchen/hsp_gpu_fold/hsp_100to200/'"
   ]
  },
  {
   "cell_type": "code",
   "execution_count": 11,
   "metadata": {},
   "outputs": [],
   "source": [
    "# def load_folds(kid, save_dir, bin_cnt=8192):\n",
    "    \n",
    "#     fn = 'data_' + str(kid) + '_hps.bin'\n",
    "    \n",
    "#     fp = os.path.join(save_dir, fn)\n",
    "    \n",
    "#     print(np.fromfile(fp, dtype='double'))\n",
    "    \n",
    "#     return np.fromfile(fp, dtype='double').reshape(38400, bin_cnt)\n",
    "\n",
    "# #def "
   ]
  },
  {
   "cell_type": "code",
   "execution_count": null,
   "metadata": {},
   "outputs": [],
   "source": [
    "# Test individual target\n",
    "\n",
    "i = 0\n",
    "\n",
    "kid = kid_list.iloc[i]\n",
    "\n",
    "lcf = load_folds(kid, save_dir)\n",
    "# print(len(lcf))"
   ]
  },
  {
   "cell_type": "code",
   "execution_count": null,
   "metadata": {},
   "outputs": [],
   "source": [
    "np.shape(lcf)"
   ]
  },
  {
   "cell_type": "code",
   "execution_count": null,
   "metadata": {},
   "outputs": [],
   "source": [
    "np.shape(X_test)"
   ]
  },
  {
   "cell_type": "code",
   "execution_count": null,
   "metadata": {},
   "outputs": [],
   "source": [
    "#y_test = y_test.reshape((-1, 1))\n",
    "\n",
    "lcf_test = lcf.reshape((lcf.shape[0], lcf.shape[1], 1))"
   ]
  },
  {
   "cell_type": "code",
   "execution_count": null,
   "metadata": {},
   "outputs": [],
   "source": [
    "np.shape(lcf_test)"
   ]
  },
  {
   "cell_type": "code",
   "execution_count": null,
   "metadata": {},
   "outputs": [],
   "source": [
    "y_pred0 = model.predict(lcf_test)\n",
    "y_pred = np.around(y_pred0)"
   ]
  },
  {
   "cell_type": "code",
   "execution_count": null,
   "metadata": {},
   "outputs": [],
   "source": [
    "plt.figure()\n",
    "plt.plot(y_pred0, '.k')"
   ]
  },
  {
   "cell_type": "markdown",
   "metadata": {},
   "source": [
    "# Test on real data (106 USPs, GPU folded)"
   ]
  },
  {
   "cell_type": "code",
   "execution_count": null,
   "metadata": {},
   "outputs": [],
   "source": [
    "# import pandas as pd\n",
    "\n",
    "# df = pd.read_csv('/media/rd1/TESS/Kevin_Code/Folding_106_Lightcurves/106_Kepler_USP_Characteristics.csv')\n",
    "\n",
    "# df\n",
    "import pandas as pd\n",
    "hsps = pd.read_excel(\"hsp_60_400_days_v2.xlsx\")\n",
    "# hsp_kic = hsps['kic']\n",
    "# hsp_per = hsps['period (d)']\n",
    "# hsp_dur = hsps['transit_dur (h)']\n",
    "# hsp_depth = hsps['transit_depth (ppm)']\n",
    "kid_list = hsps['kic']\n",
    "\n"
   ]
  },
  {
   "cell_type": "code",
   "execution_count": 12,
   "metadata": {},
   "outputs": [],
   "source": [
    "def load_folds(kid, save_dir, bin_cnt=8192):\n",
    "    \n",
    "    fn = 'data_' + str(kid) + '_hps.bin'\n",
    "    \n",
    "    fp = os.path.join(save_dir, fn)\n",
    "    \n",
    "    print(np.fromfile(fp, dtype='double'))\n",
    "    \n",
    "#     return np.fromfile(fp, dtype='double').reshape(38400, bin_cnt)\n",
    "    return np.fromfile(fp, dtype='double').reshape(44000, bin_cnt)\n"
   ]
  },
  {
   "cell_type": "code",
   "execution_count": 13,
   "metadata": {},
   "outputs": [],
   "source": [
    "# save_dir = '/media/rd1/kwillis/kepler_ml/kepler_ml_v3/lc_folds'\n",
    "save_dir = '/media/rd3/cchen/cchen/hsp_gpu_fold/hsp_100to200/'"
   ]
  },
  {
   "cell_type": "code",
   "execution_count": null,
   "metadata": {},
   "outputs": [],
   "source": []
  },
  {
   "cell_type": "code",
   "execution_count": null,
   "metadata": {},
   "outputs": [],
   "source": [
    "# Test individual target\n",
    "\n",
    "i = 0\n",
    "\n",
    "kid = kid_list.iloc[i]\n",
    "\n",
    "lcf = load_folds(kid, save_dir)\n",
    "# print(len(lcf))"
   ]
  },
  {
   "cell_type": "code",
   "execution_count": null,
   "metadata": {},
   "outputs": [],
   "source": [
    "np.shape(lcf)"
   ]
  },
  {
   "cell_type": "code",
   "execution_count": null,
   "metadata": {},
   "outputs": [],
   "source": [
    "np.shape(X_test)"
   ]
  },
  {
   "cell_type": "code",
   "execution_count": null,
   "metadata": {},
   "outputs": [],
   "source": [
    "#y_test = y_test.reshape((-1, 1))\n",
    "\n",
    "lcf_test = lcf.reshape((lcf.shape[0], lcf.shape[1], 1))"
   ]
  },
  {
   "cell_type": "code",
   "execution_count": null,
   "metadata": {},
   "outputs": [],
   "source": [
    "np.shape(lcf_test)"
   ]
  },
  {
   "cell_type": "code",
   "execution_count": null,
   "metadata": {},
   "outputs": [],
   "source": [
    "y_pred0 = model.predict(lcf_test)\n",
    "# y_pred = np.around(y_pred0)"
   ]
  },
  {
   "cell_type": "code",
   "execution_count": null,
   "metadata": {},
   "outputs": [],
   "source": [
    "plt.figure()\n",
    "#plt.title('P='+str(p) + ' | KID ' + str(kid))\n",
    "plt.plot(y_pred0, '.k')"
   ]
  },
  {
   "cell_type": "code",
   "execution_count": null,
   "metadata": {},
   "outputs": [],
   "source": [
    "kid"
   ]
  },
  {
   "cell_type": "code",
   "execution_count": null,
   "metadata": {},
   "outputs": [],
   "source": [
    "plt.figure()\n",
    "plt.plot(lcf[1000,:], '-k')\n",
    "plt.plot(lcf[999,:], '.r', alpha=0.3)"
   ]
  },
  {
   "cell_type": "code",
   "execution_count": null,
   "metadata": {},
   "outputs": [],
   "source": [
    "r1 = np.random.randint(0, len(y_test))\n",
    "r2 = np.random.randint(0, len(y_test))\n",
    "\n",
    "plt.figure()\n",
    "plt.plot(X_test[r1,:, 0], '-k', label=str(y_test[r1]))\n",
    "plt.plot(X_test[r2,:, 0], '-r', label=str(y_test[r2]))\n",
    "plt.legend()"
   ]
  },
  {
   "cell_type": "code",
   "execution_count": null,
   "metadata": {},
   "outputs": [],
   "source": [
    "plt.figure()\n",
    "#plt.title('P='+str(p) + ' | KID ' + str(kid))\n",
    "plt.plot(y_pred0, '.k')\n",
    "\n",
    "plt.axhline(np.std(y_pred0) * 10 + np.mean(y_pred0))"
   ]
  },
  {
   "cell_type": "code",
   "execution_count": null,
   "metadata": {},
   "outputs": [],
   "source": [
    "gi = y_pred0 <= np.std(y_pred0) * 2 + np.mean(y_pred0)\n",
    "\n",
    "gii = np.argwhere(gi)[:,0]\n",
    "\n",
    "yp = y_pred0[gi]\n",
    "\n",
    "gii"
   ]
  },
  {
   "cell_type": "code",
   "execution_count": null,
   "metadata": {},
   "outputs": [],
   "source": [
    "si = np.flip(np.argsort(yp))\n",
    "\n",
    "gii_si = gii[si]"
   ]
  },
  {
   "cell_type": "code",
   "execution_count": null,
   "metadata": {},
   "outputs": [],
   "source": [
    "plt.figure()\n",
    "plt.plot(lcf[gii_si[0],:], '-k')"
   ]
  },
  {
   "cell_type": "code",
   "execution_count": 14,
   "metadata": {},
   "outputs": [],
   "source": [
    "# # period_search_array = np.linspace(0.01, 1.0, 100000)\n",
    "# period_search_array = np.linspace(100, 500, 38400)\n",
    "period_search_array = np.linspace(100, 200, 44000)"
   ]
  },
  {
   "cell_type": "code",
   "execution_count": null,
   "metadata": {},
   "outputs": [],
   "source": [
    "period_search_array[gii_si[0]]"
   ]
  },
  {
   "cell_type": "code",
   "execution_count": null,
   "metadata": {},
   "outputs": [],
   "source": [
    "p = hsps['period (d)'].iloc[i] #df['Period'].iloc[i]\n",
    "\n",
    "i, p"
   ]
  },
  {
   "cell_type": "code",
   "execution_count": null,
   "metadata": {},
   "outputs": [],
   "source": [
    "p = hsps['period (d)'].iloc[i] #df['Period'].iloc[i]\n",
    "\n",
    "# phs = np.arange(0.0, 1.0 / p + 0.5, 0.5)\n",
    "phs = np.arange(100.0, 500.0 / p + 250.0, 250.0)"
   ]
  },
  {
   "cell_type": "code",
   "execution_count": null,
   "metadata": {},
   "outputs": [],
   "source": [
    "# phs = np.arange(0.0, 1.0 / p + 0.5, 0.5)\n",
    "\n",
    "phs"
   ]
  },
  {
   "cell_type": "code",
   "execution_count": 15,
   "metadata": {},
   "outputs": [],
   "source": [
    "%matplotlib notebook"
   ]
  },
  {
   "cell_type": "code",
   "execution_count": null,
   "metadata": {},
   "outputs": [],
   "source": [
    "# p, np.arange(0.0, 1.0 / p + 0.5, 0.5), phs"
   ]
  },
  {
   "cell_type": "code",
   "execution_count": null,
   "metadata": {},
   "outputs": [],
   "source": [
    "xx = np.arange(len(y_pred0))\n",
    "\n",
    "plt.figure()\n",
    "#plt.title('P='+str(p) + ' | KID ' + str(kid))\n",
    "plt.plot(period_search_array, y_pred0, '.k')\n",
    "\n",
    "# phs = np.arange(0.0, 1.0 / p + 0.5, 0.5) * p\n",
    "phs = np.arange(100, 500 / p + 250, 250) * p\n",
    "\n",
    "for ph in phs:\n",
    "    \n",
    "    bv = np.argmin(np.abs(period_search_array - ph))\n",
    "    \n",
    "    plt.plot(period_search_array[bv], y_pred0[bv], '*r')\n",
    "\n",
    "plt.axhline(np.std(y_pred0) * 3 + np.mean(y_pred0))"
   ]
  },
  {
   "cell_type": "code",
   "execution_count": null,
   "metadata": {},
   "outputs": [],
   "source": [
    "i = 0\n",
    "\n",
    "bv = gii_si[i]\n",
    "\n",
    "plt.figure()\n",
    "plt.subplot(2,1,1)\n",
    "plt.title('p fold = ' + str(period_search_array[bv]) + ' | p diff = ' + str(period_search_array[bv] - p) + ' | p div = ' + str(period_search_array[bv] / p))\n",
    "plt.plot(np.roll(lcf[bv,:], 120), '-k')\n",
    "\n",
    "plt.subplot(2,1,2)\n",
    "plt.plot(period_search_array, y_pred0, '.k')\n",
    "plt.plot(period_search_array[bv], y_pred0[bv], '*r')"
   ]
  },
  {
   "cell_type": "code",
   "execution_count": null,
   "metadata": {
    "scrolled": false
   },
   "outputs": [],
   "source": [
    "\n",
    "for i in range(5):\n",
    "\n",
    "    bv = gii_si[i]\n",
    "\n",
    "    plt.figure()\n",
    "    plt.subplot(2,1,1)\n",
    "    plt.title('p fold = ' + str(period_search_array[bv]) + ' | p diff = ' + str(period_search_array[bv] - p) + ' | p div = ' + str(period_search_array[bv] / p))\n",
    "    plt.plot(lcf[bv,:], '-k')\n",
    "\n",
    "    plt.subplot(2,1,2)\n",
    "    plt.plot(period_search_array, y_pred0, '.k')\n",
    "    plt.plot(period_search_array[bv], y_pred0[bv], '*r')"
   ]
  },
  {
   "cell_type": "code",
   "execution_count": 16,
   "metadata": {},
   "outputs": [],
   "source": [
    "def nstr(s):\n",
    "    \n",
    "    return str(np.around(s, 5))"
   ]
  },
  {
   "cell_type": "code",
   "execution_count": null,
   "metadata": {},
   "outputs": [],
   "source": [
    "bv = np.argmin(np.abs(period_search_array - p))\n",
    "    \n",
    "plt.figure()\n",
    "plt.subplot(2,1,1)\n",
    "plt.title('p actual = ' + nstr(p) + ' | p fold = ' + nstr(period_search_array[bv]) + ' | p diff = ' + nstr(period_search_array[bv] - p) + ' | p div = ' + nstr(period_search_array[bv] / p))\n",
    "plt.plot(lcf[bv,:], '-k')\n",
    "\n",
    "plt.subplot(2,1,2)\n",
    "plt.plot(period_search_array, y_pred0, '.k')\n",
    "plt.plot(period_search_array[bv], y_pred0[bv], '*r')"
   ]
  },
  {
   "cell_type": "code",
   "execution_count": null,
   "metadata": {
    "scrolled": false
   },
   "outputs": [],
   "source": [
    "for ph in phs:\n",
    "    \n",
    "    bv = np.argmin(np.abs(period_search_array - ph))\n",
    "    \n",
    "    plt.figure()\n",
    "    plt.title('p fold = ' + nstr(period_search_array[bv]) + ' | p diff = ' + nstr(period_search_array[bv] - p) + ' | p div = ' + nstr(period_search_array[bv] / p))\n",
    "    plt.plot(lcf[bv,:], '-k')"
   ]
  },
  {
   "cell_type": "code",
   "execution_count": null,
   "metadata": {},
   "outputs": [],
   "source": []
  },
  {
   "cell_type": "code",
   "execution_count": null,
   "metadata": {},
   "outputs": [],
   "source": [
    "import pickle\n",
    "\n",
    "pickle_in = open('/media/rd1/TESS/Kevin_Code/Folding_106_Lightcurves/106_Normalized.pickle', 'rb')\n",
    "lcs = pickle.load(pickle_in)"
   ]
  },
  {
   "cell_type": "code",
   "execution_count": null,
   "metadata": {},
   "outputs": [],
   "source": []
  },
  {
   "cell_type": "code",
   "execution_count": null,
   "metadata": {},
   "outputs": [],
   "source": [
    "def signal(time_array, flux, period_id, t0=0.0, num_bins=8192):\n",
    "\n",
    "    from kepler_utils import phase_fold_time, global_view\n",
    "    \n",
    "    time_array = phase_fold_time(time_array, period_id, t0)\n",
    "    sorted_i = np.argsort(time_array)\n",
    "    time_array = time_array[sorted_i]\n",
    "    flux = flux[sorted_i]\n",
    "\n",
    "    global_view = global_view(time_array, flux, period_id, num_bins=num_bins)\n",
    "    \n",
    "    t = np.linspace(np.min(time_array), np.max(time_array), num_bins)\n",
    "\n",
    "    return t, global_view"
   ]
  },
  {
   "cell_type": "code",
   "execution_count": null,
   "metadata": {},
   "outputs": [],
   "source": [
    "i = 0\n",
    "\n",
    "t = lcs[i][1][:]\n",
    "f = lcs[i][0][:]\n",
    "\n",
    "# p = df['Period'].iloc[i]\n",
    "# kid = df['KIC ID'].iloc[i]\n",
    "# sps = pd.read_excel(\"hsp_60_400_days_v2.xlsx\")\n",
    "# hsp_kic = hsps['kic']\n",
    "# hsp_per = hsps['period (d)']\n",
    "# hsp_dur = hsps['transit_dur (h)']\n",
    "# hsp_depth = hsps['transit_depth (ppm)']\n",
    "kid = hsps['kic'].iloc[i]\n",
    "p = hsp['period (d)'].iloc[i]\n",
    "\n",
    "tf, ff = signal(t, f, p.iloc[0], 0.0, num_bins=8192)"
   ]
  },
  {
   "cell_type": "code",
   "execution_count": null,
   "metadata": {},
   "outputs": [],
   "source": [
    "plt.figure()\n",
    "plt.plot(tf, ff, '.k')"
   ]
  },
  {
   "cell_type": "code",
   "execution_count": null,
   "metadata": {},
   "outputs": [],
   "source": [
    "np.shape(ff)"
   ]
  },
  {
   "cell_type": "code",
   "execution_count": null,
   "metadata": {},
   "outputs": [],
   "source": [
    "# ff_test = ff.reshape((1, 256, 1))\n",
    "ff_test = ff.reshape((1, 8192, 1))"
   ]
  },
  {
   "cell_type": "code",
   "execution_count": null,
   "metadata": {},
   "outputs": [],
   "source": [
    "y_spred0 = model.predict(ff_test)\n",
    "y_spred = np.around(y_spred0)\n",
    "\n",
    "y_spred0, y_spred"
   ]
  },
  {
   "cell_type": "code",
   "execution_count": null,
   "metadata": {},
   "outputs": [],
   "source": []
  },
  {
   "cell_type": "code",
   "execution_count": null,
   "metadata": {},
   "outputs": [],
   "source": [
    "def proc_target(i):\n",
    "\n",
    "#     kid = df['KIC ID'].iloc[i]\n",
    "    kid = hsps['kic'].iloc[i]\n",
    "\n",
    "#     fig_save_dir = os.path.join('/media/rd1/kwillis/kepler_ml/kepler_ml_v3/model_real_results', 'kic_' + str(kid))\n",
    "    fig_save_dir = os.path.join('/media/rd3/cchen/cchen/kepler_ml_v3/model_real_results', 'kic_' + str(kid))\n",
    "\n",
    "    os.makedirs(fig_save_dir, exist_ok=1)\n",
    "    \n",
    "    pred_fp = os.path.join(fig_save_dir, 'model_preds.npz')\n",
    "    \n",
    "    if not os.path.isfile(pred_fp):\n",
    "\n",
    "        lcf = load_folds(kid, save_dir)\n",
    "\n",
    "        lcf_test = lcf.reshape((lcf.shape[0], lcf.shape[1], 1))\n",
    "\n",
    "        y_pred0 = model.predict(lcf_test)\n",
    "        y_pred = np.around(y_pred0)\n",
    "\n",
    "        np.savez(pred_fp, y_pred0=y_pred0)"
   ]
  },
  {
   "cell_type": "code",
   "execution_count": null,
   "metadata": {},
   "outputs": [],
   "source": [
    "for i in range(0, len(hsps)):\n",
    "    \n",
    "    print(i)\n",
    "\n",
    "    proc_target(i)"
   ]
  },
  {
   "cell_type": "code",
   "execution_count": null,
   "metadata": {},
   "outputs": [],
   "source": [
    "print(len(hsps))"
   ]
  },
  {
   "cell_type": "code",
   "execution_count": 32,
   "metadata": {},
   "outputs": [],
   "source": [
    "# Test individual target\n",
    "\n",
    "i = 0\n",
    "scores = np.empty(len(hsps))\n",
    "from scipy.signal import find_peaks\n",
    "\n",
    "save_dir = '/media/rd3/cchen/cchen/hsp_gpu_fold/hsp_100to200/'\n",
    "\n",
    "def run_target(i):\n",
    "\n",
    "#     kid = df['KIC ID'].iloc[i]\n",
    "    kid = hsps['kic'].iloc[i]\n",
    "\n",
    "#     fig_save_dir = os.path.join('/media/rd1/kwillis/kepler_ml/kepler_ml_v3/model_real_results', 'kic_' + str(kid))\n",
    "    fig_save_dir = os.path.join('/media/rd3/cchen/cchen/kepler_ml_v3/hsp_model_real_results_v4', 'kic_' + str(kid))\n",
    "\n",
    "    os.makedirs(fig_save_dir, exist_ok=1)\n",
    "    \n",
    "    pred_fp = os.path.join(fig_save_dir, 'model_preds.npz')\n",
    "    \n",
    "#     if not os.path.isfile(pred_fp):\n",
    "\n",
    "#         lcf = load_folds(kid, save_dir)\n",
    "\n",
    "#         lcf_test = lcf.reshape((lcf.shape[0], lcf.shape[1], 1))\n",
    "\n",
    "#         y_pred0 = model.predict(lcf_test)\n",
    "#         y_pred = np.around(y_pred0)\n",
    "\n",
    "#         np.savez(pred_fp, y_pred0=y_pred0)\n",
    "    \n",
    "#     else:\n",
    "        \n",
    "#         y_pred0 = np.load(pred_fp)['y_pred0']\n",
    "        \n",
    "    lcf = load_folds(kid, save_dir)\n",
    "\n",
    "    lcf_test = lcf.reshape((lcf.shape[0], lcf.shape[1], 1))\n",
    "\n",
    "    y_pred0 = model.predict(lcf_test)\n",
    "    y_pred = np.around(y_pred0)\n",
    "\n",
    "    np.savez(pred_fp, y_pred0=y_pred0)\n",
    "    \n",
    "    y_pred0 = np.load(pred_fp)['y_pred0']\n",
    "    \n",
    "    \n",
    "\n",
    "    gi = y_pred0 > 0.0#np.std(y_pred0) * 3 + np.mean(y_pred0)\n",
    "\n",
    "    gii = np.argwhere(gi)[:,0]\n",
    "\n",
    "    yp = y_pred0[gi]\n",
    "\n",
    "\n",
    "    si = np.flip(np.argsort(yp))\n",
    "\n",
    "    gii_si = gii[si]\n",
    "\n",
    "\n",
    "#     p = df['Period'].iloc[i]\n",
    "# kid = hsps['kic'].iloc[i]\n",
    "    p = hsps['period (d)'].iloc[i]\n",
    "\n",
    "#     phs = np.arange(0.0, 1.0 / p + 0.5, 0.5)\n",
    "#     phs = np.arange(100.0, 500.0 / p + 250.0, 250.0)\n",
    "    phs = np.arange(100.0, 200.0 / p + 150.0, 150.0)\n",
    "    \n",
    "    plt.ioff()\n",
    "\n",
    "    ###########################################################################################\n",
    "    # Best result plot\n",
    "\n",
    "    bv = gii_si[0]\n",
    "\n",
    "    fig = plt.figure(figsize=(8, 8))\n",
    "    plt.subplot(2,1,1)\n",
    "    plt.title('KID ' + str(kid) + ' | Highest True Score ('+nstr(y_pred0[bv][0])+')')\n",
    "    plt.plot(lcf[bv,:], '.k')\n",
    "\n",
    "    plt.axhline(1.0, c=[0,0,0,0.2])\n",
    "\n",
    "    plt.xlabel('bin #')\n",
    "    plt.ylabel('flux')\n",
    "\n",
    "    plt.subplot(2,1,2)\n",
    "    plt.title('p actual = ' + nstr(p) + \\\n",
    "              ' | p fold = ' + nstr(period_search_array[bv]) + \\\n",
    "              ' | p diff = ' + nstr(period_search_array[bv] - p) + \\\n",
    "              ' | p div = ' + nstr(period_search_array[bv] / p)\n",
    "             )\n",
    "    plt.plot(period_search_array, y_pred0, '.k')\n",
    "    plt.plot(period_search_array[bv], y_pred0[bv], '*r')\n",
    "\n",
    "    plt.axhline(0.5, c=[0,1,0,0.2])\n",
    "\n",
    "    plt.xlabel('Period [day]')\n",
    "    plt.ylabel('Model Score')\n",
    "    \n",
    "    scores[i] = y_pred0[bv][0]\n",
    "\n",
    "    plt_fn = 'kic_' + str(kid) + '_highest_score.png'\n",
    "    plt.savefig(os.path.join(fig_save_dir, plt_fn), dpi=None)\n",
    "    \n",
    "    plt.close(fig)\n",
    "    \n",
    "    \n",
    "    \n",
    "    ###########################################################################################\n",
    "    \n",
    "    stddev = np.std(y_pred0)\n",
    "    \n",
    "#     print(y_pred0[0].shape)\n",
    "#     print(len(y_pred0[0]))\n",
    "#     print(len(y_pred0))\n",
    "    \n",
    "    flattened_pred = y_pred0.flatten()\n",
    "    \n",
    "    peaks = np.asarray(find_peaks(flattened_pred, height=stddev*7))\n",
    "    \n",
    "#     print(len(peaks))\n",
    "#     print(len(peaks[0]))\n",
    "#     print(peaks[0]) \n",
    "#     print(peaks)\n",
    "#     print(\"Type of peaks: \" + str(type(peaks)))\n",
    "    \n",
    "#     confidences = np.asarray(peaks[1])\n",
    "#     print(confidences)\n",
    "#     print(type(confidences))\n",
    "#     print(confidences.shape)\n",
    "#     confidences = confidences.flatten()\n",
    "\n",
    "#     confdata = list(peaks[1].items())\n",
    "#     confidences = np.array(confdata)\n",
    "#     print(confidences[0])\n",
    "#     print(confidences)\n",
    "\n",
    "#     print(peaks[1])\n",
    "#     print(type(peaks[1]))\n",
    "\n",
    "    confidences = []\n",
    "    \n",
    "    for value in peaks[1].values():\n",
    "        for v in value:\n",
    "            #print(v)\n",
    "            confidences.append(v)\n",
    "            \n",
    "#     print(confidences)\n",
    "    \n",
    "#     result = peaks[1].items() \n",
    "  \n",
    "    # Convert object to a list \n",
    "#     confidences = list(result) \n",
    "    \n",
    "#     print(confidences)\n",
    "    \n",
    "#     print(len(peaks))\n",
    "    \n",
    "    if (len(peaks[0]) < 50): \n",
    "        for i in peaks[0]:\n",
    "#             print(i)\n",
    "#             indexfound = peaks[0].index(i)\n",
    "            indexes = np.where(peaks[0] == i)\n",
    "            indexfound = indexes[0][0]   \n",
    "#             print(indexfound)\n",
    "#             print(indexfound.shape)\n",
    "#             print(len(indexfound))\n",
    "#             print(type(indexfound))\n",
    "#             print(indexfound)\n",
    "#             print(peaks[1])\n",
    "#             print(type(peak[1]))\n",
    "            fig = plt.figure(figsize=(8, 6))\n",
    "            plt.title('KID ' + str(kid) + ' | Period: ' + nstr(period_search_array[i]) + '| Score: ('+str(confidences[indexfound])+')')\n",
    "            plt.plot(lcf[i, :], '.k')\n",
    "            plt_fn = 'kic_' + str(kid) + '_peakat_' + str(i) + '.png'\n",
    "            plt.savefig(os.path.join(fig_save_dir, plt_fn), dpi=None)\n",
    "            plt.close(fig)\n",
    "    \n",
    "    \n",
    "    \n",
    "\n",
    "    ###########################################################################################\n",
    "    # Predictions & harmonics\n",
    "\n",
    "    fig = plt.figure(figsize=(8, 6))\n",
    "    plt.title('P='+str(p) + ' | KID ' + str(kid))\n",
    "    plt.plot(period_search_array, y_pred0, '.k')\n",
    "\n",
    "#     phs = np.arange(0.0, 1.0 / p + 0.25, 0.5)[1:] * p\n",
    "#     phs = np.arange(60.0, 500.0 / p + 220.0, 220.0)[1:] * p #np.arange(100.0, 500.0 / p + 250.0, 250.0)[1:] * p\n",
    "    phs = np.arange(100.0, 200.0 / p + 150.0, 150.0)[1:] * p\n",
    "\n",
    "    for ph in phs:\n",
    "\n",
    "        bv = np.argmin(np.abs(period_search_array - ph))\n",
    "\n",
    "        plt.plot(period_search_array[bv], y_pred0[bv], '*', label='P * '+ nstr(ph/p) + ' = '+nstr(period_search_array[bv]))\n",
    "\n",
    "        plt.axvline(period_search_array[bv], c=[1,0,0,0.2])\n",
    "\n",
    "    plt.axhline(0.5, c=[0,1,0,0.2])\n",
    "\n",
    "    plt.xlabel('Period [day]')\n",
    "    plt.ylabel('Model Score')\n",
    "\n",
    "    plt.legend()\n",
    "\n",
    "    plt_fn = 'kic_' + str(kid) + '_harmonics.png'\n",
    "    plt.savefig(os.path.join(fig_save_dir, plt_fn), dpi=None)\n",
    "    \n",
    "    plt.close(fig)\n",
    "    \n",
    "    \n",
    "    ###########################################################################################\n",
    "    \n",
    "    \n",
    "    \n",
    "    \n",
    "    \n",
    "    \n",
    "    # Each harmonic\n",
    "\n",
    "#     phs0 = np.arange(0.0, 1.0 / p + 0.25, 0.5)[1:]\n",
    "\n",
    "#     phs0 = np.arange(60.0, 500.0 / p + 220.0, 220.0) #np.arange(100.0, 500.0 / p + 250.0, 250.0)[1:]\n",
    "#     phs = phs0 * p\n",
    "\n",
    "#     for ph, ph0 in zip(phs, phs0):\n",
    "\n",
    "#         bv = np.argmin(np.abs(period_search_array - ph))\n",
    "\n",
    "#         idx = np.arange(bv - 10, bv + 11, dtype=int)\n",
    "        \n",
    "#         idx = idx[(idx > -1) & (idx < len(y_pred))]\n",
    "\n",
    "#         bv = idx[np.argmax(y_pred0[idx])]\n",
    "\n",
    "#         fig = plt.figure(figsize=(8, 8))\n",
    "#         plt.subplot(2,1,1)\n",
    "#         plt.title('KID ' + str(kid) + ' | Harmonic multiple = ' + nstr(ph0) + ' | Score = ' + nstr(y_pred0[bv][0]))\n",
    "#         plt.plot(lcf[bv,:], '-k')\n",
    "\n",
    "#         plt.axhline(1.0, c=[0,0,0,0.2])\n",
    "\n",
    "#         plt.xlabel('bin #')\n",
    "#         plt.ylabel('flux')\n",
    "\n",
    "#         plt.subplot(2,1,2)\n",
    "#         plt.plot(period_search_array, y_pred0, '.k')\n",
    "#         plt.plot(period_search_array[bv], y_pred0[bv], '*r', label='P * '+ nstr(period_search_array[bv] / p) + ' = '+nstr(period_search_array[bv]))\n",
    "\n",
    "#         plt.axhline(0.5, c=[0,1,0,0.2])\n",
    "\n",
    "#         plt.axvline(period_search_array[bv], c=[1,0,0,0.2])\n",
    "\n",
    "#         plt.xlabel('Period [day]')\n",
    "#         plt.ylabel('Model Score')\n",
    "\n",
    "#         plt.legend()\n",
    "\n",
    "#         plt_fn = 'kic_' + str(kid) + '_harmonic_' + str(ph0) + '.png'\n",
    "#         plt.savefig(os.path.join(fig_save_dir, plt_fn), dpi=None)\n",
    "    \n",
    "#         plt.close(fig)\n",
    "    "
   ]
  },
  {
   "cell_type": "code",
   "execution_count": 18,
   "metadata": {},
   "outputs": [],
   "source": [
    "save_dir = '/media/rd3/cchen/cchen/hsp_gpu_fold/hsp_100to200/'\n",
    "# lcf = load_folds(8120608, save_dir)\n",
    "# lcf = load_folds(6106282, save_dir)\n",
    "# lcf = load_folds(9002278, save_dir)\n",
    "# # # realper = 129.9441\n",
    "# # # realper = 101.1114\n",
    "# # # realper = 168.8113\n",
    "\n",
    "\n",
    "# realper = 122.3874 \n",
    "# # realper = 267.291\n",
    "# # idx = np.argmin(np.abs(realper - np.linspace(100,500,38400)))\n",
    "# idx = np.argmin(np.abs(realper - np.linspace(60,500,44000)))\n",
    "# print(idx)"
   ]
  },
  {
   "cell_type": "code",
   "execution_count": null,
   "metadata": {},
   "outputs": [],
   "source": [
    "# test = positive_matrix[1]\n",
    "test = lcf[idx]\n",
    "\n",
    "lcf_test = test.reshape((-1, 8192, 1))\n",
    "\n",
    "y_pred0 = model.predict(lcf_test)\n",
    "y_pred = np.around(y_pred0)\n",
    "    \n",
    "print(y_pred0)\n",
    "plt.figure(figsize=(8, 8))\n",
    "plt.title('KID: 0' + ' | Highest True Score ('+str(y_pred0[0])+')')\n",
    "plt.plot(test, '-k')\n",
    "\n",
    "plt.axhline(1.0, c=[0,0,0,0.2])\n",
    "\n",
    "plt.xlabel('bin #')\n",
    "plt.ylabel('flux')\n",
    "\n",
    "\n"
   ]
  },
  {
   "cell_type": "code",
   "execution_count": null,
   "metadata": {},
   "outputs": [],
   "source": [
    "test1 = lcf[idx]\n",
    "test2 = lcf[idx-1]\n",
    "\n",
    "plt.plot(test1, '-r')\n",
    "plt.plot(test2, '-b')"
   ]
  },
  {
   "cell_type": "code",
   "execution_count": null,
   "metadata": {},
   "outputs": [],
   "source": [
    "np.linspace(100,500,38400)[idx] - realper"
   ]
  },
  {
   "cell_type": "code",
   "execution_count": 68,
   "metadata": {},
   "outputs": [],
   "source": [
    "from numba import cuda \n",
    "device = cuda.get_current_device()\n",
    "device.reset()\n"
   ]
  },
  {
   "cell_type": "code",
   "execution_count": 33,
   "metadata": {
    "scrolled": false
   },
   "outputs": [
    {
     "name": "stdout",
     "output_type": "stream",
     "text": [
      "0\n",
      "8120608\n",
      "[1.00010373 0.9998675  0.99977897 ... 0.99987605 0.99994085 0.99999832]\n"
     ]
    },
    {
     "name": "stderr",
     "output_type": "stream",
     "text": [
      "No handles with labels found to put in legend.\n"
     ]
    },
    {
     "name": "stdout",
     "output_type": "stream",
     "text": [
      "1\n",
      "9002278\n",
      "[0.99982297 1.00005583 0.99994627 ... 0.99996337 0.9999751  1.00000517]\n"
     ]
    },
    {
     "name": "stderr",
     "output_type": "stream",
     "text": [
      "No handles with labels found to put in legend.\n"
     ]
    },
    {
     "name": "stdout",
     "output_type": "stream",
     "text": [
      "2\n",
      "10027323\n",
      "[1.00034852 0.99982547 1.00019259 ... 0.99992498 1.000083   0.99966817]\n"
     ]
    },
    {
     "name": "stderr",
     "output_type": "stream",
     "text": [
      "No handles with labels found to put in legend.\n"
     ]
    },
    {
     "name": "stdout",
     "output_type": "stream",
     "text": [
      "3\n",
      "9205938\n",
      "[0.99991675 0.99995567 0.9998945  ... 0.9999871  1.00007822 1.00012733]\n"
     ]
    },
    {
     "name": "stderr",
     "output_type": "stream",
     "text": [
      "No handles with labels found to put in legend.\n"
     ]
    },
    {
     "name": "stdout",
     "output_type": "stream",
     "text": [
      "4\n",
      "5184911\n",
      "[0.99999957 0.99992465 0.99991649 ... 0.99995193 0.99986108 0.99963578]\n"
     ]
    },
    {
     "name": "stderr",
     "output_type": "stream",
     "text": [
      "No handles with labels found to put in legend.\n"
     ]
    },
    {
     "name": "stdout",
     "output_type": "stream",
     "text": [
      "5\n",
      "11415243\n",
      "[1.00003847 1.00005392 0.99990934 ... 1.00000618 1.00001784 1.00001461]\n"
     ]
    },
    {
     "name": "stderr",
     "output_type": "stream",
     "text": [
      "No handles with labels found to put in legend.\n"
     ]
    },
    {
     "name": "stdout",
     "output_type": "stream",
     "text": [
      "6\n",
      "6106282\n",
      "[1.00017561 1.00024855 1.00009811 ... 1.0001635  1.00021366 1.00012611]\n"
     ]
    },
    {
     "name": "stderr",
     "output_type": "stream",
     "text": [
      "No handles with labels found to put in legend.\n"
     ]
    },
    {
     "name": "stdout",
     "output_type": "stream",
     "text": [
      "7\n",
      "8459663\n",
      "[0.9998364  0.99929278 0.99942225 ... 1.00003438 0.99998257 1.00031999]\n"
     ]
    },
    {
     "name": "stderr",
     "output_type": "stream",
     "text": [
      "No handles with labels found to put in legend.\n"
     ]
    },
    {
     "name": "stdout",
     "output_type": "stream",
     "text": [
      "8\n",
      "4172805\n",
      "[1.00012381 0.99968371 0.99984332 ... 0.99997405 1.00024787 0.99995768]\n"
     ]
    },
    {
     "name": "stderr",
     "output_type": "stream",
     "text": [
      "No handles with labels found to put in legend.\n"
     ]
    },
    {
     "name": "stdout",
     "output_type": "stream",
     "text": [
      "9\n",
      "5977470\n",
      "[1.00005496 1.00001498 1.00025798 ... 0.99989645 1.00003316 1.00039521]\n"
     ]
    },
    {
     "name": "stderr",
     "output_type": "stream",
     "text": [
      "No handles with labels found to put in legend.\n"
     ]
    },
    {
     "name": "stdout",
     "output_type": "stream",
     "text": [
      "10\n",
      "4138008\n",
      "[0.99980932 1.00001185 1.00005222 ... 0.99986556 1.00021333 1.00004218]\n"
     ]
    },
    {
     "name": "stderr",
     "output_type": "stream",
     "text": [
      "No handles with labels found to put in legend.\n"
     ]
    }
   ],
   "source": [
    "# for i in range(47, len(df)):\n",
    "    \n",
    "#     print(i)\n",
    "\n",
    "%matplotlib notebook\n",
    "\n",
    "save_dir = '/media/rd3/cchen/cchen/hsp_gpu_fold/hsp_100to200/'\n",
    "\n",
    "#     run_target(i)\n",
    "# period_search_array = np.linspace(60, 500, 44000)\n",
    "period_search_array = np.linspace(100, 200, 44000)\n",
    "\n",
    "for i in range(0, len(hsps)):\n",
    "    \n",
    "    print(i)\n",
    "    \n",
    "    print(hsps['kic'].iloc[i])\n",
    "\n",
    "    run_target(i)"
   ]
  },
  {
   "cell_type": "code",
   "execution_count": 40,
   "metadata": {},
   "outputs": [],
   "source": [
    "from PIL import Image\n",
    "\n",
    "ims = []\n",
    "\n",
    "# ims = [] * len(hsps)\n",
    "\n",
    "for i in range(0, len(hsps)):\n",
    "    \n",
    "    kid = hsps['kic'].iloc[i]\n",
    "    \n",
    "    fig_save_dir = os.path.join('/media/rd3/cchen/cchen/kepler_ml_v3/hsp_model_real_results_v3', 'kic_' + str(kid))\n",
    "    \n",
    "#     plt_fn = 'kic_' + str(kid) + '_harmonic_' + str(1.0) + '.png'\n",
    "    plt_fn = 'kic_' + str(kid) + '_harmonics.png'\n",
    "    \n",
    "    fp = os.path.join(fig_save_dir, plt_fn)\n",
    "    \n",
    "#     if os.path.isfile(fp):\n",
    "    \n",
    "    ims.append(Image.open(fp).convert('RGB'))\n",
    "\n",
    "\n",
    "pdf1_filename = \"11_hsp_results_model_v1.pdf\"\n",
    "\n",
    "ims[0].save(pdf1_filename, \"PDF\", resolution=100.0, save_all=True, append_images=ims[1:])\n",
    "\n",
    "del ims"
   ]
  },
  {
   "cell_type": "code",
   "execution_count": 36,
   "metadata": {},
   "outputs": [],
   "source": [
    "from matplotlib.backends.backend_pdf import PdfPages"
   ]
  },
  {
   "cell_type": "code",
   "execution_count": 35,
   "metadata": {},
   "outputs": [],
   "source": [
    "def get_concat_v_blank(im1, im2, color=(0, 0, 0)):\n",
    "    dst = Image.new('RGB', (max(im1.width, im2.width), im1.height + im2.height), color)\n",
    "    dst.paste(im1, (0, 0))\n",
    "    dst.paste(im2, (0, im1.height))\n",
    "    return dst"
   ]
  },
  {
   "cell_type": "code",
   "execution_count": 51,
   "metadata": {},
   "outputs": [
    {
     "name": "stdout",
     "output_type": "stream",
     "text": [
      "['kic_4138008_highest_score.png', 'kic_4138008_peakat_5438.png', 'kic_4138008_harmonics.png', 'kic_4138008_peakat_5420.png', 'kic_4138008_peakat_5400.png', 'kic_4138008_peakat_5409.png', 'kic_4138008_peakat_5393.png', 'kic_4138008_peakat_5418.png', 'kic_4138008_peakat_5429.png', 'kic_4138008_peakat_5435.png', 'kic_4138008_peakat_5432.png', 'kic_4138008_peakat_5406.png', 'kic_4138008_peakat_5414.png']\n",
      "13\n"
     ]
    }
   ],
   "source": [
    "from PIL import Image\n",
    "\n",
    "# im1 = Image.open(\"/Users/apple/Desktop/bbd.jpg\")\n",
    "# im2 = Image.open(\"/Users/apple/Desktop/bbd1.jpg\")\n",
    "# im3 = Image.open(\"/Users/apple/Desktop/bbd2.jpg\")\n",
    "# im_list = [im2,im3]\n",
    "\n",
    "# pdf1_filename = \"/Users/apple/Desktop/bbd1.pdf\"\n",
    "\n",
    "i = 10\n",
    "\n",
    "kid = hsps['kic'].iloc[i]\n",
    "\n",
    "\n",
    "# im1.save(pdf1_filename, \"PDF\" ,resolution=100.0, save_all=True, append_images=im_list)\n",
    "\n",
    "fig_save_dir = os.path.join('/media/rd3/cchen/cchen/kepler_ml_v3/hsp_model_real_results_v4', 'kic_' + str(kid))\n",
    "fig_save_dir_list = os.listdir(os.path.join('/media/rd3/cchen/cchen/kepler_ml_v3/hsp_model_real_results_v4', 'kic_' + str(kid)))\n",
    "# dir_list = os.listdir('/media/rd3/cchen/cchen/kepler_ml_v3/norm_lcs/v2/all_kepler/')\n",
    "\n",
    "ims = []\n",
    "\n",
    "all_files = []\n",
    "\n",
    "\n",
    "\n",
    "for f in fig_save_dir_list:\n",
    "     if (f.endswith('.png')):\n",
    "        all_files.append(f)\n",
    "\n",
    "print(all_files)   \n",
    "\n",
    "\n",
    "for f in fig_save_dir_list:\n",
    "    if (f.endswith('.png')):\n",
    "        fp = os.path.join(fig_save_dir, f)\n",
    "\n",
    "        if os.path.isfile(fp):\n",
    "\n",
    "            im = Image.open(fp).convert('RGB')\n",
    "\n",
    "        ims.append(im)\n",
    "\n",
    "print(len(ims))\n",
    "\n",
    "pdf1_filename = \"/media/rd3/cchen/cchen/kepler_ml_v3/hsp_model_real_results_v3/found_peaks_reports_all/\" + \"kic_\" + str(kid) + \"_all_peaks.pdf\"\n",
    "\n",
    "ims[0].save(pdf1_filename, \"PDF\", resolution=100.0, save_all=True, append_images=ims[1:])\n",
    "\n",
    "del ims\n"
   ]
  },
  {
   "cell_type": "code",
   "execution_count": 52,
   "metadata": {},
   "outputs": [],
   "source": [
    "from PIL import Image\n",
    "\n",
    "ims = []\n",
    "\n",
    "\n",
    "# all_files = []\n",
    "# filetouse= -1\n",
    "# loaded_file = -1\n",
    "# time = []\n",
    "# flux = []\n",
    "# note1 = []\n",
    "# for f in dir_list:\n",
    "#     if str(all_kics[ind]) in f:\n",
    "#         all_files.append(f)\n",
    "#         filetouse =0\n",
    "# print(\"ALL FILES: \")\n",
    "# print(all_files)\n",
    "# if filetouse == -1:\n",
    "#     print(\"NO FILE EXISTS\")\n",
    "# else:\n",
    "#     print(\"Using \" + all_files[filetouse])\n",
    "# #     loaded_file = np.load(os.path.join('/media/rd1/cchen/kepler_ml_v3/processed_lcs', all_files[filetouse]))\n",
    "#     loaded_file = np.load(os.path.join('/media/rd3/cchen/cchen/kepler_ml_v3/norm_lcs/all_kepler/', all_files[filetouse])\n",
    "\n",
    "\n",
    "for i in range(0, len(hsps)):\n",
    "    \n",
    "#     kid = df['KIC ID'].iloc[i]\n",
    "    kid = hsps['kic'].iloc[i]\n",
    "    \n",
    "    fig_save_dir = os.path.join('/media/rd3/cchen/cchen/kepler_ml_v3/hsp_model_real_results_v4', 'kic_' + str(kid))\n",
    "    \n",
    "    plt_fn = 'kic_' + str(kid) + '_highest_score.png'\n",
    "    \n",
    "    fp = os.path.join(fig_save_dir, plt_fn)\n",
    "    \n",
    "    if os.path.isfile(fp):\n",
    "\n",
    "        im1 = Image.open(fp).convert('RGB')\n",
    "\n",
    "\n",
    "    plt_fn = 'kic_' + str(kid) + '_harmonics.png'\n",
    "\n",
    "    fp = os.path.join(fig_save_dir, plt_fn)\n",
    "\n",
    "    if os.path.isfile(fp):\n",
    "\n",
    "        im2 = Image.open(fp).convert('RGB')\n",
    "        \n",
    "    ims.append(get_concat_v_blank(im1, im2, color=(0, 0, 0)))\n",
    "\n",
    "\n",
    "pdf1_filename = \"11_hsps_results_3p_model_v2.pdf\"\n",
    "\n",
    "ims[0].save(pdf1_filename, \"PDF\", resolution=100.0, save_all=True, append_images=ims[1:])\n",
    "\n",
    "del ims"
   ]
  },
  {
   "cell_type": "code",
   "execution_count": null,
   "metadata": {},
   "outputs": [],
   "source": [
    "plt.figure(figsize=(10, 7))\n",
    "plt.plot(scores, '.b')\n",
    "plt.axhline(0.5, c=[0,1,0,0.5])\n",
    "plt.title(\"28 HSP Model Test Results\")\n",
    "plt.show()"
   ]
  },
  {
   "cell_type": "code",
   "execution_count": null,
   "metadata": {},
   "outputs": [],
   "source": []
  },
  {
   "cell_type": "code",
   "execution_count": 53,
   "metadata": {},
   "outputs": [],
   "source": [
    "import pandas as pd"
   ]
  },
  {
   "cell_type": "code",
   "execution_count": 54,
   "metadata": {},
   "outputs": [],
   "source": [
    "table = pd.read_excel('KeplerCumulative.xlsx')\n",
    "\n",
    "all_kics = table['kepid'][:]\n",
    "all_kepoi_temp = table['kepoi_name'][:]\n",
    "all_t0_catalog_bjd = table['koi_time0'][:]\n",
    "all_period_catalog = table['koi_period'][:]\n",
    "all_duration_catalog = table['koi_duration'][:]\n",
    "all_status = table['koi_disposition'][:]"
   ]
  },
  {
   "cell_type": "code",
   "execution_count": 58,
   "metadata": {},
   "outputs": [
    {
     "name": "stdout",
     "output_type": "stream",
     "text": [
      "FALSE POSITIVE\n"
     ]
    }
   ],
   "source": [
    "# print(all_kics[100])\n",
    "print(all_status[3])"
   ]
  },
  {
   "cell_type": "code",
   "execution_count": 59,
   "metadata": {},
   "outputs": [],
   "source": [
    "# Test individual target\n",
    "\n",
    "i = 0\n",
    "# scores = np.empty(len())\n",
    "from scipy.signal import find_peaks\n",
    "\n",
    "save_dir = '/media/rd3/cchen/cchen/hsp_gpu_fold/all_kepler_folded/'\n",
    "\n",
    "def run_target2(i, kic):\n",
    "\n",
    "#     kid = df['KIC ID'].iloc[i]\n",
    "    #kid = all_kics.iloc[i]\n",
    "#     kid = find_first(int(get_numbers_from_filename(dir_list[i])), all_kics)\n",
    "    kid = kic\n",
    "\n",
    "    indinarray = find_first(int(get_numbers_from_filename(dir_list[0])), all_kics)\n",
    "    \n",
    "#     fig_save_dir = os.path.join('/media/rd1/kwillis/kepler_ml/kepler_ml_v3/model_real_results', 'kic_' + str(kid))\n",
    "    \n",
    "    if (all_status[indinarray] == 'CONFIRMED'):\n",
    "    \n",
    "        fig_save_dir = os.path.join('/media/rd3/cchen/cchen/kepler_ml_v3/hsp_model_real_results_v4/all_kepler_results/', 'kic_' + str(kid))\n",
    "\n",
    "        os.makedirs(fig_save_dir, exist_ok=1)\n",
    "\n",
    "        pred_fp = os.path.join(fig_save_dir, 'model_preds.npz')\n",
    "\n",
    "    #     if not os.path.isfile(pred_fp):\n",
    "\n",
    "    #         lcf = load_folds(kid, save_dir)\n",
    "\n",
    "    #         lcf_test = lcf.reshape((lcf.shape[0], lcf.shape[1], 1))\n",
    "\n",
    "    #         y_pred0 = model.predict(lcf_test)\n",
    "    #         y_pred = np.around(y_pred0)\n",
    "\n",
    "    #         np.savez(pred_fp, y_pred0=y_pred0)\n",
    "\n",
    "    #     else:\n",
    "\n",
    "    #         y_pred0 = np.load(pred_fp)['y_pred0']\n",
    "\n",
    "        lcf = load_folds(kid, save_dir)\n",
    "\n",
    "        lcf_test = lcf.reshape((lcf.shape[0], lcf.shape[1], 1))\n",
    "\n",
    "        y_pred0 = model.predict(lcf_test)\n",
    "        y_pred = np.around(y_pred0)\n",
    "\n",
    "        np.savez(pred_fp, y_pred0=y_pred0)\n",
    "\n",
    "        y_pred0 = np.load(pred_fp)['y_pred0']\n",
    "\n",
    "\n",
    "\n",
    "        gi = y_pred0 > 0.0#np.std(y_pred0) * 3 + np.mean(y_pred0)\n",
    "\n",
    "        gii = np.argwhere(gi)[:,0]\n",
    "\n",
    "        yp = y_pred0[gi]\n",
    "\n",
    "\n",
    "        si = np.flip(np.argsort(yp))\n",
    "\n",
    "        gii_si = gii[si]\n",
    "\n",
    "\n",
    "    #     p = df['Period'].iloc[i]\n",
    "    # kid = hsps['kic'].iloc[i]\n",
    "\n",
    "    #     p = hsps['period (d)'].iloc[i]\n",
    "\n",
    "    #     phs = np.arange(0.0, 1.0 / p + 0.5, 0.5)\n",
    "    #     phs = np.arange(100.0, 500.0 / p + 250.0, 250.0)\n",
    "\n",
    "    #     phs = np.arange(60.0, 500.0 / p + 220.0, 220.0)\n",
    "    #     phs = np.arange(60.0, 500.0 / p + 220.0, 220.0)\n",
    "\n",
    "\n",
    "\n",
    "        plt.ioff()\n",
    "\n",
    "        ###########################################################################################\n",
    "        # Best result plot\n",
    "\n",
    "        bv = gii_si[0]\n",
    "\n",
    "        fig = plt.figure(figsize=(8, 8))\n",
    "        plt.subplot(2,1,1)\n",
    "        plt.title('KID ' + str(kid) + ' | Highest True Score ('+nstr(y_pred0[bv][0])+')')\n",
    "        plt.plot(lcf[bv,:], '.k')\n",
    "\n",
    "        plt.axhline(1.0, c=[0,0,0,0.2])\n",
    "\n",
    "        plt.xlabel('bin #')\n",
    "        plt.ylabel('flux')\n",
    "\n",
    "        plt.subplot(2,1,2)\n",
    "    #     plt.title('p actual = ' + nstr(p) + \\\n",
    "    #               ' | p fold = ' + nstr(period_search_array[bv]) + \\\n",
    "    #               ' | p diff = ' + nstr(period_search_array[bv] - p) + \\\n",
    "    #               ' | p div = ' + nstr(period_search_array[bv] / p)\n",
    "    #              )\n",
    "        plt.title('p folded = ' + nstr(period_search_array[bv]))\n",
    "        plt.plot(period_search_array, y_pred0, '.k')\n",
    "        plt.plot(period_search_array[bv], y_pred0[bv], '*r')\n",
    "\n",
    "        plt.axhline(0.5, c=[0,1,0,0.2])\n",
    "\n",
    "        plt.xlabel('Period [day]')\n",
    "        plt.ylabel('Model Score')\n",
    "\n",
    "    #     scores[i] = y_pred0[bv][0]\n",
    "\n",
    "        plt_fn = 'kic_' + str(kid) + '_highest_score.png'\n",
    "        plt.savefig(os.path.join(fig_save_dir, plt_fn), dpi=None)\n",
    "\n",
    "        plt.close(fig)\n",
    "\n",
    "\n",
    "\n",
    "        ###########################################################################################\n",
    "\n",
    "        stddev = np.std(y_pred0)\n",
    "\n",
    "    #     print(y_pred0[0].shape)\n",
    "    #     print(len(y_pred0[0]))\n",
    "    #     print(len(y_pred0))\n",
    "\n",
    "        flattened_pred = y_pred0.flatten()\n",
    "\n",
    "        peaks = np.asarray(find_peaks(flattened_pred, height=stddev*10))\n",
    "\n",
    "    #     print(len(peaks))\n",
    "    #     print(len(peaks[0]))\n",
    "    #     print(peaks[0]) \n",
    "    #     print(peaks)\n",
    "    #     print(\"Type of peaks: \" + str(type(peaks)))\n",
    "\n",
    "    #     confidences = np.asarray(peaks[1])\n",
    "    #     print(confidences)\n",
    "    #     print(type(confidences))\n",
    "    #     print(confidences.shape)\n",
    "    #     confidences = confidences.flatten()\n",
    "\n",
    "    #     confdata = list(peaks[1].items())\n",
    "    #     confidences = np.array(confdata)\n",
    "    #     print(confidences[0])\n",
    "    #     print(confidences)\n",
    "\n",
    "    #     print(peaks[1])\n",
    "    #     print(type(peaks[1]))\n",
    "\n",
    "        confidences = []\n",
    "\n",
    "        for value in peaks[1].values():\n",
    "            for v in value:\n",
    "                #print(v)\n",
    "                confidences.append(v)\n",
    "\n",
    "    #     print(confidences)\n",
    "\n",
    "    #     result = peaks[1].items() \n",
    "\n",
    "        # Convert object to a list \n",
    "    #     confidences = list(result) \n",
    "\n",
    "    #     print(confidences)\n",
    "\n",
    "    #     print(len(peaks))\n",
    "\n",
    "        if (len(peaks[0]) < 50): \n",
    "            for i in peaks[0]:\n",
    "    #             print(i)\n",
    "    #             indexfound = peaks[0].index(i)\n",
    "                indexes = np.where(peaks[0] == i)\n",
    "                indexfound = indexes[0][0]   \n",
    "    #             print(indexfound)\n",
    "    #             print(indexfound.shape)\n",
    "    #             print(len(indexfound))\n",
    "    #             print(type(indexfound))\n",
    "    #             print(indexfound)\n",
    "    #             print(peaks[1])\n",
    "    #             print(type(peak[1]))\n",
    "                fig = plt.figure(figsize=(8, 6))\n",
    "                plt.title('KID ' + str(kid) + ' | Period: ' + nstr(period_search_array[i]) + '| Score: ('+str(confidences[indexfound])+')')\n",
    "                plt.plot(lcf[i, :], '.k')\n",
    "                plt_fn = 'kic_' + str(kid) + '_peakat_' + str(i) + '.png'\n",
    "                plt.savefig(os.path.join(fig_save_dir, plt_fn), dpi=None)\n",
    "                plt.close(fig)\n",
    "\n",
    "\n",
    "\n",
    "\n",
    "        ###########################################################################################\n",
    "        # Predictions & harmonics\n",
    "\n",
    "        fig = plt.figure(figsize=(8, 6))\n",
    "    #     plt.title('P='+str(p) + ' | KID ' + str(kid))\n",
    "        plt.title('Found P='+str(period_search_array[bv]) + ' | KID ' + str(kid))\n",
    "        plt.plot(period_search_array, y_pred0, '.k')\n",
    "\n",
    "    #     phs = np.arange(0.0, 1.0 / p + 0.25, 0.5)[1:] * p\n",
    "        #phs = np.arange(60.0, 500.0 / p + 220.0, 220.0)[1:] * p #np.arange(100.0, 500.0 / p + 250.0, 250.0)[1:] * p\n",
    "\n",
    "    #     phs = np.linspace(60,500,44000)\n",
    "\n",
    "    #     for ph in phs:\n",
    "\n",
    "    #         bv = np.argmin(np.abs(period_search_array - ph))\n",
    "\n",
    "    # #         plt.plot(period_search_array[bv], y_pred0[bv], '*', label='P * '+ nstr(ph/p) + ' = '+nstr(period_search_array[bv]))\n",
    "    #         plt.plot(period_search_array[bv], y_pred0[bv], '*')\n",
    "\n",
    "\n",
    "    #         plt.axvline(period_search_array[bv], c=[1,0,0,0.2])\n",
    "\n",
    "        plt.axhline(0.5, c=[0,1,0,0.2])\n",
    "\n",
    "        plt.xlabel('Period [day]')\n",
    "        plt.ylabel('Model Score')\n",
    "\n",
    "        plt.legend()\n",
    "\n",
    "        plt_fn = 'kic_' + str(kid) + '_harmonics.png'\n",
    "        plt.savefig(os.path.join(fig_save_dir, plt_fn), dpi=None)\n",
    "\n",
    "        plt.close(fig)\n",
    "\n",
    "\n",
    "        ###########################################################################################\n",
    "\n",
    "\n",
    "\n",
    "\n",
    "\n",
    "\n",
    "        # Each harmonic\n",
    "\n",
    "    #     phs0 = np.arange(0.0, 1.0 / p + 0.25, 0.5)[1:]\n",
    "\n",
    "    #     phs0 = np.arange(60.0, 500.0 / p + 220.0, 220.0) #np.arange(100.0, 500.0 / p + 250.0, 250.0)[1:]\n",
    "    #     phs = phs0 * p\n",
    "\n",
    "    #     for ph, ph0 in zip(phs, phs0):\n",
    "\n",
    "    #         bv = np.argmin(np.abs(period_search_array - ph))\n",
    "\n",
    "    #         idx = np.arange(bv - 10, bv + 11, dtype=int)\n",
    "\n",
    "    #         idx = idx[(idx > -1) & (idx < len(y_pred))]\n",
    "\n",
    "    #         bv = idx[np.argmax(y_pred0[idx])]\n",
    "\n",
    "    #         fig = plt.figure(figsize=(8, 8))\n",
    "    #         plt.subplot(2,1,1)\n",
    "    #         plt.title('KID ' + str(kid) + ' | Harmonic multiple = ' + nstr(ph0) + ' | Score = ' + nstr(y_pred0[bv][0]))\n",
    "    #         plt.plot(lcf[bv,:], '-k')\n",
    "\n",
    "    #         plt.axhline(1.0, c=[0,0,0,0.2])\n",
    "\n",
    "    #         plt.xlabel('bin #')\n",
    "    #         plt.ylabel('flux')\n",
    "\n",
    "    #         plt.subplot(2,1,2)\n",
    "    #         plt.plot(period_search_array, y_pred0, '.k')\n",
    "    #         plt.plot(period_search_array[bv], y_pred0[bv], '*r', label='P * '+ nstr(period_search_array[bv] / p) + ' = '+nstr(period_search_array[bv]))\n",
    "\n",
    "    #         plt.axhline(0.5, c=[0,1,0,0.2])\n",
    "\n",
    "    #         plt.axvline(period_search_array[bv], c=[1,0,0,0.2])\n",
    "\n",
    "    #         plt.xlabel('Period [day]')\n",
    "    #         plt.ylabel('Model Score')\n",
    "\n",
    "    #         plt.legend()\n",
    "\n",
    "    #         plt_fn = 'kic_' + str(kid) + '_harmonic_' + str(ph0) + '.png'\n",
    "    #         plt.savefig(os.path.join(fig_save_dir, plt_fn), dpi=None)\n",
    "\n",
    "    #         plt.close(fig)\n"
   ]
  },
  {
   "cell_type": "code",
   "execution_count": 60,
   "metadata": {},
   "outputs": [
    {
     "name": "stdout",
     "output_type": "stream",
     "text": [
      "140\n",
      "data_11403044_hps.bin\n"
     ]
    }
   ],
   "source": [
    "%matplotlib notebook\n",
    "\n",
    "save_dir = '/media/rd3/cchen/cchen/hsp_gpu_fold/all_kepler_folded/'\n",
    "\n",
    "#     run_target(i)\n",
    "# period_search_array = np.linspace(60, 500, 44000)\n",
    "period_search_array = np.linspace(100, 200, 44000)\n",
    "\n",
    "dir_list = os.listdir('/media/rd3/cchen/cchen/hsp_gpu_fold/all_kepler_folded/')\n",
    "print(len(dir_list))\n",
    "print(dir_list[0])\n"
   ]
  },
  {
   "cell_type": "code",
   "execution_count": 61,
   "metadata": {},
   "outputs": [],
   "source": [
    "import re\n",
    "def get_numbers_from_filename(filename):\n",
    "    return re.search(r'\\d+', filename).group(0)"
   ]
  },
  {
   "cell_type": "code",
   "execution_count": 62,
   "metadata": {},
   "outputs": [
    {
     "name": "stdout",
     "output_type": "stream",
     "text": [
      "11403044\n",
      "<class 'str'>\n"
     ]
    }
   ],
   "source": [
    "print(get_numbers_from_filename(dir_list[0]))\n",
    "print(type(get_numbers_from_filename(dir_list[0])))"
   ]
  },
  {
   "cell_type": "code",
   "execution_count": 63,
   "metadata": {},
   "outputs": [],
   "source": [
    "def find_first(item, vec):\n",
    "    \"\"\"return the index of the first occurence of item in vec\"\"\"\n",
    "    for i in range(len(vec)):\n",
    "        if item == vec[i]:\n",
    "            return i\n",
    "    return -1"
   ]
  },
  {
   "cell_type": "code",
   "execution_count": 64,
   "metadata": {},
   "outputs": [
    {
     "data": {
      "text/plain": [
       "44"
      ]
     },
     "execution_count": 64,
     "metadata": {},
     "output_type": "execute_result"
    }
   ],
   "source": [
    "# find_first(get_numbers_from_filename(dir_list[0]), all_kics)\n",
    "find_first(11403044, all_kics)\n",
    "find_first(int(get_numbers_from_filename(dir_list[0])), all_kics)\n",
    "# print(all_kics[2])"
   ]
  },
  {
   "cell_type": "code",
   "execution_count": 67,
   "metadata": {},
   "outputs": [
    {
     "name": "stdout",
     "output_type": "stream",
     "text": [
      "0\n",
      "[1.00001588 0.99990629 1.00017036 ... 1.00003037 1.00025377 0.99994833]\n"
     ]
    },
    {
     "name": "stderr",
     "output_type": "stream",
     "text": [
      "No handles with labels found to put in legend.\n"
     ]
    },
    {
     "name": "stdout",
     "output_type": "stream",
     "text": [
      "1\n",
      "[0.99997047 1.00017777 0.99998768 ... 1.0004204  1.00005168 1.00014551]\n"
     ]
    },
    {
     "name": "stderr",
     "output_type": "stream",
     "text": [
      "No handles with labels found to put in legend.\n"
     ]
    },
    {
     "name": "stdout",
     "output_type": "stream",
     "text": [
      "2\n",
      "[0.99997287 0.9998791  1.00035165 ... 1.00010459 0.99990944 0.99980647]\n"
     ]
    },
    {
     "name": "stderr",
     "output_type": "stream",
     "text": [
      "No handles with labels found to put in legend.\n"
     ]
    },
    {
     "name": "stdout",
     "output_type": "stream",
     "text": [
      "3\n",
      "[0.99995111 1.00008872 0.99981891 ... 1.00003166 1.00005875 0.99975805]\n"
     ]
    },
    {
     "name": "stderr",
     "output_type": "stream",
     "text": [
      "No handles with labels found to put in legend.\n"
     ]
    },
    {
     "name": "stdout",
     "output_type": "stream",
     "text": [
      "4\n",
      "[0.99964585 1.00133553 0.99944296 ... 0.99792709 1.00192651 1.00581123]\n"
     ]
    },
    {
     "name": "stderr",
     "output_type": "stream",
     "text": [
      "No handles with labels found to put in legend.\n"
     ]
    },
    {
     "name": "stdout",
     "output_type": "stream",
     "text": [
      "5\n",
      "[1.00021453 1.00011056 1.00013983 ... 0.99984168 0.99966626 1.00000989]\n"
     ]
    },
    {
     "name": "stderr",
     "output_type": "stream",
     "text": [
      "No handles with labels found to put in legend.\n"
     ]
    },
    {
     "name": "stdout",
     "output_type": "stream",
     "text": [
      "6\n",
      "[1.00000697 0.9999879  0.9999574  ... 1.00000841 1.00000863 0.9999784 ]\n"
     ]
    },
    {
     "name": "stderr",
     "output_type": "stream",
     "text": [
      "No handles with labels found to put in legend.\n"
     ]
    },
    {
     "name": "stdout",
     "output_type": "stream",
     "text": [
      "7\n",
      "[1.00020807 1.00015253 1.00027035 ... 0.99994258 0.99993629 1.00001177]\n"
     ]
    },
    {
     "name": "stderr",
     "output_type": "stream",
     "text": [
      "No handles with labels found to put in legend.\n"
     ]
    },
    {
     "name": "stdout",
     "output_type": "stream",
     "text": [
      "8\n",
      "[1.00004334 0.99978729 1.00063647 ... 0.99946179 1.0003301  0.99970873]\n"
     ]
    },
    {
     "name": "stderr",
     "output_type": "stream",
     "text": [
      "No handles with labels found to put in legend.\n"
     ]
    },
    {
     "name": "stdout",
     "output_type": "stream",
     "text": [
      "9\n",
      "[0.99985618 0.99979069 0.99962956 ... 1.00015134 1.00017763 1.00032887]\n"
     ]
    },
    {
     "name": "stderr",
     "output_type": "stream",
     "text": [
      "No handles with labels found to put in legend.\n"
     ]
    },
    {
     "name": "stdout",
     "output_type": "stream",
     "text": [
      "10\n",
      "[0.99987189 0.99996777 1.00004263 ... 1.00010575 1.00011842 1.00003935]\n"
     ]
    },
    {
     "name": "stderr",
     "output_type": "stream",
     "text": [
      "No handles with labels found to put in legend.\n"
     ]
    },
    {
     "name": "stdout",
     "output_type": "stream",
     "text": [
      "11\n",
      "[1.00010594 1.00054562 0.99970915 ... 0.99971391 0.99991466 1.00012502]\n"
     ]
    },
    {
     "name": "stderr",
     "output_type": "stream",
     "text": [
      "No handles with labels found to put in legend.\n"
     ]
    },
    {
     "name": "stdout",
     "output_type": "stream",
     "text": [
      "12\n",
      "[0.99938802 0.99987896 1.00013377 ... 1.00011119 1.00004346 0.99999513]\n"
     ]
    },
    {
     "name": "stderr",
     "output_type": "stream",
     "text": [
      "No handles with labels found to put in legend.\n"
     ]
    },
    {
     "name": "stdout",
     "output_type": "stream",
     "text": [
      "13\n",
      "[1.0000568  1.00030348 1.00025247 ... 0.99972012 0.99992635 1.00037617]\n"
     ]
    },
    {
     "name": "stderr",
     "output_type": "stream",
     "text": [
      "No handles with labels found to put in legend.\n"
     ]
    },
    {
     "name": "stdout",
     "output_type": "stream",
     "text": [
      "14\n",
      "[0.99987055 1.00008127 0.99985376 ... 0.99984495 0.99988707 1.00026228]\n"
     ]
    },
    {
     "name": "stderr",
     "output_type": "stream",
     "text": [
      "No handles with labels found to put in legend.\n"
     ]
    },
    {
     "name": "stdout",
     "output_type": "stream",
     "text": [
      "15\n",
      "[1.00033811 1.00021912 0.9997641  ... 0.99986298 1.00033362 0.99993695]\n"
     ]
    },
    {
     "name": "stderr",
     "output_type": "stream",
     "text": [
      "No handles with labels found to put in legend.\n"
     ]
    },
    {
     "name": "stdout",
     "output_type": "stream",
     "text": [
      "16\n",
      "[0.99990077 1.00005621 0.99992716 ... 0.99992478 0.99990676 0.99995986]\n"
     ]
    },
    {
     "name": "stderr",
     "output_type": "stream",
     "text": [
      "No handles with labels found to put in legend.\n"
     ]
    },
    {
     "name": "stdout",
     "output_type": "stream",
     "text": [
      "17\n",
      "[0.99959187 0.99982404 0.99917662 ... 1.00037817 1.00021502 1.0000811 ]\n"
     ]
    },
    {
     "name": "stderr",
     "output_type": "stream",
     "text": [
      "No handles with labels found to put in legend.\n"
     ]
    },
    {
     "name": "stdout",
     "output_type": "stream",
     "text": [
      "18\n",
      "[0.99987453 1.00003658 1.00046313 ... 0.99970333 0.99968315 1.00009666]\n"
     ]
    },
    {
     "name": "stderr",
     "output_type": "stream",
     "text": [
      "No handles with labels found to put in legend.\n"
     ]
    },
    {
     "name": "stdout",
     "output_type": "stream",
     "text": [
      "19\n",
      "[0.99990506 0.99982584 0.99973532 ... 0.99972475 1.0000083  0.99986578]\n"
     ]
    },
    {
     "name": "stderr",
     "output_type": "stream",
     "text": [
      "No handles with labels found to put in legend.\n"
     ]
    },
    {
     "name": "stdout",
     "output_type": "stream",
     "text": [
      "20\n",
      "[0.99998553 1.00037465 1.00022704 ... 0.99997629 0.99982421 1.        ]\n"
     ]
    },
    {
     "name": "stderr",
     "output_type": "stream",
     "text": [
      "No handles with labels found to put in legend.\n"
     ]
    },
    {
     "name": "stdout",
     "output_type": "stream",
     "text": [
      "21\n",
      "[1.00017841 0.999409   0.99978619 ... 0.99980648 1.00002575 0.9996958 ]\n"
     ]
    },
    {
     "name": "stderr",
     "output_type": "stream",
     "text": [
      "No handles with labels found to put in legend.\n"
     ]
    },
    {
     "name": "stdout",
     "output_type": "stream",
     "text": [
      "22\n",
      "[1.0000184  1.000013   1.00018068 ... 0.99956116 0.99994835 1.00015125]\n"
     ]
    },
    {
     "name": "stderr",
     "output_type": "stream",
     "text": [
      "No handles with labels found to put in legend.\n"
     ]
    },
    {
     "name": "stdout",
     "output_type": "stream",
     "text": [
      "23\n",
      "[1.00020026 1.00002031 0.99992012 ... 1.0000022  1.0000183  0.99998481]\n"
     ]
    },
    {
     "name": "stderr",
     "output_type": "stream",
     "text": [
      "No handles with labels found to put in legend.\n"
     ]
    },
    {
     "name": "stdout",
     "output_type": "stream",
     "text": [
      "24\n",
      "[1.00004617 0.99996695 1.00004797 ... 1.0000123  0.99993467 0.99999141]\n"
     ]
    },
    {
     "name": "stderr",
     "output_type": "stream",
     "text": [
      "No handles with labels found to put in legend.\n"
     ]
    },
    {
     "name": "stdout",
     "output_type": "stream",
     "text": [
      "25\n",
      "[0.99990183 1.00004293 1.00004308 ... 0.99989    0.9997054  1.00001931]\n"
     ]
    },
    {
     "name": "stderr",
     "output_type": "stream",
     "text": [
      "No handles with labels found to put in legend.\n"
     ]
    },
    {
     "name": "stdout",
     "output_type": "stream",
     "text": [
      "26\n",
      "[1.00007688 0.99999753 1.00000465 ... 0.99992499 0.99993524 0.99989457]\n"
     ]
    },
    {
     "name": "stderr",
     "output_type": "stream",
     "text": [
      "No handles with labels found to put in legend.\n"
     ]
    },
    {
     "name": "stdout",
     "output_type": "stream",
     "text": [
      "27\n",
      "[1.00001184 1.00022944 0.99979343 ... 1.00037141 1.00042558 0.99979582]\n"
     ]
    },
    {
     "name": "stderr",
     "output_type": "stream",
     "text": [
      "No handles with labels found to put in legend.\n"
     ]
    },
    {
     "name": "stdout",
     "output_type": "stream",
     "text": [
      "28\n",
      "[1.00026043 0.99930838 0.99970641 ... 1.00001501 1.00035787 0.99994372]\n"
     ]
    },
    {
     "name": "stderr",
     "output_type": "stream",
     "text": [
      "No handles with labels found to put in legend.\n"
     ]
    },
    {
     "name": "stdout",
     "output_type": "stream",
     "text": [
      "29\n",
      "[1.00021931 0.99988203 1.00011755 ... 0.99950309 1.0000776  1.00004807]\n"
     ]
    },
    {
     "name": "stderr",
     "output_type": "stream",
     "text": [
      "No handles with labels found to put in legend.\n"
     ]
    },
    {
     "name": "stdout",
     "output_type": "stream",
     "text": [
      "30\n",
      "[0.99968155 1.00063589 0.99973785 ... 0.99971486 1.00027198 1.00006329]\n"
     ]
    },
    {
     "name": "stderr",
     "output_type": "stream",
     "text": [
      "No handles with labels found to put in legend.\n"
     ]
    },
    {
     "name": "stdout",
     "output_type": "stream",
     "text": [
      "31\n",
      "[0.99985286 0.99992188 0.99985832 ... 0.99997284 1.00033371 1.00016076]\n"
     ]
    },
    {
     "name": "stderr",
     "output_type": "stream",
     "text": [
      "No handles with labels found to put in legend.\n"
     ]
    },
    {
     "name": "stdout",
     "output_type": "stream",
     "text": [
      "32\n",
      "[1.00001757 0.99964312 0.99979589 ... 0.99983902 1.00005949 0.99994652]\n"
     ]
    },
    {
     "name": "stderr",
     "output_type": "stream",
     "text": [
      "No handles with labels found to put in legend.\n"
     ]
    },
    {
     "name": "stdout",
     "output_type": "stream",
     "text": [
      "33\n",
      "[1.00010472 1.0001236  0.99968391 ... 1.00023884 0.9999717  1.0000093 ]\n"
     ]
    },
    {
     "name": "stderr",
     "output_type": "stream",
     "text": [
      "No handles with labels found to put in legend.\n"
     ]
    },
    {
     "name": "stdout",
     "output_type": "stream",
     "text": [
      "34\n",
      "[1.00018219 0.99992762 0.99998195 ... 0.99977878 1.00002527 1.00025067]\n"
     ]
    },
    {
     "name": "stderr",
     "output_type": "stream",
     "text": [
      "No handles with labels found to put in legend.\n"
     ]
    },
    {
     "name": "stdout",
     "output_type": "stream",
     "text": [
      "35\n",
      "[0.99993087 0.99984087 0.99995976 ... 0.99979199 1.00014068 0.99996486]\n"
     ]
    },
    {
     "name": "stderr",
     "output_type": "stream",
     "text": [
      "No handles with labels found to put in legend.\n"
     ]
    },
    {
     "name": "stdout",
     "output_type": "stream",
     "text": [
      "36\n",
      "[1.00001811 0.99955914 0.99999327 ... 1.00022263 1.00005447 1.00017904]\n"
     ]
    },
    {
     "name": "stderr",
     "output_type": "stream",
     "text": [
      "No handles with labels found to put in legend.\n"
     ]
    },
    {
     "name": "stdout",
     "output_type": "stream",
     "text": [
      "37\n",
      "[0.99994142 1.00015658 0.9999959  ... 0.99976193 0.99972274 0.99998031]\n"
     ]
    },
    {
     "name": "stderr",
     "output_type": "stream",
     "text": [
      "No handles with labels found to put in legend.\n"
     ]
    },
    {
     "name": "stdout",
     "output_type": "stream",
     "text": [
      "38\n",
      "[0.9999667  0.99997997 0.99987741 ... 1.00027845 0.99990048 0.99996023]\n"
     ]
    },
    {
     "name": "stderr",
     "output_type": "stream",
     "text": [
      "No handles with labels found to put in legend.\n"
     ]
    },
    {
     "name": "stdout",
     "output_type": "stream",
     "text": [
      "39\n",
      "[0.99993695 1.00006594 0.99962642 ... 0.99976702 1.00013781 1.00031534]\n"
     ]
    },
    {
     "name": "stderr",
     "output_type": "stream",
     "text": [
      "No handles with labels found to put in legend.\n"
     ]
    },
    {
     "name": "stdout",
     "output_type": "stream",
     "text": [
      "40\n",
      "[0.99999461 0.99988468 1.00024691 ... 1.00007846 1.00027307 0.99988523]\n"
     ]
    },
    {
     "name": "stderr",
     "output_type": "stream",
     "text": [
      "No handles with labels found to put in legend.\n"
     ]
    },
    {
     "name": "stdout",
     "output_type": "stream",
     "text": [
      "41\n",
      "[1.00001203 1.00017142 0.9999301  ... 0.99976383 0.99965918 0.99993662]\n"
     ]
    },
    {
     "name": "stderr",
     "output_type": "stream",
     "text": [
      "No handles with labels found to put in legend.\n"
     ]
    },
    {
     "name": "stdout",
     "output_type": "stream",
     "text": [
      "42\n",
      "[1.00030211 1.00007984 1.00017208 ... 0.99985611 0.99947098 0.9995168 ]\n"
     ]
    },
    {
     "name": "stderr",
     "output_type": "stream",
     "text": [
      "No handles with labels found to put in legend.\n"
     ]
    },
    {
     "name": "stdout",
     "output_type": "stream",
     "text": [
      "43\n",
      "[1.00009258 0.99997931 0.99994704 ... 0.9998916  1.00027673 1.00012833]\n"
     ]
    },
    {
     "name": "stderr",
     "output_type": "stream",
     "text": [
      "No handles with labels found to put in legend.\n"
     ]
    },
    {
     "name": "stdout",
     "output_type": "stream",
     "text": [
      "44\n",
      "[1.0001236  1.00013284 1.00043133 ... 1.00034044 1.00021937 0.99995133]\n"
     ]
    },
    {
     "name": "stderr",
     "output_type": "stream",
     "text": [
      "No handles with labels found to put in legend.\n"
     ]
    },
    {
     "name": "stdout",
     "output_type": "stream",
     "text": [
      "45\n",
      "[0.99996024 1.00011482 0.99987364 ... 1.00022999 0.99928841 1.        ]\n"
     ]
    },
    {
     "name": "stderr",
     "output_type": "stream",
     "text": [
      "No handles with labels found to put in legend.\n"
     ]
    },
    {
     "name": "stdout",
     "output_type": "stream",
     "text": [
      "46\n",
      "[1.00002783 1.00039451 1.00019714 ... 1.00022305 0.9999806  1.0000771 ]\n"
     ]
    },
    {
     "name": "stderr",
     "output_type": "stream",
     "text": [
      "No handles with labels found to put in legend.\n"
     ]
    },
    {
     "name": "stdout",
     "output_type": "stream",
     "text": [
      "47\n",
      "[1.00029    1.00041322 0.99997698 ... 1.00005691 0.9998733  1.00000828]\n"
     ]
    },
    {
     "name": "stderr",
     "output_type": "stream",
     "text": [
      "No handles with labels found to put in legend.\n"
     ]
    },
    {
     "name": "stdout",
     "output_type": "stream",
     "text": [
      "48\n",
      "[1.00008388 0.99968996 1.00007799 ... 0.99989874 0.99948756 0.99962794]\n"
     ]
    },
    {
     "name": "stderr",
     "output_type": "stream",
     "text": [
      "No handles with labels found to put in legend.\n"
     ]
    },
    {
     "name": "stdout",
     "output_type": "stream",
     "text": [
      "49\n",
      "[0.99965845 1.00017264 0.99965004 ... 0.99992765 0.99903704 1.00011121]\n"
     ]
    },
    {
     "name": "stderr",
     "output_type": "stream",
     "text": [
      "No handles with labels found to put in legend.\n"
     ]
    },
    {
     "name": "stdout",
     "output_type": "stream",
     "text": [
      "50\n",
      "[1.00040888 0.99985871 0.99998607 ... 0.99982648 1.00024493 1.00008612]\n"
     ]
    },
    {
     "name": "stderr",
     "output_type": "stream",
     "text": [
      "No handles with labels found to put in legend.\n"
     ]
    },
    {
     "name": "stdout",
     "output_type": "stream",
     "text": [
      "51\n",
      "[1.00023356 0.99998983 0.99987703 ... 1.00029961 0.99981137 0.99984099]\n"
     ]
    },
    {
     "name": "stderr",
     "output_type": "stream",
     "text": [
      "No handles with labels found to put in legend.\n"
     ]
    },
    {
     "name": "stdout",
     "output_type": "stream",
     "text": [
      "52\n",
      "[0.99996776 1.00003106 1.00004001 ... 0.99997854 0.99994398 1.00004274]\n"
     ]
    },
    {
     "name": "stderr",
     "output_type": "stream",
     "text": [
      "No handles with labels found to put in legend.\n"
     ]
    },
    {
     "name": "stdout",
     "output_type": "stream",
     "text": [
      "53\n",
      "[0.9996086  1.00011895 0.99975435 ... 0.99989842 0.99974238 0.99990242]\n"
     ]
    },
    {
     "name": "stderr",
     "output_type": "stream",
     "text": [
      "No handles with labels found to put in legend.\n"
     ]
    },
    {
     "name": "stdout",
     "output_type": "stream",
     "text": [
      "54\n",
      "[1.00004342 1.00017648 1.00010343 ... 1.00012557 0.99979035 0.99969362]\n"
     ]
    },
    {
     "name": "stderr",
     "output_type": "stream",
     "text": [
      "No handles with labels found to put in legend.\n"
     ]
    },
    {
     "name": "stdout",
     "output_type": "stream",
     "text": [
      "55\n",
      "[0.99994676 1.00020459 1.0000474  ... 0.99982139 1.00010996 0.99967958]\n"
     ]
    },
    {
     "name": "stderr",
     "output_type": "stream",
     "text": [
      "No handles with labels found to put in legend.\n"
     ]
    },
    {
     "name": "stdout",
     "output_type": "stream",
     "text": [
      "56\n",
      "[1.00026541 1.00037444 1.00003282 ... 0.99934992 0.99917354 0.99912606]\n"
     ]
    },
    {
     "name": "stderr",
     "output_type": "stream",
     "text": [
      "No handles with labels found to put in legend.\n"
     ]
    },
    {
     "name": "stdout",
     "output_type": "stream",
     "text": [
      "57\n",
      "[0.99991141 1.00009534 0.99998996 ... 0.9997354  0.99977789 1.0001552 ]\n"
     ]
    },
    {
     "name": "stderr",
     "output_type": "stream",
     "text": [
      "No handles with labels found to put in legend.\n"
     ]
    },
    {
     "name": "stdout",
     "output_type": "stream",
     "text": [
      "58\n",
      "[1.00015046 0.99999118 1.00001637 ... 0.99996325 0.99992129 1.00015519]\n"
     ]
    },
    {
     "name": "stderr",
     "output_type": "stream",
     "text": [
      "No handles with labels found to put in legend.\n"
     ]
    },
    {
     "name": "stdout",
     "output_type": "stream",
     "text": [
      "59\n",
      "[0.99998924 0.99999981 1.00002546 ... 0.99999802 1.00005912 1.00002405]\n"
     ]
    },
    {
     "name": "stderr",
     "output_type": "stream",
     "text": [
      "No handles with labels found to put in legend.\n"
     ]
    },
    {
     "name": "stdout",
     "output_type": "stream",
     "text": [
      "60\n",
      "[0.99974303 1.00044474 1.00005043 ... 0.99998247 1.00010657 0.9998127 ]\n"
     ]
    },
    {
     "name": "stderr",
     "output_type": "stream",
     "text": [
      "No handles with labels found to put in legend.\n"
     ]
    },
    {
     "name": "stdout",
     "output_type": "stream",
     "text": [
      "61\n",
      "[1.00000059 1.00001592 1.00007942 ... 1.00004431 1.00005546 1.00001733]\n"
     ]
    },
    {
     "name": "stderr",
     "output_type": "stream",
     "text": [
      "No handles with labels found to put in legend.\n"
     ]
    },
    {
     "name": "stdout",
     "output_type": "stream",
     "text": [
      "62\n",
      "[1.00028685 1.00030113 1.00020267 ... 0.99979143 0.99955883 1.00032836]\n"
     ]
    },
    {
     "name": "stderr",
     "output_type": "stream",
     "text": [
      "No handles with labels found to put in legend.\n"
     ]
    },
    {
     "name": "stdout",
     "output_type": "stream",
     "text": [
      "63\n",
      "[0.99997359 0.99983195 0.99998651 ... 1.00049382 1.00000295 1.00026794]\n"
     ]
    },
    {
     "name": "stderr",
     "output_type": "stream",
     "text": [
      "No handles with labels found to put in legend.\n"
     ]
    },
    {
     "name": "stdout",
     "output_type": "stream",
     "text": [
      "64\n",
      "[1.00008826 1.00000719 0.99977245 ... 0.99990054 0.99944083 0.99979516]\n"
     ]
    },
    {
     "name": "stderr",
     "output_type": "stream",
     "text": [
      "No handles with labels found to put in legend.\n"
     ]
    },
    {
     "name": "stdout",
     "output_type": "stream",
     "text": [
      "65\n",
      "[0.99976998 0.99969709 1.00005809 ... 1.00038942 0.99998404 1.00017423]\n"
     ]
    },
    {
     "name": "stderr",
     "output_type": "stream",
     "text": [
      "No handles with labels found to put in legend.\n"
     ]
    },
    {
     "name": "stdout",
     "output_type": "stream",
     "text": [
      "66\n",
      "[1.00022143 1.00014581 0.99996345 ... 0.99977259 1.00001078 0.99965195]\n"
     ]
    },
    {
     "name": "stderr",
     "output_type": "stream",
     "text": [
      "No handles with labels found to put in legend.\n"
     ]
    },
    {
     "name": "stdout",
     "output_type": "stream",
     "text": [
      "67\n",
      "[1.00020702 0.99975382 0.99971758 ... 0.99873189 0.99914167 0.99983574]\n"
     ]
    },
    {
     "name": "stderr",
     "output_type": "stream",
     "text": [
      "No handles with labels found to put in legend.\n"
     ]
    },
    {
     "name": "stdout",
     "output_type": "stream",
     "text": [
      "68\n",
      "[0.99987036 0.99989283 0.99992575 ... 1.00011432 0.99990321 0.99990619]\n"
     ]
    },
    {
     "name": "stderr",
     "output_type": "stream",
     "text": [
      "No handles with labels found to put in legend.\n"
     ]
    },
    {
     "name": "stdout",
     "output_type": "stream",
     "text": [
      "69\n",
      "[0.99997582 1.0005008  0.99974687 ... 0.99897345 0.9996061  1.00008704]\n"
     ]
    },
    {
     "name": "stderr",
     "output_type": "stream",
     "text": [
      "No handles with labels found to put in legend.\n"
     ]
    },
    {
     "name": "stdout",
     "output_type": "stream",
     "text": [
      "70\n",
      "[1.00019551 1.00017978 1.00016129 ... 0.99976005 1.00005706 0.99970273]\n"
     ]
    },
    {
     "name": "stderr",
     "output_type": "stream",
     "text": [
      "No handles with labels found to put in legend.\n"
     ]
    },
    {
     "name": "stdout",
     "output_type": "stream",
     "text": [
      "71\n",
      "[1.0005962  1.00026089 1.00017562 ... 0.99989066 0.9998256  1.00002061]\n"
     ]
    },
    {
     "name": "stderr",
     "output_type": "stream",
     "text": [
      "No handles with labels found to put in legend.\n"
     ]
    },
    {
     "name": "stdout",
     "output_type": "stream",
     "text": [
      "72\n",
      "[0.99987193 1.00021373 0.99966637 ... 1.00009653 0.99971399 1.00000399]\n"
     ]
    },
    {
     "name": "stderr",
     "output_type": "stream",
     "text": [
      "No handles with labels found to put in legend.\n"
     ]
    },
    {
     "name": "stdout",
     "output_type": "stream",
     "text": [
      "73\n",
      "[0.99998278 0.99988614 0.99996521 ... 0.99978997 1.00028831 1.00010829]\n"
     ]
    },
    {
     "name": "stderr",
     "output_type": "stream",
     "text": [
      "No handles with labels found to put in legend.\n"
     ]
    },
    {
     "name": "stdout",
     "output_type": "stream",
     "text": [
      "74\n",
      "[1.00001612 1.00024913 1.00017886 ... 1.00010311 1.00005816 0.9999681 ]\n"
     ]
    },
    {
     "name": "stderr",
     "output_type": "stream",
     "text": [
      "No handles with labels found to put in legend.\n"
     ]
    },
    {
     "name": "stdout",
     "output_type": "stream",
     "text": [
      "75\n",
      "[0.99988571 0.99972395 1.00029446 ... 0.99984567 0.99984182 1.00006098]\n"
     ]
    },
    {
     "name": "stderr",
     "output_type": "stream",
     "text": [
      "No handles with labels found to put in legend.\n"
     ]
    },
    {
     "name": "stdout",
     "output_type": "stream",
     "text": [
      "76\n",
      "[1.00009767 1.00009797 1.00003261 ... 0.99992639 1.00033878 0.99965866]\n"
     ]
    },
    {
     "name": "stderr",
     "output_type": "stream",
     "text": [
      "No handles with labels found to put in legend.\n"
     ]
    },
    {
     "name": "stdout",
     "output_type": "stream",
     "text": [
      "77\n",
      "[0.99964946 0.99945251 0.99991964 ... 1.00035786 1.00012745 0.99969676]\n"
     ]
    },
    {
     "name": "stderr",
     "output_type": "stream",
     "text": [
      "No handles with labels found to put in legend.\n"
     ]
    },
    {
     "name": "stdout",
     "output_type": "stream",
     "text": [
      "78\n",
      "[1.00034544 1.00036748 0.99999855 ... 0.9999434  1.00038332 0.99993453]\n"
     ]
    },
    {
     "name": "stderr",
     "output_type": "stream",
     "text": [
      "No handles with labels found to put in legend.\n"
     ]
    },
    {
     "name": "stdout",
     "output_type": "stream",
     "text": [
      "79\n",
      "[1.00001222 0.99985809 0.99992182 ... 1.00010129 0.99995311 1.00005171]\n"
     ]
    },
    {
     "name": "stderr",
     "output_type": "stream",
     "text": [
      "No handles with labels found to put in legend.\n"
     ]
    },
    {
     "name": "stdout",
     "output_type": "stream",
     "text": [
      "80\n",
      "[0.9999353  0.99999241 0.99995313 ... 1.0000014  0.99998173 0.99994478]\n"
     ]
    },
    {
     "name": "stderr",
     "output_type": "stream",
     "text": [
      "No handles with labels found to put in legend.\n"
     ]
    },
    {
     "name": "stdout",
     "output_type": "stream",
     "text": [
      "81\n",
      "[1.00018955 1.00013781 0.99988823 ... 1.00003019 1.00017062 1.00018775]\n"
     ]
    },
    {
     "name": "stderr",
     "output_type": "stream",
     "text": [
      "No handles with labels found to put in legend.\n"
     ]
    },
    {
     "name": "stdout",
     "output_type": "stream",
     "text": [
      "82\n",
      "[1.00006246 0.99998943 0.99994656 ... 0.99999894 0.99999233 0.99993965]\n"
     ]
    },
    {
     "name": "stderr",
     "output_type": "stream",
     "text": [
      "No handles with labels found to put in legend.\n"
     ]
    },
    {
     "name": "stdout",
     "output_type": "stream",
     "text": [
      "83\n",
      "[0.99998606 0.99977634 1.00004478 ... 1.0002786  1.00002295 0.99997731]\n"
     ]
    },
    {
     "name": "stderr",
     "output_type": "stream",
     "text": [
      "No handles with labels found to put in legend.\n"
     ]
    },
    {
     "name": "stdout",
     "output_type": "stream",
     "text": [
      "84\n",
      "[1.00013507 1.00007167 0.99982471 ... 1.00012449 0.99998354 0.99997145]\n"
     ]
    },
    {
     "name": "stderr",
     "output_type": "stream",
     "text": [
      "No handles with labels found to put in legend.\n"
     ]
    },
    {
     "name": "stdout",
     "output_type": "stream",
     "text": [
      "85\n",
      "[0.99959    0.99996196 0.99980047 ... 1.00003696 0.99992686 0.99972264]\n"
     ]
    },
    {
     "name": "stderr",
     "output_type": "stream",
     "text": [
      "No handles with labels found to put in legend.\n"
     ]
    },
    {
     "name": "stdout",
     "output_type": "stream",
     "text": [
      "86\n",
      "[0.99981118 1.00008026 1.00000348 ... 1.00016009 0.99982614 0.99957814]\n"
     ]
    },
    {
     "name": "stderr",
     "output_type": "stream",
     "text": [
      "No handles with labels found to put in legend.\n"
     ]
    },
    {
     "name": "stdout",
     "output_type": "stream",
     "text": [
      "87\n",
      "[1.00003312 0.99997963 1.00041895 ... 0.99986061 0.99995575 1.00016095]\n"
     ]
    },
    {
     "name": "stderr",
     "output_type": "stream",
     "text": [
      "No handles with labels found to put in legend.\n"
     ]
    },
    {
     "name": "stdout",
     "output_type": "stream",
     "text": [
      "88\n",
      "[0.99987579 1.00027347 0.99943327 ... 1.00057714 1.00093379 1.00055944]\n"
     ]
    },
    {
     "name": "stderr",
     "output_type": "stream",
     "text": [
      "No handles with labels found to put in legend.\n"
     ]
    },
    {
     "name": "stdout",
     "output_type": "stream",
     "text": [
      "89\n",
      "[1.00010688 0.99994002 1.00002368 ... 0.99973579 0.99979308 0.99965302]\n"
     ]
    },
    {
     "name": "stderr",
     "output_type": "stream",
     "text": [
      "No handles with labels found to put in legend.\n"
     ]
    },
    {
     "name": "stdout",
     "output_type": "stream",
     "text": [
      "90\n",
      "[1.00015222 0.99990793 1.00002146 ... 1.0000419  0.9999505  0.99986955]\n"
     ]
    },
    {
     "name": "stderr",
     "output_type": "stream",
     "text": [
      "No handles with labels found to put in legend.\n"
     ]
    },
    {
     "name": "stdout",
     "output_type": "stream",
     "text": [
      "91\n",
      "[0.9998185  1.00039255 1.00038375 ... 1.0007331  0.99922092 0.99880287]\n"
     ]
    },
    {
     "name": "stderr",
     "output_type": "stream",
     "text": [
      "No handles with labels found to put in legend.\n"
     ]
    },
    {
     "name": "stdout",
     "output_type": "stream",
     "text": [
      "92\n",
      "[1.00020733 0.99972659 1.00016231 ... 0.99996282 1.00011676 1.00018994]\n"
     ]
    },
    {
     "name": "stderr",
     "output_type": "stream",
     "text": [
      "No handles with labels found to put in legend.\n"
     ]
    },
    {
     "name": "stdout",
     "output_type": "stream",
     "text": [
      "93\n",
      "[0.99979171 1.00021826 1.0000221  ... 0.99981025 1.00007287 0.99980118]\n"
     ]
    },
    {
     "name": "stderr",
     "output_type": "stream",
     "text": [
      "No handles with labels found to put in legend.\n"
     ]
    },
    {
     "name": "stdout",
     "output_type": "stream",
     "text": [
      "94\n",
      "[1.0000135  0.99992293 1.00010498 ... 0.99997531 0.99941603 0.99964597]\n"
     ]
    },
    {
     "name": "stderr",
     "output_type": "stream",
     "text": [
      "No handles with labels found to put in legend.\n"
     ]
    },
    {
     "name": "stdout",
     "output_type": "stream",
     "text": [
      "95\n",
      "[1.00031221 1.00026302 0.9998763  ... 1.00004744 0.99982909 0.9996516 ]\n"
     ]
    },
    {
     "name": "stderr",
     "output_type": "stream",
     "text": [
      "No handles with labels found to put in legend.\n"
     ]
    },
    {
     "name": "stdout",
     "output_type": "stream",
     "text": [
      "96\n",
      "[0.99977642 0.99977953 0.99996991 ... 1.00023375 0.99977105 0.99981519]\n"
     ]
    },
    {
     "name": "stderr",
     "output_type": "stream",
     "text": [
      "No handles with labels found to put in legend.\n"
     ]
    },
    {
     "name": "stdout",
     "output_type": "stream",
     "text": [
      "97\n",
      "[1.00015803 0.9999468  0.99965813 ... 0.9999     0.99987376 1.00001248]\n"
     ]
    },
    {
     "name": "stderr",
     "output_type": "stream",
     "text": [
      "No handles with labels found to put in legend.\n"
     ]
    },
    {
     "name": "stdout",
     "output_type": "stream",
     "text": [
      "98\n",
      "[0.99977233 1.000331   0.99973723 ... 0.99993431 0.99981906 1.00006848]\n"
     ]
    },
    {
     "name": "stderr",
     "output_type": "stream",
     "text": [
      "No handles with labels found to put in legend.\n"
     ]
    },
    {
     "name": "stdout",
     "output_type": "stream",
     "text": [
      "99\n",
      "[1.00030851 1.00012221 0.9998589  ... 1.0000719  0.99997252 1.00000351]\n"
     ]
    },
    {
     "name": "stderr",
     "output_type": "stream",
     "text": [
      "No handles with labels found to put in legend.\n"
     ]
    },
    {
     "name": "stdout",
     "output_type": "stream",
     "text": [
      "100\n",
      "[0.99985758 0.99991996 1.00028981 ... 1.00003488 0.99973816 1.00029428]\n"
     ]
    },
    {
     "name": "stderr",
     "output_type": "stream",
     "text": [
      "No handles with labels found to put in legend.\n"
     ]
    },
    {
     "name": "stdout",
     "output_type": "stream",
     "text": [
      "101\n",
      "[0.99992237 0.99997648 1.00005941 ... 1.00002157 1.0000072  0.99992315]\n"
     ]
    },
    {
     "name": "stderr",
     "output_type": "stream",
     "text": [
      "No handles with labels found to put in legend.\n"
     ]
    },
    {
     "name": "stdout",
     "output_type": "stream",
     "text": [
      "102\n",
      "[0.99997718 1.00021377 0.99986772 ... 1.00005898 0.99989689 1.00021146]\n"
     ]
    },
    {
     "name": "stderr",
     "output_type": "stream",
     "text": [
      "No handles with labels found to put in legend.\n"
     ]
    },
    {
     "name": "stdout",
     "output_type": "stream",
     "text": [
      "103\n",
      "[1.00010113 0.99964114 0.99955267 ... 0.99985131 0.99996509 0.99964759]\n"
     ]
    },
    {
     "name": "stderr",
     "output_type": "stream",
     "text": [
      "No handles with labels found to put in legend.\n"
     ]
    },
    {
     "name": "stdout",
     "output_type": "stream",
     "text": [
      "104\n",
      "[0.99985807 1.00020036 1.00004584 ... 0.99995846 1.00052546 1.00045386]\n"
     ]
    },
    {
     "name": "stderr",
     "output_type": "stream",
     "text": [
      "No handles with labels found to put in legend.\n"
     ]
    },
    {
     "name": "stdout",
     "output_type": "stream",
     "text": [
      "105\n",
      "[1.00000707 0.99979168 1.00001681 ... 1.00025865 0.99994624 0.99996229]\n"
     ]
    },
    {
     "name": "stderr",
     "output_type": "stream",
     "text": [
      "No handles with labels found to put in legend.\n"
     ]
    },
    {
     "name": "stdout",
     "output_type": "stream",
     "text": [
      "106\n",
      "[1.00011472 0.99990142 1.00005903 ... 1.00021685 1.00032843 0.99987899]\n"
     ]
    },
    {
     "name": "stderr",
     "output_type": "stream",
     "text": [
      "No handles with labels found to put in legend.\n"
     ]
    },
    {
     "name": "stdout",
     "output_type": "stream",
     "text": [
      "107\n",
      "[1.00029029 0.99996292 0.99987673 ... 0.99983773 1.00007261 1.0000478 ]\n"
     ]
    },
    {
     "name": "stderr",
     "output_type": "stream",
     "text": [
      "No handles with labels found to put in legend.\n"
     ]
    },
    {
     "name": "stdout",
     "output_type": "stream",
     "text": [
      "108\n",
      "[1.00011473 0.99980887 1.00002269 ... 0.99996021 1.00027591 0.99992568]\n"
     ]
    },
    {
     "name": "stderr",
     "output_type": "stream",
     "text": [
      "No handles with labels found to put in legend.\n"
     ]
    },
    {
     "name": "stdout",
     "output_type": "stream",
     "text": [
      "109\n",
      "[1.00008858 1.00018424 0.9999252  ... 1.00039827 0.99959183 1.00035821]\n"
     ]
    },
    {
     "name": "stderr",
     "output_type": "stream",
     "text": [
      "No handles with labels found to put in legend.\n"
     ]
    },
    {
     "name": "stdout",
     "output_type": "stream",
     "text": [
      "110\n",
      "[0.99983703 0.99995694 1.0000502  ... 0.99988969 1.00024191 0.99996651]\n"
     ]
    },
    {
     "name": "stderr",
     "output_type": "stream",
     "text": [
      "No handles with labels found to put in legend.\n"
     ]
    },
    {
     "name": "stdout",
     "output_type": "stream",
     "text": [
      "111\n",
      "[0.99957717 0.99979616 0.9995184  ... 1.00001809 1.0002484  0.99976024]\n"
     ]
    },
    {
     "name": "stderr",
     "output_type": "stream",
     "text": [
      "No handles with labels found to put in legend.\n"
     ]
    },
    {
     "name": "stdout",
     "output_type": "stream",
     "text": [
      "112\n",
      "[1.00095768 1.00002275 1.00066019 ... 0.99998752 0.99947229 1.00035868]\n"
     ]
    },
    {
     "name": "stderr",
     "output_type": "stream",
     "text": [
      "No handles with labels found to put in legend.\n"
     ]
    },
    {
     "name": "stdout",
     "output_type": "stream",
     "text": [
      "113\n",
      "[1.00013036 1.00022781 1.00010517 ... 0.99980523 0.9999391  0.99993938]\n"
     ]
    },
    {
     "name": "stderr",
     "output_type": "stream",
     "text": [
      "No handles with labels found to put in legend.\n"
     ]
    },
    {
     "name": "stdout",
     "output_type": "stream",
     "text": [
      "114\n",
      "[0.99995978 0.99976279 0.99980745 ... 1.00010794 0.99993096 1.00001577]\n"
     ]
    },
    {
     "name": "stderr",
     "output_type": "stream",
     "text": [
      "No handles with labels found to put in legend.\n"
     ]
    },
    {
     "name": "stdout",
     "output_type": "stream",
     "text": [
      "115\n",
      "[1.00002862 1.00011535 0.99969191 ... 0.99982268 1.00032853 0.9999901 ]\n"
     ]
    },
    {
     "name": "stderr",
     "output_type": "stream",
     "text": [
      "No handles with labels found to put in legend.\n"
     ]
    },
    {
     "name": "stdout",
     "output_type": "stream",
     "text": [
      "116\n",
      "[0.99978641 0.99964051 1.00013429 ... 1.00026876 0.99998714 0.9997747 ]\n"
     ]
    },
    {
     "name": "stderr",
     "output_type": "stream",
     "text": [
      "No handles with labels found to put in legend.\n"
     ]
    },
    {
     "name": "stdout",
     "output_type": "stream",
     "text": [
      "117\n",
      "[1.00012261 1.0001257  0.99999328 ... 1.00016204 1.00069097 1.00015398]\n"
     ]
    },
    {
     "name": "stderr",
     "output_type": "stream",
     "text": [
      "No handles with labels found to put in legend.\n"
     ]
    },
    {
     "name": "stdout",
     "output_type": "stream",
     "text": [
      "118\n",
      "[0.9999803  1.00036387 0.99993962 ... 0.99930689 0.99987526 0.99965342]\n"
     ]
    },
    {
     "name": "stderr",
     "output_type": "stream",
     "text": [
      "No handles with labels found to put in legend.\n"
     ]
    },
    {
     "name": "stdout",
     "output_type": "stream",
     "text": [
      "119\n",
      "[1.00003727 1.00002799 1.00002437 ... 1.0000278  1.00000921 1.00003987]\n"
     ]
    },
    {
     "name": "stderr",
     "output_type": "stream",
     "text": [
      "No handles with labels found to put in legend.\n"
     ]
    },
    {
     "name": "stdout",
     "output_type": "stream",
     "text": [
      "120\n",
      "[1.00037527 0.99993473 1.00022223 ... 1.00021823 1.00033001 1.00016409]\n"
     ]
    },
    {
     "name": "stderr",
     "output_type": "stream",
     "text": [
      "No handles with labels found to put in legend.\n"
     ]
    },
    {
     "name": "stdout",
     "output_type": "stream",
     "text": [
      "121\n",
      "[0.99991294 0.99973365 0.99987208 ... 1.00010158 0.99973175 0.99985456]\n"
     ]
    },
    {
     "name": "stderr",
     "output_type": "stream",
     "text": [
      "No handles with labels found to put in legend.\n"
     ]
    },
    {
     "name": "stdout",
     "output_type": "stream",
     "text": [
      "122\n",
      "[0.99990745 1.0001851  1.00009167 ... 0.99999727 0.99964907 1.00015321]\n"
     ]
    },
    {
     "name": "stderr",
     "output_type": "stream",
     "text": [
      "No handles with labels found to put in legend.\n"
     ]
    },
    {
     "name": "stdout",
     "output_type": "stream",
     "text": [
      "123\n",
      "[1.0000714  0.99999931 0.99992262 ... 1.00011614 1.00006199 1.00001738]\n"
     ]
    },
    {
     "name": "stderr",
     "output_type": "stream",
     "text": [
      "No handles with labels found to put in legend.\n"
     ]
    },
    {
     "name": "stdout",
     "output_type": "stream",
     "text": [
      "124\n",
      "[1.00015122 1.00040863 1.00009326 ... 1.00025858 0.99980077 1.00051889]\n"
     ]
    },
    {
     "name": "stderr",
     "output_type": "stream",
     "text": [
      "No handles with labels found to put in legend.\n"
     ]
    },
    {
     "name": "stdout",
     "output_type": "stream",
     "text": [
      "125\n",
      "[0.99986567 0.99976068 0.99977696 ... 0.99996536 1.00018747 1.0000054 ]\n"
     ]
    },
    {
     "name": "stderr",
     "output_type": "stream",
     "text": [
      "No handles with labels found to put in legend.\n"
     ]
    },
    {
     "name": "stdout",
     "output_type": "stream",
     "text": [
      "126\n",
      "[0.99995486 1.00001998 1.00011313 ... 1.00058796 1.00026415 0.99964576]\n"
     ]
    },
    {
     "name": "stderr",
     "output_type": "stream",
     "text": [
      "No handles with labels found to put in legend.\n"
     ]
    },
    {
     "name": "stdout",
     "output_type": "stream",
     "text": [
      "127\n",
      "[1.00013296 0.99899008 1.00016152 ... 1.00091184 1.00032107 0.99997994]\n"
     ]
    },
    {
     "name": "stderr",
     "output_type": "stream",
     "text": [
      "No handles with labels found to put in legend.\n"
     ]
    },
    {
     "name": "stdout",
     "output_type": "stream",
     "text": [
      "128\n",
      "[0.99996498 0.99950123 1.00013667 ... 1.0001927  1.00009005 1.00008927]\n"
     ]
    },
    {
     "name": "stderr",
     "output_type": "stream",
     "text": [
      "No handles with labels found to put in legend.\n"
     ]
    },
    {
     "name": "stdout",
     "output_type": "stream",
     "text": [
      "129\n",
      "[0.99969339 0.9998835  0.99985826 ... 1.00012521 0.99953579 0.99962673]\n"
     ]
    },
    {
     "name": "stderr",
     "output_type": "stream",
     "text": [
      "No handles with labels found to put in legend.\n"
     ]
    },
    {
     "name": "stdout",
     "output_type": "stream",
     "text": [
      "130\n",
      "[0.99989654 1.00009638 0.99999878 ... 1.00006361 0.99996843 1.00005293]\n"
     ]
    },
    {
     "name": "stderr",
     "output_type": "stream",
     "text": [
      "No handles with labels found to put in legend.\n"
     ]
    },
    {
     "name": "stdout",
     "output_type": "stream",
     "text": [
      "131\n",
      "[1.0000013  0.99989526 1.00024613 ... 0.99998161 0.99996478 1.00023191]\n"
     ]
    },
    {
     "name": "stderr",
     "output_type": "stream",
     "text": [
      "No handles with labels found to put in legend.\n"
     ]
    },
    {
     "name": "stdout",
     "output_type": "stream",
     "text": [
      "132\n",
      "[0.99983696 0.99982214 0.99979725 ... 1.00018559 0.99941796 0.99954936]\n"
     ]
    },
    {
     "name": "stderr",
     "output_type": "stream",
     "text": [
      "No handles with labels found to put in legend.\n"
     ]
    },
    {
     "name": "stdout",
     "output_type": "stream",
     "text": [
      "133\n",
      "[1.0001119  0.99997952 1.00015587 ... 0.99997278 0.99986376 1.00001676]\n"
     ]
    },
    {
     "name": "stderr",
     "output_type": "stream",
     "text": [
      "No handles with labels found to put in legend.\n"
     ]
    },
    {
     "name": "stdout",
     "output_type": "stream",
     "text": [
      "134\n",
      "[0.99998974 0.99988264 1.00015033 ... 0.9999749  0.99998421 1.00013927]\n"
     ]
    },
    {
     "name": "stderr",
     "output_type": "stream",
     "text": [
      "No handles with labels found to put in legend.\n"
     ]
    },
    {
     "name": "stdout",
     "output_type": "stream",
     "text": [
      "135\n",
      "[0.99982228 0.99996417 0.99985854 ... 1.00007265 0.9999568  1.00008733]\n"
     ]
    },
    {
     "name": "stderr",
     "output_type": "stream",
     "text": [
      "No handles with labels found to put in legend.\n"
     ]
    },
    {
     "name": "stdout",
     "output_type": "stream",
     "text": [
      "136\n",
      "[0.9996413  0.9995823  0.99981567 ... 1.00012463 1.00064334 1.00011723]\n"
     ]
    },
    {
     "name": "stderr",
     "output_type": "stream",
     "text": [
      "No handles with labels found to put in legend.\n"
     ]
    },
    {
     "name": "stdout",
     "output_type": "stream",
     "text": [
      "137\n",
      "[0.99988184 1.00007022 1.00004992 ... 0.99915157 1.00009568 1.00010296]\n"
     ]
    },
    {
     "name": "stderr",
     "output_type": "stream",
     "text": [
      "No handles with labels found to put in legend.\n"
     ]
    },
    {
     "name": "stdout",
     "output_type": "stream",
     "text": [
      "138\n",
      "[1.00003201 1.00027625 0.99967563 ... 0.99999928 1.00003678 0.99980593]\n"
     ]
    },
    {
     "name": "stderr",
     "output_type": "stream",
     "text": [
      "No handles with labels found to put in legend.\n"
     ]
    },
    {
     "name": "stdout",
     "output_type": "stream",
     "text": [
      "139\n",
      "[1.00010683 1.00007207 1.00046834 ... 0.99999346 0.9995344  1.00009462]\n"
     ]
    },
    {
     "name": "stderr",
     "output_type": "stream",
     "text": [
      "No handles with labels found to put in legend.\n"
     ]
    }
   ],
   "source": [
    "# for i in range(0, len(dir_list)):\n",
    "# group 1: 0-22\n",
    "#group 2: \n",
    "for i in range(0, len(dir_list)):\n",
    "    \n",
    "    print(i)\n",
    "    \n",
    "#     print(hsps['kic'].iloc[i])\n",
    "    kic = int(get_numbers_from_filename(dir_list[i]))\n",
    "    kic_index = find_first(int(get_numbers_from_filename(dir_list[i])), all_kics)\n",
    "    run_target2(kic_index, kic)\n",
    "#     run_target(i)"
   ]
  },
  {
   "cell_type": "code",
   "execution_count": null,
   "metadata": {},
   "outputs": [],
   "source": [
    "# for i in range(0, len(hsps)):\n",
    "    \n",
    "#     print(i)\n",
    "    \n",
    "#     print(hsps['kic'].iloc[i])\n",
    "\n",
    "#     run_target(i)"
   ]
  },
  {
   "cell_type": "code",
   "execution_count": null,
   "metadata": {},
   "outputs": [],
   "source": [
    "from PIL import Image\n",
    "\n",
    "# im1 = Image.open(\"/Users/apple/Desktop/bbd.jpg\")\n",
    "# im2 = Image.open(\"/Users/apple/Desktop/bbd1.jpg\")\n",
    "# im3 = Image.open(\"/Users/apple/Desktop/bbd2.jpg\")\n",
    "# im_list = [im2,im3]\n",
    "\n",
    "# pdf1_filename = \"/Users/apple/Desktop/bbd1.pdf\"\n",
    "\n",
    "# i = 0\n",
    "\n",
    "for i in range(22, len(dir_list)):\n",
    "    \n",
    "    print(i)\n",
    "    \n",
    "#     print(hsps['kic'].iloc[i])\n",
    "    kic = int(get_numbers_from_filename(dir_list[i]))\n",
    "    kic_index = find_first(int(get_numbers_from_filename(dir_list[i])), all_kics)\n",
    "#     run_target2(kic_index, kic)\n",
    "    fig_save_dir = os.path.join('/media/rd4/cchen/cchen/kepler_ml_v3/hsp_model_real_results_v2/all_kepler_results/', 'kic_' + str(kic))\n",
    "    fig_save_dir_list = os.listdir(os.path.join('/media/rd3/cchen/cchen/kepler_ml_v3/hsp_model_real_results_v4/all_kepler_results/', 'kic_' + str(kic)))\n",
    "\n",
    "    \n",
    "    ims = []\n",
    "\n",
    "    all_files = []\n",
    "\n",
    "\n",
    "\n",
    "    for f in fig_save_dir_list:\n",
    "         if (f.endswith('.png')):\n",
    "            all_files.append(f)\n",
    "\n",
    "    print(all_files)   \n",
    "\n",
    "\n",
    "    for f in fig_save_dir_list:\n",
    "        if (f.endswith('.png')):\n",
    "            fp = os.path.join(fig_save_dir, f)\n",
    "\n",
    "            if os.path.isfile(fp):\n",
    "\n",
    "                im = Image.open(fp).convert('RGB')\n",
    "\n",
    "            ims.append(im)\n",
    "\n",
    "    print(len(ims))\n",
    "\n",
    "    pdf1_filename = \"/media/rd3/cchen/cchen/kepler_ml_v3/hsp_model_real_results_v2/all_kepler_results/found_peaks_reports/\" + \"kic_\" + str(kic) + \"_all_peaks.pdf\"\n",
    "\n",
    "    if (len(ims) > 2):\n",
    "    \n",
    "        ims[0].save(pdf1_filename, \"PDF\", resolution=100.0, save_all=True, append_images=ims[1:])\n",
    "\n",
    "    del ims\n",
    "    \n",
    "#     run_target(i)\n",
    "\n",
    "# kid = hsps['kic'].iloc[i]\n",
    "\n",
    "\n",
    "# im1.save(pdf1_filename, \"PDF\" ,resolution=100.0, save_all=True, append_images=im_list)\n",
    "\n",
    "# fig_save_dir = os.path.join('/media/rd3/cchen/cchen/kepler_ml_v3/hsp_model_real_results_v2/all_kepler_results/', 'kic_' + str(kid))\n",
    "# fig_save_dir_list = os.listdir(os.path.join('/media/rd3/cchen/cchen/kepler_ml_v3/hsp_model_real_results_v2/all_kepler_results/', 'kic_' + str(kid)))\n",
    "# # dir_list = os.listdir('/media/rd3/cchen/cchen/kepler_ml_v3/norm_lcs/v2/all_kepler/')\n",
    "\n",
    "# ims = []\n",
    "\n",
    "# all_files = []\n",
    "\n",
    "\n",
    "\n",
    "# for f in fig_save_dir_list:\n",
    "#      if (f.endswith('.png')):\n",
    "#         all_files.append(f)\n",
    "\n",
    "# print(all_files)   \n",
    "\n",
    "\n",
    "# for f in fig_save_dir_list:\n",
    "#     if (f.endswith('.png')):\n",
    "#         fp = os.path.join(fig_save_dir, f)\n",
    "\n",
    "#         if os.path.isfile(fp):\n",
    "\n",
    "#             im = Image.open(fp).convert('RGB')\n",
    "\n",
    "#         ims.append(im)\n",
    "\n",
    "# print(len(ims))\n",
    "\n",
    "# pdf1_filename = \"/media/rd3/cchen/cchen/kepler_ml_v3/hsp_model_real_results_v2/found_peaks_reports_all/\" + \"kic_\" + str(kid) + \"_all_peaks.pdf\"\n",
    "\n",
    "# ims[0].save(pdf1_filename, \"PDF\", resolution=100.0, save_all=True, append_images=ims[1:])\n",
    "\n",
    "# del ims\n"
   ]
  }
 ],
 "metadata": {
  "kernelspec": {
   "display_name": "Python 3",
   "language": "python",
   "name": "python3"
  },
  "language_info": {
   "codemirror_mode": {
    "name": "ipython",
    "version": 3
   },
   "file_extension": ".py",
   "mimetype": "text/x-python",
   "name": "python",
   "nbconvert_exporter": "python",
   "pygments_lexer": "ipython3",
   "version": "3.8.3"
  }
 },
 "nbformat": 4,
 "nbformat_minor": 2
}
