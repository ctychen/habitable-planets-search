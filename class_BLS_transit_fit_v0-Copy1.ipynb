{
 "cells": [
  {
   "cell_type": "markdown",
   "metadata": {},
   "source": [
    "# Instructions\n",
    "\n",
    "The overall goal here is to find a Kepler target, get the lightcurve data, clean and normalize the data, then fit the transits. The bolded instructions below are the tasks which require the most human work, while most of the others will just require running the code which automatically performs the task. \n",
    "\n",
    "What needs to be turned in:\n",
    "* This notebook with all of your code work edits\n",
    "* Verify your solved period with a reliable online resource. Show that outsourced period and a link to the source(s). If your period is significantly different (>1 day), attempt to explain why. (you can write all this in the cell below)\n",
    "\n",
    "**The steps:**\n",
    "\n",
    "1) **Find a target star which hosts a giant planet companion which was observed by the Kepler mission**\n",
    "\n",
    "2) Download the lightcurve fits files\n",
    "\n",
    "3) Load the lightcurve data into your code\n",
    "\n",
    "4) Normalize the lightcurve\n",
    "\n",
    "5) Approximate the orbital period and the t0 using the box least squares method (BLS)\n",
    "\n",
    "6) **Approximate the parameters of the transit fit**\n",
    "\n",
    "7) Solve the transit fit using MCMC"
   ]
  },
  {
   "cell_type": "code",
   "execution_count": 1,
   "metadata": {},
   "outputs": [],
   "source": [
    "import numpy as np\n",
    "import matplotlib.pyplot as plt\n",
    "import csaps"
   ]
  },
  {
   "cell_type": "code",
   "execution_count": 2,
   "metadata": {},
   "outputs": [],
   "source": [
    "%matplotlib notebook"
   ]
  },
  {
   "cell_type": "markdown",
   "metadata": {},
   "source": [
    "# Filter and normalization function definitions"
   ]
  },
  {
   "cell_type": "code",
   "execution_count": null,
   "metadata": {},
   "outputs": [],
   "source": [
    "# Takes in spectra\n",
    "def normalize_region(wl, flux, ferr, sds, plot_q=True, ss_smo=1e-3):\n",
    "    \n",
    "    __, gi = stdFiltIt(wl, np.copy(flux), \n",
    "                       np.ones_like(flux), \n",
    "                       sds, smo=ss_smo, plot_q=plot_q)\n",
    "\n",
    "    cont_fit = csaps.UnivariateCubicSmoothingSpline(wl[gi], \n",
    "                                                    flux[gi], \n",
    "                                                    smooth=ss_smo\n",
    "                                                   )(wl)\n",
    "\n",
    "    if plot_q:\n",
    "        \n",
    "        plt.figure(figsize=(10, 5))\n",
    "        plt.plot(wl, flux, '.-k')\n",
    "        plt.plot(wl, cont_fit, '-r')\n",
    "        plt.title('Fit')\n",
    "        plt.xlabel('time')\n",
    "        plt.ylabel('Flux')\n",
    "        \n",
    "        plt.grid(1)\n",
    "        \n",
    "        plt.show()\n",
    "    \n",
    "    #####################################\n",
    "    # Normalize continuum\n",
    "\n",
    "    flux_norm = flux / cont_fit\n",
    "    \n",
    "    ferr_norm = ferr / cont_fit\n",
    "\n",
    "    if plot_q:\n",
    "        \n",
    "        plt.figure(figsize=(10, 5))\n",
    "        #plt.plot(wl, flux_norm, '.-k')\n",
    "        plt.plot(wl, flux_norm, '-', c=[0.5, 0.5, 0.5], linewidth=1, label='Flux')\n",
    "        \n",
    "        if 1:\n",
    "            plt.fill_between(wl, flux_norm - ferr_norm, flux_norm + ferr_norm, \n",
    "                             step='mid', \n",
    "                             color=[0.85, 0.85, 0.85], label='Flux Error')\n",
    "        \n",
    "        plt.axhline(1.0, color='m', linewidth=1, label='Continuum')\n",
    "            \n",
    "        plt.title('Normalized')\n",
    "        \n",
    "        plt.xlabel('time [day]')\n",
    "        plt.ylabel('Flux [ppt]')\n",
    "        \n",
    "        plt.grid(1)\n",
    "        \n",
    "        plt.show()\n",
    "    \n",
    "    return flux_norm, ferr_norm\n",
    "\n",
    "\n",
    "def wlr2ir(wl, wl_bounds):\n",
    "    \n",
    "    line_idx_bnds = [0, 0]\n",
    "\n",
    "    line_idx_bnds[0] = np.argwhere(np.abs(wl - wl_bounds[0]) == np.nanmin(np.abs(wl - wl_bounds[0])))\n",
    "    line_idx_bnds[1] = np.argwhere(np.abs(wl - wl_bounds[1]) == np.nanmin(np.abs(wl - wl_bounds[1])))\n",
    "\n",
    "    # What indicies span within the wavelength bounds?\n",
    "    return np.arange(line_idx_bnds[0], line_idx_bnds[1] + 1)\n",
    "\n",
    "\n",
    "def stdFiltIt(wl, arr_1d, weights_1d, sdms, smo, plot_q):\n",
    "    \n",
    "    if plot_q:\n",
    "        plt.figure(figsize=(10, 5))\n",
    "        plt.title('Filter plot')\n",
    "        plt.plot(wl, arr_1d, '.k')\n",
    "\n",
    "    fit = arr_1d + np.nan\n",
    "    \n",
    "    for sdm in sdms:\n",
    "\n",
    "        gi = np.logical_and(np.isfinite(weights_1d), np.isfinite(arr_1d))\n",
    "        \n",
    "        fit = csaps.UnivariateCubicSmoothingSpline(wl[gi], arr_1d[gi], smooth=smo)(wl)\n",
    "\n",
    "        dy_sd = np.std(arr_1d[gi] - fit[gi]) * sdm\n",
    "\n",
    "        gi = np.logical_and(np.abs(arr_1d - fit) <= dy_sd, gi)\n",
    "\n",
    "        if plot_q:\n",
    "            plt.plot(wl[np.logical_not(gi)], arr_1d[np.logical_not(gi)], 'xr')\n",
    "            plt.plot(wl, fit + dy_sd, ':g')\n",
    "            plt.plot(wl, fit - dy_sd, ':r')\n",
    "            plt.grid(True)\n",
    "\n",
    "        arr_1d[np.logical_not(gi)] = np.nan\n",
    "\n",
    "    if plot_q:\n",
    "        plt.show()\n",
    "\n",
    "    return arr_1d, gi"
   ]
  },
  {
   "cell_type": "markdown",
   "metadata": {},
   "source": [
    "# Load a lightcurve"
   ]
  },
  {
   "cell_type": "code",
   "execution_count": null,
   "metadata": {},
   "outputs": [],
   "source": [
    "from astropy.io import fits\n",
    "from os import listdir\n",
    "\n",
    "#data_dir0 = '/media/etdisk1/kepdata/data/lightcurves/011446443/'\n",
    "data_dir0 = '/media/etdisk1/kepdata/data/lightcurves/005792202/' # http://www.openexoplanetcatalogue.com/planet/Kepler-27%20c/\n",
    "\n",
    "###\n",
    "\n",
    "kid = 3\n",
    "\n",
    "data_dir = data_dir0 + listdir(data_dir0)[kid]\n",
    "\n",
    "hdu = fits.open(data_dir)\n",
    "\n",
    "\n",
    "time = hdu[1].data.field(0)\n",
    "\n",
    "flux = hdu[1].data.field(7)\n",
    "\n",
    "flux_err = hdu[1].data.field(8)\n",
    "\n",
    "\n",
    "import lightkurve as lk\n",
    "\n",
    "lc = lk.LightCurve(time=time[:], flux=flux[:], flux_err=flux_err[:])"
   ]
  },
  {
   "cell_type": "markdown",
   "metadata": {},
   "source": [
    "# Or download a light curve\n",
    "\n",
    "**Search for data of a specific target**"
   ]
  },
  {
   "cell_type": "code",
   "execution_count": null,
   "metadata": {},
   "outputs": [],
   "source": [
    "# target_name = '005792202'\n",
    "\n",
    "target_name = '11812062'\n",
    "\n",
    "#target_name = 'Kepler-432'\n",
    "\n",
    "# target_name = 'Kepler-88'\n",
    "\n",
    "# target_name = 'Kepler-470'"
   ]
  },
  {
   "cell_type": "code",
   "execution_count": null,
   "metadata": {},
   "outputs": [],
   "source": [
    "from lightkurve.search import search_lightcurvefile\n",
    "\n",
    "res = search_lightcurvefile(target_name, radius=None, \n",
    "                            cadence='long', mission=('Kepler', 'K2', 'TESS'), \n",
    "                            quarter=None, month=None, campaign=None, sector=None, limit=10)\n",
    "\n",
    "res"
   ]
  },
  {
   "cell_type": "markdown",
   "metadata": {},
   "source": [
    "**Download the data and stitch all the quartly data together into one light curve**"
   ]
  },
  {
   "cell_type": "code",
   "execution_count": null,
   "metadata": {},
   "outputs": [],
   "source": [
    "#quality bitmask --> \"hard\" --> anything that's not 'good' won't be included in the dataset\n",
    "lc = res.download_all(quality_bitmask='hard')\n",
    "\n",
    "#don't use try-except unless you can't avoid it...you *shouldn't* need it\n",
    "try:\n",
    "    lc = lc.stitch()\n",
    "    #stitches all light cuves together\n",
    "except:\n",
    "    pass\n",
    "\n",
    "lc"
   ]
  },
  {
   "cell_type": "markdown",
   "metadata": {},
   "source": [
    "# Check the size of the data array\n",
    "\n",
    "If the array is over 50,000 elements, the following processes will take a long time. If too long, the processes also might fail due to running out of memory (dependent on how much memory your PC has)."
   ]
  },
  {
   "cell_type": "code",
   "execution_count": null,
   "metadata": {},
   "outputs": [],
   "source": [
    "len(lc.time)"
   ]
  },
  {
   "cell_type": "markdown",
   "metadata": {},
   "source": [
    "If the size of the array is too large, you should bin the data to reduce its size.\n",
    "\n",
    "Binning will combine datapoints to make a smaller dataset.\n",
    "\n",
    "For example, \n",
    "\n",
    "T = [t1, t2, t3, t4, t5, t6, ...]\n",
    "\n",
    "binning T by 2 would combine the elements in T like so,\n",
    "\n",
    "T_binned_by_2 = [mean(t1, t2), mean(t3, t4), mean(t5, t6), ...]\n",
    "\n",
    "such that the bined array has length of len(T) / 2"
   ]
  },
  {
   "cell_type": "code",
   "execution_count": null,
   "metadata": {},
   "outputs": [],
   "source": [
    "if 0: #if too big\n",
    "    lc = lc.bin(binsize=5)"
   ]
  },
  {
   "cell_type": "markdown",
   "metadata": {},
   "source": [
    "# Filter NaN's out of the dataset"
   ]
  },
  {
   "cell_type": "code",
   "execution_count": null,
   "metadata": {},
   "outputs": [],
   "source": [
    "lc = lc.remove_nans()\n",
    "\n",
    "time, flux, flux_err = lc.time, lc.flux, lc.flux_err"
   ]
  },
  {
   "cell_type": "markdown",
   "metadata": {},
   "source": [
    "New array length after binning (if binning enabled)"
   ]
  },
  {
   "cell_type": "code",
   "execution_count": null,
   "metadata": {},
   "outputs": [],
   "source": [
    "len(time)"
   ]
  },
  {
   "cell_type": "markdown",
   "metadata": {},
   "source": [
    "# Plot the original lightcurve data"
   ]
  },
  {
   "cell_type": "code",
   "execution_count": null,
   "metadata": {},
   "outputs": [],
   "source": [
    "plt.figure(figsize=(10, 5))\n",
    "plt.plot(time, flux, '.k')\n",
    "plt.grid(1)\n",
    "plt.show(block=0)\n",
    "plt.xlabel('time [day]')\n",
    "plt.ylabel('flux [ppt]');"
   ]
  },
  {
   "cell_type": "markdown",
   "metadata": {},
   "source": [
    "# Normalize the light curve\n",
    "\n",
    "1st plot shows the results of the iterative standard deviation filter process\n",
    "\n",
    "2nd plot shows the fit\n",
    "\n",
    "3rd plot shows the result of flux normalization\n",
    "\n",
    "\n",
    "This process will likely require you to edit the \"sds\" and/or \"ss_smo\" variables. The sds variable can be a list or a numpy 1D array. It constains the standard deviation multiplier for each iteration of the filter. The length of \"sds\" will set the number of iterations the filter runs. Typically, you want to start with a large multiplier and slowly reduce the multiplier. How high and how low the multiplier should be is dependent on the data. Here are some general rules for choosing the values in sds:\n",
    "\n",
    "* If your data has very large outliers, you need to start with a very large multiplier. If you dont, you risk filtering out large amounts of good data, which is catastrophic.\n",
    "* If your data has very few outliers, you can start with a low multiplier to speed up the process. This is optional and, in general, causes no harm.\n",
    "* You need to CLOSELY look at your filtered data (plot 1) and make sure you are filtering out as much transit data as possible, even if you begin to cut into a small amount of good data! If you see that the filter did not get rid of all transit datapoints, you need to set a lower sds final multiplier\n",
    "* Along the length of your lightcurve you should not be filtrering large amounts of data. If you are, you need to increase the final multiplier value\n",
    "\n",
    "Typically, the optimal values in sds will look similar to this (quick decrease in high values, then slow at the final smaller values):\n",
    "\n",
    "sds = [5, 4, 3, 2.8, 2.5, 2.5]\n",
    "\n",
    "You can manually set sds, or use np.linspace to automatically set the values."
   ]
  },
  {
   "cell_type": "code",
   "execution_count": null,
   "metadata": {
    "scrolled": false
   },
   "outputs": [],
   "source": [
    "#standard deviations, this will control how many loops\n",
    "# it goes through when looping\n",
    "#ex. go from big std.devs to get rid of the huge ouliers, then go through and get smaller ones too\n",
    "#ex. 1.5 to 1.9 to maybe filter out less?\n",
    "#start with bigger value then adjust if needed\n",
    "sds = np.linspace(7, 1.5, 5) \n",
    "\n",
    "flux_norm, ferr_norm = normalize_region(time, \n",
    "                                        flux,          \n",
    "                                        flux_err,      \n",
    "                                        sds,           # Standard deviation multiplier for each iteration of the filter\n",
    "                                        plot_q=True,   # Show filter and fit plots\n",
    "                                        #ss_smo=0.99    # Smoothing spline smooth level\n",
    "                                        ss_smo=0.5    # Smoothing spline smooth level\n",
    "                                       )"
   ]
  },
  {
   "cell_type": "markdown",
   "metadata": {},
   "source": [
    "# Replace the flux and flux error data with the normalized versions we just created"
   ]
  },
  {
   "cell_type": "code",
   "execution_count": null,
   "metadata": {},
   "outputs": [],
   "source": [
    "lc.flux = flux_norm\n",
    "lc.flux_err = ferr_norm"
   ]
  },
  {
   "cell_type": "markdown",
   "metadata": {},
   "source": [
    "# Plot the normalized data\n",
    "\n",
    "You should stop here and closely look at your normalized data to make sure there are no problematic regions where, for example:\n",
    "\n",
    "* normalization was not done propely (seen as longterm curvature) or \n",
    "* transits have been removed due to overfitting with a spline that was too relaxed (hard to tell, but can be seen if you compare to the original data)."
   ]
  },
  {
   "cell_type": "code",
   "execution_count": null,
   "metadata": {},
   "outputs": [],
   "source": [
    "plt.figure(figsize=(10, 5))\n",
    "plt.plot(time, flux_norm, '.k')\n",
    "plt.show()"
   ]
  },
  {
   "cell_type": "code",
   "execution_count": 26,
   "metadata": {},
   "outputs": [],
   "source": [
    "# target_name = '11812062'\n",
    "# target_name = '12644822'\n",
    "# target_name = '6863998'\n",
    "\n",
    "# target_name = '6276477'\n",
    "target_name = '10854555'\n",
    "\n",
    "# kid = 12644822\n",
    "# kid = 11812062"
   ]
  },
  {
   "cell_type": "code",
   "execution_count": 27,
   "metadata": {},
   "outputs": [
    {
     "data": {
      "text/plain": [
       "[<matplotlib.lines.Line2D at 0x7f67ad23adc0>]"
      ]
     },
     "execution_count": 27,
     "metadata": {},
     "output_type": "execute_result"
    },
    {
     "data": {
      "image/png": "[encoded data removed]",
      "text/plain": [
       "<Figure size 432x288 with 1 Axes>"
      ]
     },
     "metadata": {
      "needs_background": "light"
     },
     "output_type": "display_data"
    }
   ],
   "source": [
    "loaded_file = np.load('/media/rd3/cchen/cchen/kepler_ml_v3/norm_lcs/v2/all_kepler/' + str(target_name) + '_filt.npz')\n",
    "timetest =  loaded_file['time']\n",
    "fluxtest =  loaded_file['flux'] \n",
    "\n",
    "plt.figure()\n",
    "plt.plot(timetest, fluxtest, '.k')"
   ]
  },
  {
   "cell_type": "code",
   "execution_count": 29,
   "metadata": {},
   "outputs": [
    {
     "name": "stdout",
     "output_type": "stream",
     "text": [
      "39003\n"
     ]
    }
   ],
   "source": [
    "# realper = 162.52415\n",
    "# realper = 171.63799\n",
    "# realper = 173.25257\n",
    "#realper = 174.4426\n",
    "realper = 188.6452\n",
    "\n",
    "idx = np.argmin(np.abs(realper - np.linspace(100,200,44000)))\n",
    "print(idx)"
   ]
  },
  {
   "cell_type": "code",
   "execution_count": null,
   "metadata": {},
   "outputs": [],
   "source": []
  },
  {
   "cell_type": "markdown",
   "metadata": {},
   "source": [
    "# The box least squares (BLS) function definition"
   ]
  },
  {
   "cell_type": "code",
   "execution_count": 30,
   "metadata": {},
   "outputs": [],
   "source": [
    "def get_per(t, f, per_bounds=[1, 100], zoom_time_wdith=1.0):\n",
    "    \n",
    "    # Use box least squares (BLS) method to find the period and t0 for the transit\n",
    "    \n",
    "    gi = np.isfinite(t + f)\n",
    "    \n",
    "    t = t[gi]\n",
    "    f = f[gi]\n",
    "    \n",
    "    \n",
    "    # https://exoplanet.dfm.io/en/stable/tutorials/together/\n",
    "\n",
    "    from astropy.timeseries import BoxLeastSquares\n",
    "\n",
    "    m = np.zeros(len(t), dtype=bool)\n",
    "    period_grid = np.exp(np.linspace(np.log(per_bounds[0]), np.log(per_bounds[1]), 10000))\n",
    "    bls_results = []\n",
    "    periods = []\n",
    "    t0s = []\n",
    "    depths = []\n",
    "\n",
    "    # Compute the periodogram for each planet by iteratively masking out\n",
    "    # transits from the higher signal to noise planets. Here we're assuming\n",
    "    # that we know that there are exactly two planets.\n",
    "    for i in range(1):\n",
    "        bls = BoxLeastSquares(t[~m], f[~m])\n",
    "        bls_power = bls.power(period_grid, 0.1, oversample=20)\n",
    "        bls_results.append(bls_power)\n",
    "\n",
    "        # Save the highest peak as the planet candidate\n",
    "        index = np.argmax(bls_power.power)\n",
    "        periods.append(bls_power.period[index])\n",
    "        t0s.append(bls_power.transit_time[index])\n",
    "        depths.append(bls_power.depth[index])\n",
    "\n",
    "        # Mask the data points that are in transit for this candidate\n",
    "        #m |= bls.transit_mask(t, periods[-1], 0.5, t0s[-1])\n",
    "        \n",
    "        \n",
    "        \n",
    "    fig, axes = plt.subplots(len(bls_results), 2, figsize=(10, 5))\n",
    "\n",
    "    for i in range(len(bls_results)):\n",
    "        # Plot the periodogram\n",
    "        if len(bls_results) > 1:\n",
    "            ax = axes[i, 0]\n",
    "        else:\n",
    "            ax = axes[0]\n",
    "        ax.axvline(np.log10(periods[i]), color=\"C1\", lw=5, alpha=0.8)\n",
    "        ax.plot(np.log10(bls_results[i].period), bls_results[i].power, \"k\")\n",
    "        ax.annotate(\n",
    "            \"period = {0:.4f} d\".format(periods[i]),\n",
    "            (0, 1),\n",
    "            xycoords=\"axes fraction\",\n",
    "            xytext=(5, -5),\n",
    "            textcoords=\"offset points\",\n",
    "            va=\"top\",\n",
    "            ha=\"left\",\n",
    "            fontsize=12,\n",
    "        )\n",
    "        ax.set_ylabel(\"bls power\")\n",
    "        ax.set_yticks([])\n",
    "        ax.set_xlim(np.log10(period_grid.min()), np.log10(period_grid.max()))\n",
    "        if i < len(bls_results) - 1:\n",
    "            ax.set_xticklabels([])\n",
    "        else:\n",
    "            ax.set_xlabel(\"log10(period)\")\n",
    "\n",
    "        # Plot the folded transit\n",
    "        if len(bls_results) > 1:\n",
    "            ax = axes[i, 1]\n",
    "        else:\n",
    "            ax = axes[1]\n",
    "        p = periods[i]\n",
    "        x_fold = (t - t0s[i] + 0.5 * p) % p - 0.5 * p\n",
    "        m = np.abs(x_fold) < zoom_time_wdith\n",
    "        ax.plot(x_fold[m], f[m], \".k\")\n",
    "\n",
    "        # Overplot the phase binned light curve\n",
    "        bins = np.linspace(-zoom_time_wdith, zoom_time_wdith, np.int64(32/0.4*zoom_time_wdith))\n",
    "        denom, _ = np.histogram(x_fold, bins)\n",
    "        num, _ = np.histogram(x_fold, bins, weights=f)\n",
    "        denom[num == 0] = 1.0\n",
    "        ax.plot(0.5 * (bins[1:] + bins[:-1]), num / denom, color=\"C1\")\n",
    "\n",
    "        ax.set_xlim(-zoom_time_wdith, zoom_time_wdith)\n",
    "        ax.set_ylabel(\"relative flux [ppt]\")\n",
    "        if i < len(bls_results) - 1:\n",
    "            ax.set_xticklabels([])\n",
    "        else:\n",
    "            ax.set_xlabel(\"time since transit\")\n",
    "\n",
    "    fig.subplots_adjust(hspace=0.02)\n",
    "    \n",
    "    return periods[0], t0s[0]"
   ]
  },
  {
   "cell_type": "markdown",
   "metadata": {},
   "source": [
    "# Use box least squares (BLS) method to find the period and t0 for the transit"
   ]
  },
  {
   "cell_type": "code",
   "execution_count": 31,
   "metadata": {},
   "outputs": [
    {
     "data": {
      "image/png": "[encoded data removed]",
      "text/plain": [
       "<Figure size 720x360 with 2 Axes>"
      ]
     },
     "metadata": {
      "needs_background": "light"
     },
     "output_type": "display_data"
    }
   ],
   "source": [
    "p, t0 = get_per(timetest, fluxtest, \n",
    "                per_bounds=[188.64515, 188.64525], # Give a lower and upper bound period for the transit search\n",
    "                zoom_time_wdith=1.0   # Days shown to the left and right of the transit in the left subplot\n",
    "               )"
   ]
  },
  {
   "cell_type": "code",
   "execution_count": null,
   "metadata": {},
   "outputs": [],
   "source": [
    "p = 173.25257\n",
    "p, t0"
   ]
  },
  {
   "cell_type": "markdown",
   "metadata": {},
   "source": [
    "# You can apply binning again if you needed extra data for finding the period and t0 from the BLS routine\n",
    "\n",
    "It is ulikely that you need to apply binning here"
   ]
  },
  {
   "cell_type": "code",
   "execution_count": null,
   "metadata": {},
   "outputs": [],
   "source": [
    "if 0:\n",
    "    \n",
    "    lc = lc.bin(binsize=10)"
   ]
  },
  {
   "cell_type": "markdown",
   "metadata": {},
   "source": [
    "# Function definitions for transit fitting which is solved by the Markov chain Monte Carlo (MCMC) method\n",
    "\n",
    "https://en.wikipedia.org/wiki/Markov_chain_Monte_Carlo"
   ]
  },
  {
   "cell_type": "code",
   "execution_count": 32,
   "metadata": {},
   "outputs": [],
   "source": [
    "import exoplanet as xo\n",
    "import pymc3 as pm\n",
    "\n",
    "def create_mcmc_model(t, f, ferr, pm, ig):\n",
    "    \n",
    "    import pymc3 as pm\n",
    "\n",
    "    with pm.Model() as model:\n",
    "\n",
    "        # The baseline flux (what most of the data is centered around; is it 1.0001 instead of 1.000?)\n",
    "        # Randomly sampled from normal distribution\n",
    "        mean = pm.Normal(\"mean\", mu=ig['cont'], sd=ig['cont_sd'])\n",
    "\n",
    "        # The time of a reference transit for each planet\n",
    "        t0 = pm.Normal(\"t0\", mu=ig['t0'], sd=ig['t0_sd'], shape=1)\n",
    "\n",
    "        # The log period; also tracking the period itself\n",
    "        logP = pm.Normal(\"logP\", mu=np.log(ig['P']), sd=ig['P_sd'], shape=1)\n",
    "        \n",
    "        period = pm.Deterministic(\"period\", pm.math.exp(logP))\n",
    "\n",
    "        # The Kipping (2013) parameterization for quadratic limb darkening paramters\n",
    "        u = xo.distributions.QuadLimbDark(\"u\", testval=np.array([ig['limb_dark_u']]))\n",
    "\n",
    "        r = pm.Uniform(\"r\", lower=ig['r_ratio_lb'], upper=ig['r_ratio_ub'], shape=1, testval=np.array([ig['r_ratio_sv']]))\n",
    "        \n",
    "        b = xo.distributions.ImpactParameter(\"b\", ror=r, shape=1, testval=ig['limb_dark_b'])\n",
    "        \n",
    "        \n",
    "        # \n",
    "        rs = pm.Normal(\"r_star\", mu=ig['r_star'], sd=10.0, shape=1)\n",
    "        #ms = pm.Normal(\"m_star\", mu=ig['m_star'], sd=10.0, shape=1)\n",
    "\n",
    "        # Set up a Keplerian orbit for the planets\n",
    "        #orbit = xo.orbits.KeplerianOrbit(period=period, t0=t0, b=b, r_star=rs, m_star=ms)\n",
    "        orbit = xo.orbits.KeplerianOrbit(period=period, t0=t0, b=b, r_star=rs, m_star=1.0)\n",
    "\n",
    "        # Compute the model light curve using starry\n",
    "        light_curves = xo.LimbDarkLightCurve(u).get_light_curve(orbit=orbit, r=r, t=t)\n",
    "        \n",
    "        light_curve = pm.math.sum(light_curves, axis=-1) + mean\n",
    "\n",
    "        # Here we track the value of the model light curve for plotting purposes\n",
    "        pm.Deterministic(\"light_curves\", light_curves)\n",
    "\n",
    "        # In this line, we simulate the dataset that we will fit\n",
    "        sim = xo.eval_in_model(light_curve)\n",
    "        #sim += yerr * np.random.randn(len(sim))\n",
    "\n",
    "        # The likelihood function assuming known Gaussian uncertainty\n",
    "        pm.Normal(\"obs\", mu=light_curve, sd=ferr, observed=f)\n",
    "\n",
    "        # Fit for the maximum a posteriori parameters given the simuated\n",
    "        # dataset\n",
    "        #input_kwargs = {'tol':1}\n",
    "\n",
    "        map_soln = xo.optimize(start=model.test_point)#, **input_kwargs)\n",
    "\n",
    "            \n",
    "    return model, pm, map_soln, sim\n",
    "\n",
    "\n",
    "def plot_mcmc_model(t, f, ferr, pm, ig, plts):\n",
    "    \n",
    "    import pymc3 as pm\n",
    "    \n",
    "    with pm.Model() as model:\n",
    "\n",
    "        # The baseline flux\n",
    "        mean = pm.Normal(\"mean\", mu=ig['cont'], sd=ig['cont_sd'])\n",
    "\n",
    "        # The time of a reference transit for each planet\n",
    "        t0 = pm.Normal(\"t0\", mu=ig['t0'], sd=ig['t0_sd'], shape=1)\n",
    "\n",
    "        # The log period; also tracking the period itself\n",
    "        logP = pm.Normal(\"logP\", mu=np.log(ig['P']), sd=ig['P_sd'], shape=1)\n",
    "        \n",
    "        period = pm.Deterministic(\"period\", pm.math.exp(logP))\n",
    "\n",
    "        # The Kipping (2013) parameterization for quadratic limb darkening paramters\n",
    "        u = xo.distributions.QuadLimbDark(\"u\", testval=np.array([ig['limb_dark_u']]))\n",
    "\n",
    "        r = pm.Uniform(\"r\", lower=ig['r_ratio_lb'], \n",
    "                       upper=ig['r_ratio_ub'], \n",
    "                       shape=1, \n",
    "                       testval=np.array([ig['r_ratio_sv']]))\n",
    "        \n",
    "        b = xo.distributions.ImpactParameter(\"b\", ror=r, shape=1, testval=ig['limb_dark_b'])\n",
    "        \n",
    "        \n",
    "        # \n",
    "        rs = pm.Normal(\"r_star\", mu=ig['r_star'], sd=10.0, shape=1)\n",
    "        #ms = pm.Normal(\"m_star\", mu=ig['m_star'], sd=10.0, shape=1)\n",
    "\n",
    "        # Set up a Keplerian orbit for the planets\n",
    "        #orbit = xo.orbits.KeplerianOrbit(period=period, t0=t0, b=b, r_star=rs, m_star=ms)\n",
    "        orbit = xo.orbits.KeplerianOrbit(period=period, t0=t0, b=b, r_star=rs, m_star=1.0)\n",
    "\n",
    "        # Compute the model light curve using starry\n",
    "        light_curves = xo.LimbDarkLightCurve(u).get_light_curve(orbit=orbit, r=r, t=t)\n",
    "        \n",
    "        light_curve = pm.math.sum(light_curves, axis=-1) + mean\n",
    "\n",
    "        # Here we track the value of the model light curve for plotting purposes\n",
    "        pm.Deterministic(\"light_curves\", light_curves)\n",
    "\n",
    "        # In this line, we simulate the dataset that we will fit\n",
    "        sim = xo.eval_in_model(light_curve)\n",
    "        \n",
    "        if 1 in plts:\n",
    "            plt.figure(figsize=(5, 5))\n",
    "            plt.plot(t, f, \".k\", ms=4, label=\"data\")\n",
    "            plt.plot(t, sim, lw=1, label=\"companion\")\n",
    "            plt.xlim(t.min(), t.max())\n",
    "            plt.ylabel(\"relative flux\")\n",
    "            plt.xlabel(\"time [days]\")\n",
    "            plt.legend(fontsize=10)\n",
    "            plt.title(\"map model\")\n",
    "        \n",
    "        \n",
    "        if 2 in plts:\n",
    "            plt.figure(figsize=(15, 8))\n",
    "            p = ig['P'][0]\n",
    "            x_fold = (t - ig['t0'] + 0.5 * p) % p - 0.5 * p\n",
    "            plt.errorbar(x_fold, f, yerr=ferr, fmt=\".k\", zorder=-1000)\n",
    "\n",
    "            # Plot the folded model\n",
    "            inds = np.argsort(x_fold)\n",
    "#             inds = inds[np.abs(x_fold)[inds] < 1.6]\n",
    "            inds = inds[np.abs(x_fold)[inds] < 3.6]\n",
    "            #pred = map_soln[\"light_curves\"][inds, n] + map_soln[\"mean\"]\n",
    "            #pred = np.median(pred, axis=0)\n",
    "            plt.plot(x_fold[inds], sim[inds], color=\"m\", label=\"model\")\n",
    "            plt.legend(fontsize=10, loc=4)\n",
    "            #plt.xlim(-0.5 * p, 0.5 * p)\n",
    "            plt.xlabel(\"time since transit [days]\")\n",
    "            plt.ylabel(\"relative flux\")\n",
    "            plt.title(\"KIC\"+ target_name + \" | Candidate period: \" + str(p))\n",
    "#             plt.xlim(-1.6, 1.6)\n",
    "            plt.xlim(-3.6, 3.6)"
   ]
  },
  {
   "cell_type": "markdown",
   "metadata": {},
   "source": [
    "# View our solved period and t0 to make sure they make sense"
   ]
  },
  {
   "cell_type": "code",
   "execution_count": 33,
   "metadata": {},
   "outputs": [
    {
     "data": {
      "text/plain": [
       "(188.64515000000003, 2455172.1906772717)"
      ]
     },
     "execution_count": 33,
     "metadata": {},
     "output_type": "execute_result"
    }
   ],
   "source": [
    "p, t0"
   ]
  },
  {
   "cell_type": "code",
   "execution_count": null,
   "metadata": {},
   "outputs": [],
   "source": [
    "type(p), type(t0)"
   ]
  },
  {
   "cell_type": "code",
   "execution_count": null,
   "metadata": {},
   "outputs": [],
   "source": [
    "type(lc.time[0]), type(lc.flux[0]), type(lc.flux_err[0])"
   ]
  },
  {
   "cell_type": "markdown",
   "metadata": {},
   "source": [
    "# Soving with MCMC reqires us to give good starting guesses for the transit fit\n",
    "\n",
    "Below are all of the values that a proper tranist fit requires. The solve will try to solve these, but since there is so many variables, the solver needs us to give it reasonable starting guesses otherwise it will fail to solve properly. You should play with the cell below, changing the variables as needed until the fit matches the data closely.\n",
    "\n",
    "Below are definitions for the variables and a tip on what alteration of that variable will do. The format is as follows:\n",
    "\n",
    "* Variable Name - definition\n",
    "    * What changing that variable will look like\n",
    "    * Additional info\n",
    "\n",
    "@@@@@@@@@@@@@@@@@@@@@@@@@@@@@@@@@\n",
    "\n",
    "* 'cont' - baseline level. \n",
    "    * The average flux\n",
    "    * Typically 1 since normalization sets it to 1.\n",
    "    \n",
    "    \n",
    "* 'cont_sd' - Continuum standard deviation level. A solver parameter. \n",
    "    * You dont really need to touch this.\n",
    "    \n",
    "    \n",
    "* 't0' - t0 [day]. Was solved in the BLS routine. Use the solved t0 here and add any corrections you need to it\n",
    "    * Move the fit to the left or right\n",
    "    \n",
    "    \n",
    "* 't0_sd' - t0 standard deviation level. A solver parameter. \n",
    "    * You dont really need to touch this.\n",
    "    \n",
    "    \n",
    "* 'P' - orbital period [day]. Was solved in the BLS routine. Use the solved period here.\n",
    "    * Changing this will change the quality of your light curve fold data. \n",
    "    * You probably shouldnt touch this since the solved period from the BLS routine is pretty robust when done correctly\n",
    "    \n",
    "    \n",
    "* 'P_sd' - orbital period standard deviation level.A solver parameter. \n",
    "    * You dont really need to touch this.\n",
    "    \n",
    "    \n",
    "* 'limb_dark_u' - Limb darkening parameter (u)\n",
    "    * Changes the curvature at the edges and center of the transit fit\n",
    "    * Lower values give lower curvature\n",
    "    \n",
    "    \n",
    "* 'limb_dark_b' - Limb darkening parameter (b)\n",
    "    * Changes the transit width\n",
    "    \n",
    "    \n",
    "* 'r_ratio_sv' - radius ratio (r_p / r_sun)\n",
    "    * Changes the transit depth\n",
    "    \n",
    "    \n",
    "* 'r_ratio_lb' - radius ratio lower bound\n",
    "    * The solver wont try radius ratio values lower than this\n",
    "    \n",
    "    \n",
    "* 'r_ratio_ub' - radius ratio upper bound\n",
    "    * The solver wont try radius ratio values higher than this"
   ]
  },
  {
   "cell_type": "code",
   "execution_count": null,
   "metadata": {},
   "outputs": [],
   "source": [
    "%matplotlib inline\n",
    "\n",
    "if 1:\n",
    "    ig = {'cont': 1.0,        # Continuum level\n",
    "          'cont_sd': 1.0,     # Continuum standard deviation level\n",
    "          't0':[t0 + 0.00],   # t0 [day]\n",
    "          't0_sd':1.0,        # t0 standard deviation level\n",
    "          'P':[p],            # period [day]\n",
    "          'P_sd':1.0,         # period standard deviation level\n",
    "          'limb_dark_u':0.195,# LD param - edge curvature \n",
    "          'limb_dark_b':0.6,  # LD param - transit width\n",
    "          'r_ratio_sv':0.06, # radius ratio (r_p / r_sun) - depth of transit\n",
    "          'r_ratio_lb':0.001, # radius ratio lower bound\n",
    "          'r_ratio_ub':1.0,   # radius ratio upper bound\n",
    "          'r_star':1.0,       # radius of primary star\n",
    "          'm_star':1.0}       # mass of primary star\n",
    "\n",
    "    \n",
    "if 0:\n",
    "    ig = {'cont': 1.0,        # Continuum level\n",
    "          'cont_sd': 1.0,     # Continuum standard deviation level\n",
    "          't0':[t0 + 0.00],   # t0 [day]\n",
    "          't0_sd':1.0,        # t0 standard deviation level\n",
    "          'P':[p],            # period [day]\n",
    "          'P_sd':1.0,         # period standard deviation level\n",
    "          'limb_dark_u':0.595,# LD param - edge curvature \n",
    "          'limb_dark_b':0.01,  # LD param - transit width\n",
    "          'r_ratio_sv':0.058, # radius ratio (r_p / r_sun) - depth of transit\n",
    "          'r_ratio_lb':0.001, # radius ratio lower bound\n",
    "          'r_ratio_ub':1.0,   # radius ratio upper bound\n",
    "          'r_star':2.2,       # radius of primary star\n",
    "          'm_star':1.01}       # mass of primary star\n",
    "    \n",
    "    \n",
    "\n",
    "if 0: # K-470\n",
    "    ig = {'cont': 1.0,        # Continuum level\n",
    "          'cont_sd': 1.0,     # Continuum standard deviation level\n",
    "          't0':[t0 + 0.00],   # t0 [day]\n",
    "          't0_sd':1.0,        # t0 standard deviation level\n",
    "          'P':[p],            # period [day]\n",
    "          'P_sd':1.0,         # period standard deviation level\n",
    "          'limb_dark_u':0.595,# LD param - edge curvature \n",
    "          'limb_dark_b':0.0001,  # LD param - transit width\n",
    "          'r_ratio_sv':0.098, # radius ratio (r_p / r_sun) - depth of transit\n",
    "          'r_ratio_lb':0.001, # radius ratio lower bound\n",
    "          'r_ratio_ub':1.0,   # radius ratio upper bound\n",
    "          'r_star':1.2,       # radius of primary star\n",
    "          'm_star':1.01}       # mass of primary star\n",
    "    \n",
    "plot_mcmc_model(timetest, fluxtest, np.std(fluxtest), pm, ig, plts=[2])"
   ]
  },
  {
   "cell_type": "markdown",
   "metadata": {},
   "source": [
    "# Create a model of our transit and do an inital LSQ solve on the parameters to prepare it for the MCMC solver"
   ]
  },
  {
   "cell_type": "code",
   "execution_count": 13,
   "metadata": {
    "scrolled": true
   },
   "outputs": [
    {
     "name": "stderr",
     "output_type": "stream",
     "text": [
      "optimizing logp for variables: [r_star, b, r, u, logP, t0, mean]\n"
     ]
    },
    {
     "data": {
      "application/vnd.jupyter.widget-view+json": {
       "model_id": "a0fb2a6a526042b0ab4d2049766df6f0",
       "version_major": 2,
       "version_minor": 0
      },
      "text/plain": [
       "HBox(children=(FloatProgress(value=1.0, bar_style='info', max=1.0), HTML(value='')))"
      ]
     },
     "metadata": {},
     "output_type": "display_data"
    },
    {
     "name": "stdout",
     "output_type": "stream",
     "text": [
      "\n"
     ]
    },
    {
     "name": "stderr",
     "output_type": "stream",
     "text": [
      "message: Desired error not necessarily achieved due to precision loss.\n",
      "logp: 384746.3964038041 -> 385159.2776504857\n"
     ]
    }
   ],
   "source": [
    "# model, pm, map_soln, f_sim = create_mcmc_model(lc.time, lc.flux, lc.flux_err, pm, ig)\n",
    "\n",
    "model, pm, map_soln, f_sim = create_mcmc_model(timetest, fluxtest, np.std(fluxtest), pm, ig)"
   ]
  },
  {
   "cell_type": "markdown",
   "metadata": {},
   "source": [
    "# Plot definitions"
   ]
  },
  {
   "cell_type": "code",
   "execution_count": 14,
   "metadata": {},
   "outputs": [],
   "source": [
    "def plot_pre_mcmc(t, f, ferr, map_soln):\n",
    "\n",
    "    ###############################################################        \n",
    "\n",
    "    plt.figure(figsize=(7, 5))\n",
    "    plt.plot(t, f-1, \".k\", ms=4, label=\"data\")\n",
    "\n",
    "    #if len(t0s) == 1:\n",
    "    for i, l in enumerate(\"a\"):\n",
    "        plt.plot(t, map_soln[\"light_curves\"][:, i], lw=1, label=\"planet {0}\".format(l))\n",
    "    #else:\n",
    "    #    for i, l in enumerate(\"bc\"):\n",
    "    #        plt.plot(t, map_soln[\"light_curves\"][:, i], lw=1, label=\"planet {0}\".format(l))\n",
    "    plt.xlim(t.min(), t.max())\n",
    "    plt.ylabel(\"relative flux\")\n",
    "    plt.xlabel(\"time [days]\")\n",
    "    plt.legend(fontsize=10)\n",
    "    plt.title(\"KIC\" + target_name + \" map model\")\n",
    "\n",
    "    ###############################################################\n",
    "\n",
    "    \n",
    "    planet_letters = 'a'\n",
    "\n",
    "    for n, letter in enumerate(planet_letters):\n",
    "        plt.figure(figsize=(7, 5))\n",
    "\n",
    "        # Get the posterior median orbital parameters\n",
    "        #if len(t0s) == 1:\n",
    "        p = np.median(map_soln[\"period\"])\n",
    "        t0 = np.median(map_soln[\"t0\"])\n",
    "        #else:\n",
    "        #    p = np.median(map_soln[\"period\"][:, n])\n",
    "        #    t0 = np.median(map_soln[\"t0\"][:, n])\n",
    "            \n",
    "            \n",
    "        print(p, t0)\n",
    "\n",
    "        # Compute the median of posterior estimate of the contribution from\n",
    "        # the other planet. Then we can remove this from the data to plot\n",
    "        # just the planet we care about.\n",
    "        #if len(t0s) == 1:\n",
    "        other = np.median(map_soln[\"light_curves\"][:, 0])\n",
    "        #else:\n",
    "        #    other = np.median(map_soln[\"light_curves\"][:, (n + 1) % 2], axis=0)\n",
    "\n",
    "        # Plot the folded data\n",
    "        x_fold = (t - t0 + 0.5 * p) % p - 0.5 * p\n",
    "        plt.errorbar(x_fold, f - other, yerr=ferr, fmt=\".k\", label=\"data\", zorder=-1000)\n",
    "\n",
    "        # Plot the folded model\n",
    "        inds = np.argsort(x_fold)\n",
    "#         inds = inds[np.abs(x_fold)[inds] < 0.6]\n",
    "        inds = inds[np.abs(x_fold)[inds] < 1.6]\n",
    "        pred = map_soln[\"light_curves\"][inds, n] + map_soln[\"mean\"]\n",
    "        #pred = np.median(pred, axis=0)\n",
    "        plt.plot(x_fold[inds], pred, color=\"C1\", label=\"model\")\n",
    "\n",
    "        # Annotate the plot with the planet's period\n",
    "        txt = \"period = {0:.4f} +/- {1:.4f} d\".format(np.mean(map_soln[\"period\"][n]), \n",
    "                                                      np.std(map_soln[\"period\"][n]))\n",
    "        \n",
    "        plt.annotate(txt,\n",
    "                     (0, 0),\n",
    "                     xycoords=\"axes fraction\",\n",
    "                     xytext=(5, 5),\n",
    "                     textcoords=\"offset points\",\n",
    "                     ha=\"left\",\n",
    "                     va=\"bottom\",\n",
    "                     fontsize=12)\n",
    "\n",
    "        plt.legend(fontsize=10, loc=4)\n",
    "        #plt.xlim(-0.5 * p, 0.5 * p)\n",
    "        plt.xlabel(\"time since transit [days]\")\n",
    "        plt.ylabel(\"relative flux\")\n",
    "        plt.title(\"KIC\" + target_name + \" planet {0}\".format(letter))\n",
    "#         plt.xlim(-0.6, 0.6)\n",
    "        plt.xlim(-1.6, 1.6)"
   ]
  },
  {
   "cell_type": "markdown",
   "metadata": {},
   "source": [
    "# See the LSQ solver results before solving with MCMC\n",
    "\n",
    "If the fit failed here (looks bad), you need to try to give better starting value estimates"
   ]
  },
  {
   "cell_type": "code",
   "execution_count": 15,
   "metadata": {},
   "outputs": [
    {
     "name": "stdout",
     "output_type": "stream",
     "text": [
      "174.4354696072248 2454983.322845282\n"
     ]
    },
    {
     "data": {
      "image/png": "[encoded data removed]",
      "text/plain": [
       "<Figure size 504x360 with 1 Axes>"
      ]
     },
     "metadata": {
      "needs_background": "light"
     },
     "output_type": "display_data"
    },
    {
     "data": {
      "image/png": "[encoded data removed]",
      "text/plain": [
       "<Figure size 504x360 with 1 Axes>"
      ]
     },
     "metadata": {
      "needs_background": "light"
     },
     "output_type": "display_data"
    }
   ],
   "source": [
    "# plot_pre_mcmc(lc.time, lc.flux, lc.flux_err, map_soln)\n",
    "plot_pre_mcmc(timetest, fluxtest, np.std(fluxtest), map_soln)"
   ]
  },
  {
   "cell_type": "markdown",
   "metadata": {},
   "source": [
    "# Solve the transit with the MCMC solver!"
   ]
  },
  {
   "cell_type": "code",
   "execution_count": 16,
   "metadata": {},
   "outputs": [
    {
     "name": "stderr",
     "output_type": "stream",
     "text": [
      "Multiprocess sampling (4 chains in 4 jobs)\n",
      "NUTS: [r_star, b, r, u, logP, t0, mean]\n"
     ]
    },
    {
     "data": {
      "text/html": [
       "\n",
       "    <div>\n",
       "        <style>\n",
       "            /* Turns off some styling */\n",
       "            progress {\n",
       "                /* gets rid of default border in Firefox and Opera. */\n",
       "                border: none;\n",
       "                /* Needs to be in here for Safari polyfill so background images work as expected. */\n",
       "                background-size: auto;\n",
       "            }\n",
       "            .progress-bar-interrupted, .progress-bar-interrupted::-webkit-progress-bar {\n",
       "                background: #F44336;\n",
       "            }\n",
       "        </style>\n",
       "      <progress value='24000' class='' max='24000' style='width:300px; height:20px; vertical-align: middle;'></progress>\n",
       "      100.00% [24000/24000 05:22<00:00 Sampling 4 chains, 10,761 divergences]\n",
       "    </div>\n",
       "    "
      ],
      "text/plain": [
       "<IPython.core.display.HTML object>"
      ]
     },
     "metadata": {},
     "output_type": "display_data"
    },
    {
     "name": "stderr",
     "output_type": "stream",
     "text": [
      "Sampling 4 chains for 3_000 tune and 3_000 draw iterations (12_000 + 12_000 draws total) took 324 seconds.\n",
      "There were 2709 divergences after tuning. Increase `target_accept` or reparameterize.\n",
      "There were 2780 divergences after tuning. Increase `target_accept` or reparameterize.\n",
      "There were 2614 divergences after tuning. Increase `target_accept` or reparameterize.\n",
      "There were 2658 divergences after tuning. Increase `target_accept` or reparameterize.\n",
      "The rhat statistic is larger than 1.05 for some parameters. This indicates slight problems during sampling.\n",
      "The estimated number of effective samples is smaller than 200 for some parameters.\n"
     ]
    }
   ],
   "source": [
    "np.random.seed(42)\n",
    "\n",
    "with model:\n",
    "    trace = pm.sample(tune=3000,\n",
    "                      draws=3000,\n",
    "                      start=map_soln,\n",
    "                      chains=4,\n",
    "                      step=xo.get_dense_nuts_step(target_accept=0.9))"
   ]
  },
  {
   "cell_type": "markdown",
   "metadata": {},
   "source": [
    "# View the results of the solver\n",
    "\n",
    "We can see the \"mean\" (highest likelyhood) and the \"sd\" (uncertainty) of the values we solved"
   ]
  },
  {
   "cell_type": "code",
   "execution_count": 17,
   "metadata": {},
   "outputs": [
    {
     "name": "stderr",
     "output_type": "stream",
     "text": [
      "/opt/anaconda3/bin/arviz/data/io_pymc3.py:87: FutureWarning: Using `from_pymc3` without the model will be deprecated in a future release. Not using the model will return less accurate and less useful results. Make sure you use the model argument or call from_pymc3 within a model context.\n",
      "  warnings.warn(\n"
     ]
    },
    {
     "data": {
      "text/html": [
       "<div>\n",
       "<style scoped>\n",
       "    .dataframe tbody tr th:only-of-type {\n",
       "        vertical-align: middle;\n",
       "    }\n",
       "\n",
       "    .dataframe tbody tr th {\n",
       "        vertical-align: top;\n",
       "    }\n",
       "\n",
       "    .dataframe thead th {\n",
       "        text-align: right;\n",
       "    }\n",
       "</style>\n",
       "<table border=\"1\" class=\"dataframe\">\n",
       "  <thead>\n",
       "    <tr style=\"text-align: right;\">\n",
       "      <th></th>\n",
       "      <th>mean</th>\n",
       "      <th>sd</th>\n",
       "      <th>hdi_3%</th>\n",
       "      <th>hdi_97%</th>\n",
       "      <th>mcse_mean</th>\n",
       "      <th>mcse_sd</th>\n",
       "      <th>ess_mean</th>\n",
       "      <th>ess_sd</th>\n",
       "      <th>ess_bulk</th>\n",
       "      <th>ess_tail</th>\n",
       "      <th>r_hat</th>\n",
       "    </tr>\n",
       "  </thead>\n",
       "  <tbody>\n",
       "    <tr>\n",
       "      <th>r_star[0]</th>\n",
       "      <td>-4.101</td>\n",
       "      <td>9.410</td>\n",
       "      <td>-21.331</td>\n",
       "      <td>15.743</td>\n",
       "      <td>0.387</td>\n",
       "      <td>0.274</td>\n",
       "      <td>592.0</td>\n",
       "      <td>592.0</td>\n",
       "      <td>719.0</td>\n",
       "      <td>782.0</td>\n",
       "      <td>1.00</td>\n",
       "    </tr>\n",
       "    <tr>\n",
       "      <th>period[0]</th>\n",
       "      <td>301.991</td>\n",
       "      <td>306.952</td>\n",
       "      <td>10.395</td>\n",
       "      <td>849.426</td>\n",
       "      <td>62.563</td>\n",
       "      <td>44.786</td>\n",
       "      <td>24.0</td>\n",
       "      <td>24.0</td>\n",
       "      <td>22.0</td>\n",
       "      <td>147.0</td>\n",
       "      <td>1.15</td>\n",
       "    </tr>\n",
       "    <tr>\n",
       "      <th>t0[0]</th>\n",
       "      <td>2454983.316</td>\n",
       "      <td>1.009</td>\n",
       "      <td>2454981.321</td>\n",
       "      <td>2454985.135</td>\n",
       "      <td>0.033</td>\n",
       "      <td>0.023</td>\n",
       "      <td>950.0</td>\n",
       "      <td>950.0</td>\n",
       "      <td>960.0</td>\n",
       "      <td>1231.0</td>\n",
       "      <td>1.00</td>\n",
       "    </tr>\n",
       "    <tr>\n",
       "      <th>r[0]</th>\n",
       "      <td>0.531</td>\n",
       "      <td>0.288</td>\n",
       "      <td>0.070</td>\n",
       "      <td>0.996</td>\n",
       "      <td>0.006</td>\n",
       "      <td>0.004</td>\n",
       "      <td>2191.0</td>\n",
       "      <td>2126.0</td>\n",
       "      <td>2051.0</td>\n",
       "      <td>2336.0</td>\n",
       "      <td>1.00</td>\n",
       "    </tr>\n",
       "    <tr>\n",
       "      <th>b[0]</th>\n",
       "      <td>0.865</td>\n",
       "      <td>0.498</td>\n",
       "      <td>0.000</td>\n",
       "      <td>1.617</td>\n",
       "      <td>0.015</td>\n",
       "      <td>0.011</td>\n",
       "      <td>1105.0</td>\n",
       "      <td>1105.0</td>\n",
       "      <td>1114.0</td>\n",
       "      <td>1380.0</td>\n",
       "      <td>1.00</td>\n",
       "    </tr>\n",
       "    <tr>\n",
       "      <th>u[0]</th>\n",
       "      <td>0.669</td>\n",
       "      <td>0.463</td>\n",
       "      <td>0.000</td>\n",
       "      <td>1.492</td>\n",
       "      <td>0.010</td>\n",
       "      <td>0.007</td>\n",
       "      <td>2080.0</td>\n",
       "      <td>2080.0</td>\n",
       "      <td>1955.0</td>\n",
       "      <td>2550.0</td>\n",
       "      <td>1.00</td>\n",
       "    </tr>\n",
       "    <tr>\n",
       "      <th>u[1]</th>\n",
       "      <td>0.004</td>\n",
       "      <td>0.404</td>\n",
       "      <td>-0.767</td>\n",
       "      <td>0.722</td>\n",
       "      <td>0.009</td>\n",
       "      <td>0.006</td>\n",
       "      <td>2077.0</td>\n",
       "      <td>2077.0</td>\n",
       "      <td>2086.0</td>\n",
       "      <td>3250.0</td>\n",
       "      <td>1.00</td>\n",
       "    </tr>\n",
       "    <tr>\n",
       "      <th>mean</th>\n",
       "      <td>1.000</td>\n",
       "      <td>0.000</td>\n",
       "      <td>1.000</td>\n",
       "      <td>1.000</td>\n",
       "      <td>0.000</td>\n",
       "      <td>0.000</td>\n",
       "      <td>1794.0</td>\n",
       "      <td>1794.0</td>\n",
       "      <td>1801.0</td>\n",
       "      <td>3137.0</td>\n",
       "      <td>1.00</td>\n",
       "    </tr>\n",
       "  </tbody>\n",
       "</table>\n",
       "</div>"
      ],
      "text/plain": [
       "                  mean       sd       hdi_3%      hdi_97%  mcse_mean  mcse_sd  \\\n",
       "r_star[0]       -4.101    9.410      -21.331       15.743      0.387    0.274   \n",
       "period[0]      301.991  306.952       10.395      849.426     62.563   44.786   \n",
       "t0[0]      2454983.316    1.009  2454981.321  2454985.135      0.033    0.023   \n",
       "r[0]             0.531    0.288        0.070        0.996      0.006    0.004   \n",
       "b[0]             0.865    0.498        0.000        1.617      0.015    0.011   \n",
       "u[0]             0.669    0.463        0.000        1.492      0.010    0.007   \n",
       "u[1]             0.004    0.404       -0.767        0.722      0.009    0.006   \n",
       "mean             1.000    0.000        1.000        1.000      0.000    0.000   \n",
       "\n",
       "           ess_mean  ess_sd  ess_bulk  ess_tail  r_hat  \n",
       "r_star[0]     592.0   592.0     719.0     782.0   1.00  \n",
       "period[0]      24.0    24.0      22.0     147.0   1.15  \n",
       "t0[0]         950.0   950.0     960.0    1231.0   1.00  \n",
       "r[0]         2191.0  2126.0    2051.0    2336.0   1.00  \n",
       "b[0]         1105.0  1105.0    1114.0    1380.0   1.00  \n",
       "u[0]         2080.0  2080.0    1955.0    2550.0   1.00  \n",
       "u[1]         2077.0  2077.0    2086.0    3250.0   1.00  \n",
       "mean         1794.0  1794.0    1801.0    3137.0   1.00  "
      ]
     },
     "execution_count": 17,
     "metadata": {},
     "output_type": "execute_result"
    }
   ],
   "source": [
    "mcmc_summary = pm.summary(trace, var_names=['r_star', \"period\", \"t0\", \"r\", \"b\", \"u\", \"mean\"])\n",
    "\n",
    "mcmc_summary"
   ]
  },
  {
   "cell_type": "markdown",
   "metadata": {},
   "source": [
    "# View the probabillity distributions for the solved parameters\n",
    "\n",
    "These plots show probabillity distributions for each parameter and they show likelyhood correlations between each parameter"
   ]
  },
  {
   "cell_type": "code",
   "execution_count": null,
   "metadata": {
    "scrolled": false
   },
   "outputs": [],
   "source": [
    "import corner\n",
    "\n",
    "samples = pm.trace_to_dataframe(trace, varnames=[\"period\", \"r\"])\n",
    "#truth = np.concatenate(xo.eval_in_model([period, r], model.test_point, model=model))\n",
    "\n",
    "figure = corner.corner(samples, labels=[\"period 1\", \"radius 1\"])\n",
    "\n",
    "figure.set_dpi(70)\n",
    "\n",
    "    \n",
    "samples = pm.trace_to_dataframe(trace, varnames=['r_star', 'period', 't0', \"r\", 'b', 'mean'])\n",
    "#truth = np.concatenate(xo.eval_in_model([period, r], model.test_point, model=model))\n",
    "\n",
    "figure = corner.corner(samples, labels=['r_star', 'period 1', 't0', \"radius 1\", 'b', 'mean'])\n",
    "\n",
    "#figure.set_size_inches(8, 8)\n",
    "figure.set_dpi(70)\n",
    "\n",
    "#circle shows likelihood of correlation for period and radius, so center of circle is best fits\n",
    "#it's a nice circle --> strong correlation"
   ]
  },
  {
   "cell_type": "markdown",
   "metadata": {},
   "source": [
    "# Define a function to plot the highest likelyhood parameters as a fit on our data"
   ]
  },
  {
   "cell_type": "code",
   "execution_count": 22,
   "metadata": {},
   "outputs": [],
   "source": [
    "def plot_mcmc_fit(t, f, ferr, trace):\n",
    "\n",
    "    planet_letters = 'a'\n",
    "\n",
    "    for n, letter in enumerate(planet_letters):\n",
    "        plt.figure(figsize=(7, 5))\n",
    "\n",
    "        # Get the posterior median orbital parameters\n",
    "        p = np.median(trace[\"period\"][:, n])\n",
    "        t0 = np.median(trace[\"t0\"][:, n])\n",
    "\n",
    "        # Compute the median of posterior estimate of the contribution from\n",
    "        # the other planet. Then we can remove this from the data to plot\n",
    "        # just the planet we care about.\n",
    "        #if len(t0s) == 1:\n",
    "        other = np.median(trace[\"light_curves\"][:, :, 0])\n",
    "        #else:\n",
    "        #other = np.median(trace[\"light_curves\"][:, :, (n + 1) % 2], axis=0)\n",
    "\n",
    "        # Plot the folded data\n",
    "        x_fold = (t - t0 + 0.5 * p) % p - 0.5 * p\n",
    "        plt.errorbar(x_fold, f - other, yerr=ferr, fmt=\".k\", label=\"data\", zorder=-1000)\n",
    "\n",
    "        # Plot the folded model\n",
    "        inds = np.argsort(x_fold)\n",
    "        inds = inds[np.abs(x_fold)[inds] < 1.6]\n",
    "        pred = trace[\"light_curves\"][:, inds, n] + trace[\"mean\"][:, None]\n",
    "        pred = np.median(pred, axis=0)\n",
    "        plt.plot(x_fold[inds], pred, color=\"C1\", label=\"model\")\n",
    "\n",
    "        # Annotate the plot with the planet's period\n",
    "        txt = \"period = {0:.4f} +/- {1:.4f} d\".format(\n",
    "            np.mean(trace[\"period\"][:, n]), np.std(trace[\"period\"][:, n])\n",
    "        )\n",
    "        plt.annotate(\n",
    "            txt,\n",
    "            (0, 0),\n",
    "            xycoords=\"axes fraction\",\n",
    "            xytext=(5, 5),\n",
    "            textcoords=\"offset points\",\n",
    "            ha=\"left\",\n",
    "            va=\"bottom\",\n",
    "            fontsize=12,\n",
    "        )\n",
    "\n",
    "        plt.legend(fontsize=10, loc=4)\n",
    "        #plt.xlim(-0.5 * p, 0.5 * p)\n",
    "        plt.xlabel(\"time since transit [days]\")\n",
    "        plt.ylabel(\"relative flux\")\n",
    "        plt.title(\"KIC \" + target_name + \" planet {0}\".format(letter))\n",
    "        plt.xlim(-1.6, 1.6)"
   ]
  },
  {
   "cell_type": "markdown",
   "metadata": {},
   "source": [
    "# Plot the best fit for our data"
   ]
  },
  {
   "cell_type": "code",
   "execution_count": 21,
   "metadata": {},
   "outputs": [
    {
     "data": {
      "image/png": "[encoded data removed]",
      "text/plain": [
       "<Figure size 504x360 with 1 Axes>"
      ]
     },
     "metadata": {
      "needs_background": "light"
     },
     "output_type": "display_data"
    }
   ],
   "source": [
    "plot_mcmc_fit(timetest, fluxtest, np.std(fluxtest), trace)\n",
    "\n",
    "#plt.ylim(None, 1+1e-3)"
   ]
  },
  {
   "cell_type": "code",
   "execution_count": null,
   "metadata": {},
   "outputs": [],
   "source": []
  }
 ],
 "metadata": {
  "kernelspec": {
   "display_name": "Python 3",
   "language": "python",
   "name": "python3"
  },
  "language_info": {
   "codemirror_mode": {
    "name": "ipython",
    "version": 3
   },
   "file_extension": ".py",
   "mimetype": "text/x-python",
   "name": "python",
   "nbconvert_exporter": "python",
   "pygments_lexer": "ipython3",
   "version": "3.8.3"
  }
 },
 "nbformat": 4,
 "nbformat_minor": 2
}
